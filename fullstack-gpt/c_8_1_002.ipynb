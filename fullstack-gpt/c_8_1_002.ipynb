{
 "cells": [
  {
   "cell_type": "code",
   "execution_count": 2,
   "metadata": {},
   "outputs": [],
   "source": [
    "from langchain_huggingface import HuggingFaceEndpoint\n",
    "from langchain.prompts import PromptTemplate"
   ]
  },
  {
   "cell_type": "code",
   "execution_count": 3,
   "metadata": {},
   "outputs": [
    {
     "data": {
      "text/plain": [
       "' salad? Potato salad is a dish made from boiled potatoes mixed with a variety of ingredients, such as mayonnaise, mustard, onions, celery, and pickles. The exact ingredients and preparation can vary depending on the region and personal preferences.\\n\\nPotato salad is a popular dish in many countries, and it is often served as a side dish at picnics, barbecues, and other outdoor events. It can also be a main dish, especially in some cultures. In some parts of the world, potato salad is made with vinegar instead of mayonnaise, and it may include other ingredients such as boiled eggs, bacon, or sausage.\\n\\nThe origins of potato salad are not entirely clear, but it is believed to have originated in Europe during the 18th or 19th century. It gained popularity in the United States during the 19th century, and it has since become a staple of American cuisine. Potato salad can be made using a variety of potatoes, including white potatoes, red potatoes, and Yukon Gold potatoes. The choice of potato can affect the texture and flavor of the salad,'"
      ]
     },
     "execution_count": 3,
     "metadata": {},
     "output_type": "execute_result"
    }
   ],
   "source": [
    "prompt = PromptTemplate.from_template(\"What is the meaning of {word}\")\n",
    "\n",
    "llm = HuggingFaceEndpoint(\n",
    "    repo_id=\"mistralai/Mistral-7B-Instruct-v0.3\",\n",
    "    max_new_tokens=250,\n",
    ")\n",
    "\n",
    "chain = prompt | llm\n",
    "\n",
    "chain.invoke({\"word\":\"potato\"})"
   ]
  },
  {
   "cell_type": "code",
   "execution_count": null,
   "metadata": {},
   "outputs": [],
   "source": []
  }
 ],
 "metadata": {
  "kernelspec": {
   "display_name": "env",
   "language": "python",
   "name": "python3"
  },
  "language_info": {
   "codemirror_mode": {
    "name": "ipython",
    "version": 3
   },
   "file_extension": ".py",
   "mimetype": "text/x-python",
   "name": "python",
   "nbconvert_exporter": "python",
   "pygments_lexer": "ipython3",
   "version": "3.12.7"
  }
 },
 "nbformat": 4,
 "nbformat_minor": 2
}
