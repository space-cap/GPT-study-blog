{
 "cells": [
  {
   "cell_type": "markdown",
   "metadata": {},
   "source": [
    "#6.6 RetrievalQA"
   ]
  },
  {
   "cell_type": "code",
   "execution_count": 13,
   "metadata": {},
   "outputs": [],
   "source": [
    "from langchain_google_genai import ChatGoogleGenerativeAI\n",
    "from langsmith import traceable\n",
    "from langchain.document_loaders import TextLoader\n",
    "from langchain.text_splitter import CharacterTextSplitter\n",
    "from langchain_google_genai import GoogleGenerativeAIEmbeddings\n",
    "from langchain.embeddings import CacheBackedEmbeddings\n",
    "from langchain.vectorstores import Chroma\n",
    "from langchain.storage import LocalFileStore\n",
    "from langchain.chains import RetrievalQA\n"
   ]
  },
  {
   "cell_type": "code",
   "execution_count": 17,
   "metadata": {},
   "outputs": [],
   "source": [
    "llm = ChatGoogleGenerativeAI(model=\"gemini-1.5-flash\")\n",
    "\n",
    "cache_dir = LocalFileStore(\"./.cache/\")\n",
    "\n",
    "splitter = CharacterTextSplitter.from_tiktoken_encoder(\n",
    "    separator=\"\\n\",\n",
    "    chunk_size=600,\n",
    "    chunk_overlap=100,\n",
    ")\n",
    "\n",
    "loader = TextLoader(\"./files/chapter_one.txt\")\n",
    "\n",
    "docs = loader.load_and_split(text_splitter=splitter)\n",
    "\n",
    "embeddings = GoogleGenerativeAIEmbeddings(model=\"models/embedding-001\")\n",
    "\n",
    "cached_embeddings = CacheBackedEmbeddings.from_bytes_store(embeddings, cache_dir)\n",
    "\n",
    "vectorstore = Chroma.from_documents(docs, cached_embeddings)\n",
    "\n",
    "@traceable\n",
    "def generate_response(chain, prompt):\n",
    "    return chain.invoke(prompt)\n"
   ]
  },
  {
   "cell_type": "code",
   "execution_count": 15,
   "metadata": {},
   "outputs": [
    {
     "data": {
      "text/plain": [
       "{'query': 'Describe Victory Mansions',\n",
       " 'result': 'Based on the provided text, Victory Mansions is a building with glass doors, hallways that smell of boiled cabbage and old rag mats, and a non-functioning elevator (lift) at least some of the time due to electricity cuts.  Posters depicting a large face of a man with a caption \"BIG BROTHER IS WATCHING YOU\" are located on each landing.  The building has at least seven flights of stairs.\\n'}"
      ]
     },
     "execution_count": 15,
     "metadata": {},
     "output_type": "execute_result"
    }
   ],
   "source": [
    "chain = RetrievalQA.from_chain_type(\n",
    "    llm=llm,\n",
    "    chain_type=\"stuff\",\n",
    "    retriever=vectorstore.as_retriever(),\n",
    ")\n",
    "\n",
    "chain.invoke(\"Describe Victory Mansions\")\n"
   ]
  },
  {
   "cell_type": "code",
   "execution_count": 18,
   "metadata": {},
   "outputs": [
    {
     "data": {
      "text/plain": [
       "{'query': 'Describe Victory Mansions',\n",
       " 'result': 'Victory Mansions, as depicted in the opening chapter of *Nineteen Eighty-Four*, is a decaying apartment building in Oceania, reflecting the Party\\'s control and neglect.  The entrance hall is characterized by unpleasant smells of boiled cabbage and old rag mats.  A large poster of Big Brother dominates each landing, its eyes seemingly following the observer, reinforcing the constant surveillance.  The building\\'s elevator is frequently out of order due to electricity cuts implemented as part of the Party\\'s \"economy drive,\" forcing residents like Winston Smith to climb numerous flights of stairs (seven in Winston\\'s case).  The building\\'s dilapidation and the omnipresent posters of Big Brother underscore the oppressive atmosphere and lack of privacy within Oceania, with telescreens within the apartments further emphasizing this pervasive surveillance.  The building itself is a physical manifestation of the Party\\'s control over its citizens.\\n'}"
      ]
     },
     "execution_count": 18,
     "metadata": {},
     "output_type": "execute_result"
    }
   ],
   "source": [
    "chain = RetrievalQA.from_chain_type(\n",
    "    llm=llm,\n",
    "    chain_type=\"refine\",\n",
    "    retriever=vectorstore.as_retriever(),\n",
    ")\n",
    "\n",
    "generate_response(chain, \"Describe Victory Mansions\")"
   ]
  },
  {
   "cell_type": "code",
   "execution_count": 19,
   "metadata": {},
   "outputs": [
    {
     "data": {
      "text/plain": [
       "{'query': 'Describe Victory Mansions',\n",
       " 'result': \"Victory Mansions is a building with a hallway that smells of boiled cabbage and old rag mats.  A large poster depicting a man's face (described in some excerpts as being over a meter wide, and in others as belonging to a man of about forty-five with a heavy black moustache) is tacked to the hallway wall.  The building has a lift (elevator) that is seldom working, and the electric current is cut off during daylight hours.  The flats are seven flights up, requiring the use of stairs.  Some excerpts mention glass doors.\\n\"}"
      ]
     },
     "execution_count": 19,
     "metadata": {},
     "output_type": "execute_result"
    }
   ],
   "source": [
    "chain = RetrievalQA.from_chain_type(\n",
    "    llm=llm,\n",
    "    chain_type=\"map_reduce\",\n",
    "    retriever=vectorstore.as_retriever(),\n",
    ")\n",
    "\n",
    "generate_response(chain, \"Describe Victory Mansions\")\n"
   ]
  },
  {
   "cell_type": "code",
   "execution_count": null,
   "metadata": {},
   "outputs": [],
   "source": []
  }
 ],
 "metadata": {
  "kernelspec": {
   "display_name": "env",
   "language": "python",
   "name": "python3"
  },
  "language_info": {
   "codemirror_mode": {
    "name": "ipython",
    "version": 3
   },
   "file_extension": ".py",
   "mimetype": "text/x-python",
   "name": "python",
   "nbconvert_exporter": "python",
   "pygments_lexer": "ipython3",
   "version": "3.12.7"
  }
 },
 "nbformat": 4,
 "nbformat_minor": 2
}
