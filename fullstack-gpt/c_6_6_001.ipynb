{
 "cells": [
  {
   "cell_type": "markdown",
   "metadata": {},
   "source": [
    "#6.6 RetrievalQA"
   ]
  },
  {
   "cell_type": "code",
   "execution_count": 6,
   "metadata": {},
   "outputs": [],
   "source": [
    "from langchain_google_genai import ChatGoogleGenerativeAI\n",
    "from langsmith import traceable\n",
    "from langchain.document_loaders import TextLoader\n",
    "from langchain.text_splitter import CharacterTextSplitter\n",
    "from langchain_google_genai import GoogleGenerativeAIEmbeddings\n",
    "from langchain.embeddings import CacheBackedEmbeddings\n",
    "from langchain.vectorstores import Chroma\n",
    "from langchain.storage import LocalFileStore\n",
    "from langchain.chains import RetrievalQA\n"
   ]
  },
  {
   "cell_type": "code",
   "execution_count": 9,
   "metadata": {},
   "outputs": [],
   "source": [
    "llm = ChatGoogleGenerativeAI(model=\"gemini-1.5-flash\")\n",
    "\n",
    "cache_dir = LocalFileStore(\"./.cache/\")\n",
    "\n",
    "splitter = CharacterTextSplitter.from_tiktoken_encoder(\n",
    "    separator=\"\\n\",\n",
    "    chunk_size=600,\n",
    "    chunk_overlap=100,\n",
    ")\n",
    "\n",
    "loader = TextLoader(\"./files/chapter_one.txt\")\n",
    "\n",
    "docs = loader.load_and_split(text_splitter=splitter)\n",
    "\n",
    "embeddings = GoogleGenerativeAIEmbeddings(model=\"models/embedding-001\")\n",
    "\n",
    "cached_embeddings = CacheBackedEmbeddings.from_bytes_store(embeddings, cache_dir)\n",
    "\n",
    "vectorstore = Chroma.from_documents(docs, cached_embeddings)\n",
    "\n",
    "@traceable\n",
    "def generate_response(prompt):\n",
    "    return llm.invoke(prompt)\n"
   ]
  },
  {
   "cell_type": "code",
   "execution_count": 10,
   "metadata": {},
   "outputs": [
    {
     "data": {
      "text/plain": [
       "AIMessage(content=\"Victory Mansions is a fictional location, most notably featured in Agatha Christie's 1940 novel *Ten Little Indians* (also known as *And Then There Were None*).  It's a large, isolated mansion on a remote island off the coast of Devon, England.  \\n\\nThe description emphasizes its imposing and somewhat sinister nature:\\n\\n* **Isolated Location:**  Its remoteness contributes significantly to the claustrophobic and suspenseful atmosphere of the novel.  The inhabitants are completely cut off from the outside world.\\n\\n* **Grand but Decaying:** While initially described as grand and impressive, a sense of neglect and decay permeates the description. This adds to the feeling of unease and impending doom.\\n\\n* **Mysterious History:** Hints of a dark past are suggested, adding to the overall mystery.  The exact nature of this history isn't explicitly detailed, enhancing the suspense.\\n\\n* **Symbolic Significance:**  The mansion itself becomes a symbolic representation of the unfolding events, mirroring the dwindling number of guests and the increasingly desperate situation.  Its isolated location and decaying state reflect the isolation and decay of the characters' lives and moral compasses.\\n\\n\\nIn short, Victory Mansions is more than just a setting; it's a character in the story, contributing significantly to the overall atmosphere and narrative tension.  It's a place of both grandeur and decay, isolation and suspense, perfectly reflecting the events that unfold within its walls.\\n\", additional_kwargs={}, response_metadata={'prompt_feedback': {'block_reason': 0, 'safety_ratings': []}, 'finish_reason': 'STOP', 'safety_ratings': []}, id='run-7bb745c3-5185-4f60-8c88-14f58a191bb8-0', usage_metadata={'input_tokens': 5, 'output_tokens': 297, 'total_tokens': 302, 'input_token_details': {'cache_read': 0}})"
      ]
     },
     "execution_count": 10,
     "metadata": {},
     "output_type": "execute_result"
    }
   ],
   "source": [
    "chain = RetrievalQA.from_chain_type(\n",
    "    llm=llm,\n",
    "    chain_type=\"map_rerank\",\n",
    "    retriever=vectorstore.as_retriever(),\n",
    ")\n",
    "\n",
    "generate_response(\"Describe Victory Mansions\")\n"
   ]
  },
  {
   "cell_type": "code",
   "execution_count": null,
   "metadata": {},
   "outputs": [],
   "source": []
  }
 ],
 "metadata": {
  "kernelspec": {
   "display_name": "env",
   "language": "python",
   "name": "python3"
  },
  "language_info": {
   "codemirror_mode": {
    "name": "ipython",
    "version": 3
   },
   "file_extension": ".py",
   "mimetype": "text/x-python",
   "name": "python",
   "nbconvert_exporter": "python",
   "pygments_lexer": "ipython3",
   "version": "3.12.7"
  }
 },
 "nbformat": 4,
 "nbformat_minor": 2
}
