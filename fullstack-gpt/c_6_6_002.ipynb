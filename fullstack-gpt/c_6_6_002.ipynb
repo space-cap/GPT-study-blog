{
 "cells": [
  {
   "cell_type": "code",
   "execution_count": 3,
   "metadata": {},
   "outputs": [],
   "source": [
    "from langchain_google_genai import ChatGoogleGenerativeAI\n",
    "from langsmith import traceable\n",
    "from langchain.document_loaders import TextLoader\n",
    "from langchain.text_splitter import CharacterTextSplitter\n",
    "from langchain_google_genai import GoogleGenerativeAIEmbeddings\n",
    "from langchain.embeddings import CacheBackedEmbeddings\n",
    "from langchain.vectorstores import FAISS\n",
    "from langchain.storage import LocalFileStore\n",
    "from langchain.chains import RetrievalQA"
   ]
  },
  {
   "cell_type": "code",
   "execution_count": 4,
   "metadata": {},
   "outputs": [],
   "source": [
    "llm = ChatGoogleGenerativeAI(model=\"gemini-1.5-flash\")\n",
    "\n",
    "cache_dir = LocalFileStore(\"./.cache/\")\n",
    "\n",
    "splitter = CharacterTextSplitter.from_tiktoken_encoder(\n",
    "    separator=\"\\n\",\n",
    "    chunk_size=600,\n",
    "    chunk_overlap=100,\n",
    ")\n",
    "\n",
    "loader = TextLoader(\"./files/chapter_one.txt\")\n",
    "\n",
    "docs = loader.load_and_split(text_splitter=splitter)\n",
    "\n",
    "embeddings = GoogleGenerativeAIEmbeddings(model=\"models/embedding-001\")\n",
    "\n",
    "cached_embeddings = CacheBackedEmbeddings.from_bytes_store(embeddings, cache_dir)\n",
    "\n",
    "vectorstore = FAISS.from_documents(docs, cached_embeddings)\n",
    "\n",
    "@traceable\n",
    "def generate_response(chain, prompt):\n",
    "    return chain.invoke(prompt)\n"
   ]
  },
  {
   "cell_type": "markdown",
   "metadata": {},
   "source": [
    "네, AMD Radeon 그래픽 카드에서는 faiss-gpu를 직접 설치하고 사용할 수 없습니다. 그 이유는 다음과 같습니다:\n",
    "\n",
    "1. CUDA 호환성: faiss-gpu는 NVIDIA의 CUDA 기술을 기반으로 합니다. CUDA는 NVIDIA GPU에 특화된 병렬 컴퓨팅 플랫폼으로, AMD GPU와는 호환되지 않습니다[6].\n",
    "\n",
    "2. NVIDIA 전용: faiss-gpu의 GPU 코드는 CUDA로 작성되어 있어 NVIDIA GPU 아키텍처에 최적화되어 있습니다[6].\n",
    "\n",
    "3. 포팅 어려움: faiss-gpu를 AMD GPU에서 사용할 수 있도록 변환하려면 상당한 작업이 필요하며, 코드를 다른 언어로 번역하고 다시 최적화해야 합니다[6].\n",
    "\n",
    "AMD GPU 사용자를 위한 대안:\n",
    "\n",
    "1. CPU 버전 사용: faiss-cpu를 설치하여 CPU에서 faiss를 사용할 수 있습니다[9].\n",
    "\n",
    "2. 대체 라이브러리 고려: AMD GPU에 최적화된 다른 유사한 라이브러리를 찾아볼 수 있습니다.\n",
    "\n",
    "3. ROCm 플랫폼: AMD의 ROCm(Radeon Open Compute) 플랫폼을 사용하여 GPU 가속 컴퓨팅을 수행할 수 있습니다. 하지만 이는 faiss-gpu와 직접적으로 호환되지는 않습니다.\n",
    "\n",
    "결론적으로, AMD Radeon GPU에서는 faiss-gpu를 직접 설치하고 사용할 수 없으며, 대신 CPU 버전을 사용하거나 다른 대안을 고려해야 합니다.\n",
    "\n",
    "Citations:\n",
    "[1] https://stackoverflow.com/questions/78200859/how-can-i-install-faiss-gpu/78205146\n",
    "[2] https://github.com/facebookresearch/faiss/issues/3308\n",
    "[3] https://www.restack.io/p/gpu-computing-answer-installing-faiss-gpu-cat-ai\n",
    "[4] https://myscale.com/blog/installing-faiss-gpu-python-development-guide/\n",
    "[5] https://www.reddit.com/r/learnprogramming/comments/16poenu/can_someone_please_help_me_with_this_problem/\n",
    "[6] https://github.com/facebookresearch/faiss/issues/576\n",
    "[7] https://askubuntu.com/questions/928744/installation-of-ubuntu-16-04-2-lts-error-amd-graphics-card\n",
    "[8] https://www.restack.io/p/faiss-gpu-answer-installing-windows-cat-ai\n",
    "[9] https://pypi.org/project/faiss-cpu/"
   ]
  },
  {
   "cell_type": "code",
   "execution_count": null,
   "metadata": {},
   "outputs": [],
   "source": []
  }
 ],
 "metadata": {
  "kernelspec": {
   "display_name": "env",
   "language": "python",
   "name": "python3"
  },
  "language_info": {
   "codemirror_mode": {
    "name": "ipython",
    "version": 3
   },
   "file_extension": ".py",
   "mimetype": "text/x-python",
   "name": "python",
   "nbconvert_exporter": "python",
   "pygments_lexer": "ipython3",
   "version": "3.12.7"
  }
 },
 "nbformat": 4,
 "nbformat_minor": 2
}
