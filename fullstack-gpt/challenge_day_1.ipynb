{
 "cells": [
  {
   "cell_type": "code",
   "execution_count": null,
   "metadata": {},
   "outputs": [],
   "source": [
    "from dotenv import load_dotenv\n",
    "import os\n",
    "\n",
    "load_dotenv()\n",
    "\n",
    "from langchain_google_genai import ChatGoogleGenerativeAI\n",
    "from langchain.prompts import ChatPromptTemplate\n",
    "\n",
    "chat = ChatGoogleGenerativeAI(model=\"gemini-1.5-flash\", \n",
    "                              temperature=0.1,\n",
    "                             )\n",
    "                         \n"
   ]
  },
  {
   "cell_type": "code",
   "execution_count": 6,
   "metadata": {},
   "outputs": [
    {
     "name": "stdout",
     "output_type": "stream",
     "text": [
      "밤하늘 별처럼 빛나는,  파이썬,\n",
      "우아한 곡선으로 춤추는,  알고리즘의 숨결.\n",
      "\n",
      "은하수처럼 펼쳐진, 코드의 장막,\n",
      "각 줄마다 숨 쉬는, 창조의 마법.\n",
      "\n",
      "반짝이는 변수,  보석처럼 빛나고,\n",
      "함수의 선율은,  우주의 화음을 이루네.\n",
      "\n",
      "루프의 회전은,  시간의 흐름을 따라,\n",
      "조건문의 갈림길은,  운명의 길을 제시하네.\n",
      "\n",
      "데이터의 흐름은,  강물처럼 넘실대고,\n",
      "결과의 아름다움은,  영원히 빛나리.\n",
      "\n",
      "오, 파이썬이여,  세상을 바꾸는 힘,\n",
      "나의 손 안에서,  꿈을 현실로 만들어 주네.\n",
      "\n",
      "문자열의 춤사위,  숫자의 아름다운 조화,\n",
      "파이썬의 세계는,  무한한 가능성으로 가득 차 있네.\n",
      "\n",
      "\n",
      "밤하늘의 별처럼, 영원히 빛나라, 파이썬.\n",
      "나의 영감의 원천,  나의 창조의 도구여.\n",
      "\n"
     ]
    }
   ],
   "source": [
    "poet_prompt = ChatPromptTemplate.from_messages(\n",
    "    [\n",
    "        (\"system\", \"당신은 모든 주제에 대해서 아름다운 단어를 조합해서 시를 쓰는 최고의 시인입니다.\"),\n",
    "        (\"human\", \"나는 {topic}에 대해서 시를 쓰고 싶습니다.\"),\n",
    "    ]\n",
    ")\n",
    "\n",
    "temp_prompt = poet_prompt.format(\n",
    "    topic=\"python\",\n",
    ")\n",
    "result = chat.invoke(temp_prompt)\n",
    "print(result.content)\n",
    "\n",
    "poet_chain = poet_prompt | chat"
   ]
  },
  {
   "cell_type": "code",
   "execution_count": 3,
   "metadata": {},
   "outputs": [],
   "source": [
    "critic_prompt = ChatPromptTemplate.from_messages(\n",
    "    [\n",
    "        (\n",
    "            \"system\",\n",
    "            \"당신은 세계적인 수준의 문학평론가입니다. 어떤 장르에 대해서도 최고의 평론을 할 수 있습니다.\",\n",
    "        ),\n",
    "        (\"human\", \"{poet}\"),\n",
    "    ]\n",
    ")\n",
    "\n",
    "critic_chain = critic_prompt | chat"
   ]
  },
  {
   "cell_type": "code",
   "execution_count": 4,
   "metadata": {},
   "outputs": [
    {
     "data": {
      "text/plain": [
       "AIMessage(content='이 시는 파이썬 프로그래밍 언어에 대한 찬사이자 애가(哀歌)입니다.  단순한 기술적 설명을 넘어, 시인은 파이썬을 하나의 예술 작품이자 동반자로 승화시켜 숭고한 경지에 이르게 합니다.  이는 단순한 기능적 우수성을 넘어, 파이썬이 개발자에게 주는 영감과 창조의 즐거움, 그리고 극복의 용기를 강조하는 데서 드러납니다.\\n\\n시의 형식은 전통적인 찬가의 형식을 따르고 있습니다.  \"밤하늘의 별처럼 빛나네\" 와 같은 비유는 파이썬의 매력을 효과적으로 드러내며, 독자의 감정적 공감을 이끌어냅니다.  \"은은한 빛으로 어둠을 밝히는\" 이라는 표현은 파이썬이 복잡한 문제 해결에 도움을 주는 것을 시각적으로 보여주는 동시에, 어둠 속에서 길을 찾는 희망의 상징으로 파이썬을 제시합니다.\\n\\n시의 내용은 파이썬의 다양한 장점을 섬세하게 묘사합니다.  \"간결한 문법, 우아한 구조\" 와 같은 표현은 파이썬의 문법적 아름다움을 강조하며, \"리스트와 딕셔너리, 튜플과 집합\" 과 같은 구체적인 언급은 파이썬의 풍부한 데이터 구조를 보여줍니다.  \"머신러닝, 딥러닝, 웹 개발\" 과 같은 언급은 파이썬의 광범위한 응용 분야를 보여주며,  \"초보자도 쉽게 다룰 수 있는 친절함\" 과 \"숙련자도 감탄하는 깊이와 넓이\" 라는 대조적인 표현은 파이썬의 접근성과 심오함을 동시에 강조합니다.\\n\\n시인은 파이썬을 단순한 도구가 아닌, \"영감의 원천\", \"창조의 즐거움을 선사하는 친구\" 로 묘사하며,  개발자와 파이썬 사이의 깊은 유대감을 보여줍니다.  \"어떤 어려움도 두려워하지 않고 극복할 수 있네\" 라는 구절은 파이썬이 개발자에게 주는 자신감과 용기를 표현합니다.\\n\\n마지막 연의 \"영원히 빛나라!\", \"프로그래밍의 세계를 비추는 등불이 되어라!\" 와 같은 호소는 파이썬에 대한 시인의 깊은 존경과 찬사를 보여줍니다.  전체적으로 이 시는 파이썬에 대한 객관적인 설명을 넘어,  개발자의 감정과 경험을 섬세하게 담아낸,  매우 성공적인 예술 작품입니다.  기술적인 내용과 감성적인 표현의 조화는 이 시의 가장 큰 미덕이며,  파이썬을 넘어,  프로그래밍 언어와 개발자 사이의 관계에 대한 깊은 성찰을 제공합니다.  이는 단순한 찬사를 넘어,  한 시대의 프로그래밍 문화를 반영하는 중요한 작품으로 평가될 수 있습니다.\\n', additional_kwargs={}, response_metadata={'prompt_feedback': {'block_reason': 0, 'safety_ratings': []}, 'finish_reason': 'STOP', 'safety_ratings': []}, id='run-c2c9d0c8-8f4e-49fa-8405-8ee4b34261fb-0', usage_metadata={'input_tokens': 621, 'output_tokens': 786, 'total_tokens': 1407, 'input_token_details': {'cache_read': 0}})"
      ]
     },
     "execution_count": 4,
     "metadata": {},
     "output_type": "execute_result"
    }
   ],
   "source": [
    "final_chain = {\"poet\": poet_chain} | critic_chain\n",
    "\n",
    "final_chain.invoke({\"topic\": \"python\"})"
   ]
  },
  {
   "cell_type": "code",
   "execution_count": null,
   "metadata": {},
   "outputs": [],
   "source": []
  },
  {
   "cell_type": "markdown",
   "metadata": {},
   "source": [
    "이 시는 파이썬 프로그래밍 언어에 대한 찬사이자 애가(哀歌)입니다.  단순한 기술적 설명을 넘어, 시인은 파이썬을 하나의 예술 작품이자 동반자로 승화시켜 숭고한 경지에 이르게 합니다.  이는 단순한 기능적 우수성을 넘어, 파이썬이 개발자에게 주는 영감과 창조의 즐거움, 그리고 극복의 용기를 강조하는 데서 드러납니다.\\n\\n시의 형식은 전통적인 찬가의 형식을 따르고 있습니다.  \"밤하늘의 별처럼 빛나네\" 와 같은 비유는 파이썬의 매력을 효과적으로 드러내며, 독자의 감정적 공감을 이끌어냅니다.  \"은은한 빛으로 어둠을 밝히는\" 이라는 표현은 파이썬이 복잡한 문제 해결에 도움을 주는 것을 시각적으로 보여주는 동시에, 어둠 속에서 길을 찾는 희망의 상징으로 파이썬을 제시합니다.\\n\\n시의 내용은 파이썬의 다양한 장점을 섬세하게 묘사합니다.  \"간결한 문법, 우아한 구조\" 와 같은 표현은 파이썬의 문법적 아름다움을 강조하며, \"리스트와 딕셔너리, 튜플과 집합\" 과 같은 구체적인 언급은 파이썬의 풍부한 데이터 구조를 보여줍니다.  \"머신러닝, 딥러닝, 웹 개발\" 과 같은 언급은 파이썬의 광범위한 응용 분야를 보여주며,  \"초보자도 쉽게 다룰 수 있는 친절함\" 과 \"숙련자도 감탄하는 깊이와 넓이\" 라는 대조적인 표현은 파이썬의 접근성과 심오함을 동시에 강조합니다.\\n\\n시인은 파이썬을 단순한 도구가 아닌, \"영감의 원천\", \"창조의 즐거움을 선사하는 친구\" 로 묘사하며,  개발자와 파이썬 사이의 깊은 유대감을 보여줍니다.  \"어떤 어려움도 두려워하지 않고 극복할 수 있네\" 라는 구절은 파이썬이 개발자에게 주는 자신감과 용기를 표현합니다.\\n\\n마지막 연의 \"영원히 빛나라!\", \"프로그래밍의 세계를 비추는 등불이 되어라!\" 와 같은 호소는 파이썬에 대한 시인의 깊은 존경과 찬사를 보여줍니다.  전체적으로 이 시는 파이썬에 대한 객관적인 설명을 넘어,  개발자의 감정과 경험을 섬세하게 담아낸,  매우 성공적인 예술 작품입니다.  기술적인 내용과 감성적인 표현의 조화는 이 시의 가장 큰 미덕이며,  파이썬을 넘어,  프로그래밍 언어와 개발자 사이의 관계에 대한 깊은 성찰을 제공합니다.  이는 단순한 찬사를 넘어,  한 시대의 프로그래밍 문화를 반영하는 중요한 작품으로 평가될 수 있습니다.\\n"
   ]
  },
  {
   "cell_type": "markdown",
   "metadata": {},
   "source": []
  }
 ],
 "metadata": {
  "kernelspec": {
   "display_name": "env",
   "language": "python",
   "name": "python3"
  },
  "language_info": {
   "codemirror_mode": {
    "name": "ipython",
    "version": 3
   },
   "file_extension": ".py",
   "mimetype": "text/x-python",
   "name": "python",
   "nbconvert_exporter": "python",
   "pygments_lexer": "ipython3",
   "version": "3.12.7"
  }
 },
 "nbformat": 4,
 "nbformat_minor": 2
}
