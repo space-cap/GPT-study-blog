{
 "cells": [
  {
   "cell_type": "code",
   "execution_count": 5,
   "metadata": {},
   "outputs": [],
   "source": [
    "import os\n",
    "import requests\n",
    "from langchain_google_genai import ChatGoogleGenerativeAI\n",
    "from langchain_google_genai import GoogleGenerativeAIEmbeddings\n",
    "from langchain.tools import StructuredTool\n",
    "from langchain.agents import initialize_agent, AgentType\n",
    "from langchain.tools import StructuredTool, Tool\n",
    "from pydantic import BaseModel, Field\n",
    "from langchain.tools import BaseTool\n",
    "from typing import Any, Type\n",
    "from langchain.utilities import DuckDuckGoSearchAPIWrapper\n",
    "from langchain.agents.agent_toolkits import SQLDatabaseToolkit\n",
    "from langchain.sql_database import SQLDatabase\n",
    "from langchain.agents import create_sql_agent\n",
    "\n",
    "\n",
    "llm = ChatGoogleGenerativeAI(\n",
    "    model=\"gemini-1.5-flash\", \n",
    "    temperature=0.1,\n",
    "    )\n",
    "\n",
    "alpha_vantage_api_key = os.environ.get(\"ALPHA_VANTAGE_API_KEY\")\n"
   ]
  },
  {
   "cell_type": "code",
   "execution_count": 6,
   "metadata": {},
   "outputs": [],
   "source": [
    "db = SQLDatabase.from_uri(\"sqlite:///movies.sqlite\")\n",
    "toolkit = SQLDatabaseToolkit(db=db, llm=llm)\n"
   ]
  },
  {
   "cell_type": "code",
   "execution_count": 7,
   "metadata": {},
   "outputs": [],
   "source": [
    "agent = create_sql_agent(\n",
    "    llm=llm,\n",
    "    toolkit=toolkit,\n",
    "    agent_type=AgentType.OPENAI_FUNCTIONS,\n",
    "    verbose=True,\n",
    ")\n"
   ]
  },
  {
   "cell_type": "code",
   "execution_count": 9,
   "metadata": {},
   "outputs": [
    {
     "name": "stdout",
     "output_type": "stream",
     "text": [
      "\n",
      "\n",
      "\u001b[1m> Entering new SQL Agent Executor chain...\u001b[0m\n",
      "\u001b[32;1m\u001b[1;3m\n",
      "Invoking: `sql_db_list_tables` with `{}`\n",
      "\n",
      "\n",
      "\u001b[0m\u001b[38;5;200m\u001b[1;3mdirectors, movies\u001b[0m\u001b[32;1m\u001b[1;3m\n",
      "Invoking: `sql_db_schema` with `{'table_names': 'movies, directors'}`\n",
      "\n",
      "\n",
      "\u001b[0m\u001b[33;1m\u001b[1;3m\n",
      "CREATE TABLE directors (\n",
      "\tname TEXT, \n",
      "\tid INTEGER, \n",
      "\tgender INTEGER, \n",
      "\tuid INTEGER, \n",
      "\tdepartment TEXT, \n",
      "\tPRIMARY KEY (id)\n",
      ")\n",
      "\n",
      "/*\n",
      "3 rows from directors table:\n",
      "name\tid\tgender\tuid\tdepartment\n",
      "James Cameron\t4762\t2\t2710\tDirecting\n",
      "Gore Verbinski\t4763\t2\t1704\tDirecting\n",
      "Sam Mendes\t4764\t2\t39\tDirecting\n",
      "*/\n",
      "\n",
      "\n",
      "CREATE TABLE movies (\n",
      "\tid INTEGER, \n",
      "\toriginal_title VARCHAR, \n",
      "\tbudget INTEGER, \n",
      "\tpopularity INTEGER, \n",
      "\trelease_date TEXT, \n",
      "\trevenue INTEGER, \n",
      "\ttitle TEXT, \n",
      "\tvote_average REAL, \n",
      "\tvote_count INTEGER, \n",
      "\toverview TEXT, \n",
      "\ttagline TEXT, \n",
      "\tuid INTEGER, \n",
      "\tdirector_id INTEGER DEFAULT 0 NOT NULL, \n",
      "\tPRIMARY KEY (id)\n",
      ")\n",
      "\n",
      "/*\n",
      "3 rows from movies table:\n",
      "id\toriginal_title\tbudget\tpopularity\trelease_date\trevenue\ttitle\tvote_average\tvote_count\toverview\ttagline\tuid\tdirector_id\n",
      "43597\tAvatar\t237000000\t150\t2009-12-10\t2787965087\tAvatar\t7.2\t11800\tIn the 22nd century, a paraplegic Marine is dispatched to the moon Pandora on a unique mission, but \tEnter the World of Pandora.\t19995\t4762\n",
      "43598\tPirates of the Caribbean: At World's End\t300000000\t139\t2007-05-19\t961000000\tPirates of the Caribbean: At World's End\t6.9\t4500\tCaptain Barbossa, long believed to be dead, has come back to life and is headed to the edge of the E\tAt the end of the world, the adventure begins.\t285\t4763\n",
      "43599\tSpectre\t245000000\t107\t2015-10-26\t880674609\tSpectre\t6.3\t4466\tA cryptic message from Bond’s past sends him on a trail to uncover a sinister organization. While M \tA Plan No One Escapes\t206647\t4764\n",
      "*/\u001b[0m\u001b[32;1m\u001b[1;3m\n",
      "Invoking: `sql_db_query` with `{'query': 'SELECT m.title, m.revenue, d.name, m.budget, m.vote_count FROM movies m JOIN directors d ON m.director_id = d.id ORDER BY m.vote_count DESC, m.budget ASC LIMIT 10;'}`\n",
      "responded: 다음은 투표 수는 높지만 예산은 적은 영화 목록입니다. 감독의 이름과 총 수익도 포함되어 있습니다.\n",
      "\n",
      "\n",
      "\n",
      "\u001b[0m\u001b[36;1m\u001b[1;3m[('Inception', 825532764, 'Christopher Nolan', 160000000, 13752), ('The Dark Knight', 1004558444, 'Christopher Nolan', 185000000, 12002), ('Avatar', 2787965087, 'James Cameron', 237000000, 11800), ('The Avengers', 1519557910, 'Joss Whedon', 220000000, 11776), ('Deadpool', 783112979, 'Tim Miller', 58000000, 10995), ('Interstellar', 675120017, 'Christopher Nolan', 165000000, 10867), ('Django Unchained', 425368238, 'Quentin Tarantino', 100000000, 10099), ('Guardians of the Galaxy', 773328629, 'James Gunn', 170000000, 9742), ('The Hunger Games', 691210692, 'Gary Ross', 75000000, 9455), ('Mad Max: Fury Road', 378858340, 'George Miller', 150000000, 9427)]\u001b[0m\u001b[32;1m\u001b[1;3m투표수가 가장 많고 예산이 가장 적은 영화 목록입니다. 감독 이름과 총 수익도 포함되어 있습니다.\n",
      "\n",
      "* **인셉션**: 감독 - 크리스토퍼 놀란, 수익 - 825,532,764 달러, 예산 - 1억 6천만 달러, 투표수 - 13752\n",
      "* **다크 나이트**: 감독 - 크리스토퍼 놀란, 수익 - 1,004,558,444 달러, 예산 - 1억 8천 5백만 달러, 투표수 - 12002\n",
      "* **아바타**: 감독 - 제임스 카메론, 수익 - 2,787,965,087 달러, 예산 - 2억 3천 7백만 달러, 투표수 - 11800\n",
      "* **어벤져스**: 감독 - 조스 웨던, 수익 - 1,519,557,910 달러, 예산 - 2억 2천만 달러, 투표수 - 11776\n",
      "* **데드풀**: 감독 - 팀 밀러, 수익 - 7억 8천 3백 1만 2천 9백 79달러, 예산 - 5천 8백만 달러, 투표수 - 10995\n",
      "* **인터스텔라**: 감독 - 크리스토퍼 놀란, 수익 - 6억 7천 5백 12만 1천 달러, 예산 - 1억 6천 5백만 달러, 투표수 - 10867\n",
      "* **장고: 분노의 추격자**: 감독 - 쿠엔틴 타란티노, 수익 - 4억 2천 5백 36만 8천 2백 38달러, 예산 - 1억 달러, 투표수 - 10099\n",
      "* **가디언즈 오브 갤럭시**: 감독 - 제임스 건, 수익 - 7억 7천 3백 32만 8천 6백 29달러, 예산 - 1억 7천만 달러, 투표수 - 9742\n",
      "* **헝거 게임**: 감독 - 게리 로스, 수익 - 6억 9천 1백 21만 692달러, 예산 - 7천 5백만 달러, 투표수 - 9455\n",
      "* **매드 맥스: 분노의 도로**: 감독 - 조지 밀러, 수익 - 3억 7천 8백 85만 8천 3백 40달러, 예산 - 1억 5천만 달러, 투표수 - 9427\n",
      "\n",
      "\u001b[0m\n",
      "\n",
      "\u001b[1m> Finished chain.\u001b[0m\n"
     ]
    },
    {
     "data": {
      "text/plain": [
       "{'input': 'Give me the movies that have the highest votes but the lowest budgets and give me the name of their directors also include their gross revenue. 한글로 답변해줘.',\n",
       " 'output': '투표수가 가장 많고 예산이 가장 적은 영화 목록입니다. 감독 이름과 총 수익도 포함되어 있습니다.\\n\\n* **인셉션**: 감독 - 크리스토퍼 놀란, 수익 - 825,532,764 달러, 예산 - 1억 6천만 달러, 투표수 - 13752\\n* **다크 나이트**: 감독 - 크리스토퍼 놀란, 수익 - 1,004,558,444 달러, 예산 - 1억 8천 5백만 달러, 투표수 - 12002\\n* **아바타**: 감독 - 제임스 카메론, 수익 - 2,787,965,087 달러, 예산 - 2억 3천 7백만 달러, 투표수 - 11800\\n* **어벤져스**: 감독 - 조스 웨던, 수익 - 1,519,557,910 달러, 예산 - 2억 2천만 달러, 투표수 - 11776\\n* **데드풀**: 감독 - 팀 밀러, 수익 - 7억 8천 3백 1만 2천 9백 79달러, 예산 - 5천 8백만 달러, 투표수 - 10995\\n* **인터스텔라**: 감독 - 크리스토퍼 놀란, 수익 - 6억 7천 5백 12만 1천 달러, 예산 - 1억 6천 5백만 달러, 투표수 - 10867\\n* **장고: 분노의 추격자**: 감독 - 쿠엔틴 타란티노, 수익 - 4억 2천 5백 36만 8천 2백 38달러, 예산 - 1억 달러, 투표수 - 10099\\n* **가디언즈 오브 갤럭시**: 감독 - 제임스 건, 수익 - 7억 7천 3백 32만 8천 6백 29달러, 예산 - 1억 7천만 달러, 투표수 - 9742\\n* **헝거 게임**: 감독 - 게리 로스, 수익 - 6억 9천 1백 21만 692달러, 예산 - 7천 5백만 달러, 투표수 - 9455\\n* **매드 맥스: 분노의 도로**: 감독 - 조지 밀러, 수익 - 3억 7천 8백 85만 8천 3백 40달러, 예산 - 1억 5천만 달러, 투표수 - 9427\\n\\n'}"
      ]
     },
     "execution_count": 9,
     "metadata": {},
     "output_type": "execute_result"
    }
   ],
   "source": [
    "agent.invoke(\n",
    "    \"Give me the movies that have the highest votes but the lowest budgets and give me the name of their directors also include their gross revenue. 한글로 답변해줘.\"\n",
    ")\n"
   ]
  },
  {
   "cell_type": "code",
   "execution_count": null,
   "metadata": {},
   "outputs": [],
   "source": []
  }
 ],
 "metadata": {
  "kernelspec": {
   "display_name": "env",
   "language": "python",
   "name": "python3"
  },
  "language_info": {
   "codemirror_mode": {
    "name": "ipython",
    "version": 3
   },
   "file_extension": ".py",
   "mimetype": "text/x-python",
   "name": "python",
   "nbconvert_exporter": "python",
   "pygments_lexer": "ipython3",
   "version": "3.12.7"
  }
 },
 "nbformat": 4,
 "nbformat_minor": 2
}
