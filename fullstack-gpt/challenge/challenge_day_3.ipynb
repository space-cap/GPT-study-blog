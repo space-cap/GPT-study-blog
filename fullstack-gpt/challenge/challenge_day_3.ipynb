{
 "cells": [
  {
   "cell_type": "code",
   "execution_count": 69,
   "metadata": {},
   "outputs": [],
   "source": [
    "from langchain_google_genai import ChatGoogleGenerativeAI\n",
    "from langchain_core.prompts import PromptTemplate, FewShotPromptTemplate\n",
    "from langchain.memory import ConversationBufferMemory\n",
    "from langchain.chains import LLMChain\n",
    "\n",
    "llm = ChatGoogleGenerativeAI(\n",
    "    model=\"gemini-1.5-flash\",\n",
    "    temperature=0.7,\n",
    ")\n"
   ]
  },
  {
   "cell_type": "code",
   "execution_count": 70,
   "metadata": {},
   "outputs": [],
   "source": [
    "examples = [\n",
    "    {\"movie\": \"탑건\", \"emojis\": \"🛩️👨‍✈️🔥\"},\n",
    "    {\"movie\": \"대부\", \"emojis\": \"👨‍👨‍👦🔫🍝\"},\n",
    "    {\"movie\": \"해리 포터\", \"emojis\": \"🧙‍♂️⚡🦉\"},\n",
    "    {\"movie\": \"타이타닉\", \"emojis\": \"🚢❤️🧊\"},\n",
    "]"
   ]
  },
  {
   "cell_type": "code",
   "execution_count": 71,
   "metadata": {},
   "outputs": [],
   "source": [
    "example_prompt = PromptTemplate(\n",
    "    input_variables=[\"movie\", \"emojis\"],\n",
    "    template=\"영화 제목: {movie}\\n이모티콘: {emojis}\",\n",
    ")\n"
   ]
  },
  {
   "cell_type": "code",
   "execution_count": 72,
   "metadata": {},
   "outputs": [],
   "source": [
    "few_shot_prompt = FewShotPromptTemplate(\n",
    "    examples=examples,\n",
    "    example_prompt=example_prompt,\n",
    "    prefix=\"다음은 영화 제목을 세 개의 이모티콘으로 표현한 예시입니다:\",\n",
    "    suffix=\"영화 제목: {movie}\\n이모티콘:\",\n",
    "    input_variables=[\"movie\"],\n",
    ")\n"
   ]
  },
  {
   "cell_type": "code",
   "execution_count": 73,
   "metadata": {},
   "outputs": [],
   "source": [
    "memory = ConversationBufferMemory(\n",
    "    memory_key=\"chat_history\", \n",
    "    return_messages=True,\n",
    "    )\n"
   ]
  },
  {
   "cell_type": "code",
   "execution_count": 74,
   "metadata": {},
   "outputs": [],
   "source": [
    "chain = LLMChain(\n",
    "    llm=llm,\n",
    "    prompt=few_shot_prompt,\n",
    "    memory=memory,\n",
    "    verbose=True,\n",
    ")\n"
   ]
  },
  {
   "cell_type": "code",
   "execution_count": 75,
   "metadata": {},
   "outputs": [
    {
     "name": "stdout",
     "output_type": "stream",
     "text": [
      "\n",
      "\n",
      "\u001b[1m> Entering new LLMChain chain...\u001b[0m\n",
      "Prompt after formatting:\n",
      "\u001b[32;1m\u001b[1;3m다음은 영화 제목을 세 개의 이모티콘으로 표현한 예시입니다:\n",
      "\n",
      "영화 제목: 탑건\n",
      "이모티콘: 🛩️👨‍✈️🔥\n",
      "\n",
      "영화 제목: 대부\n",
      "이모티콘: 👨‍👨‍👦🔫🍝\n",
      "\n",
      "영화 제목: 해리 포터\n",
      "이모티콘: 🧙‍♂️⚡🦉\n",
      "\n",
      "영화 제목: 타이타닉\n",
      "이모티콘: 🚢❤️🧊\n",
      "\n",
      "영화 제목: 인셉션\n",
      "이모티콘:\u001b[0m\n",
      "\n",
      "\u001b[1m> Finished chain.\u001b[0m\n",
      "인셉션에 대한 이모티콘 표현은 여러 가지가 가능하지만, 몇 가지 예시를 제시하겠습니다.\n",
      "\n",
      "* **🧠🚪🌀**: 꿈, 문(현실과 꿈의 경계), 회전하는 이미지를 나타냅니다.\n",
      "* **😴🤯🗝️**: 잠, 혼란, 핵심(꿈을 조종하는 열쇠)을 나타냅니다.\n",
      "* **🏙️⏳🔗**: 도시, 시간, 연결(꿈 속의 연결)을 나타냅니다.\n",
      "\n",
      "\n",
      "어떤 이모티콘이 가장 적절한지는 개인의 해석에 따라 다를 수 있습니다.\n",
      "\n"
     ]
    }
   ],
   "source": [
    "response1 = chain.run(movie=\"인셉션\")\n",
    "print(response1)\n"
   ]
  },
  {
   "cell_type": "code",
   "execution_count": 76,
   "metadata": {},
   "outputs": [
    {
     "name": "stdout",
     "output_type": "stream",
     "text": [
      "\n",
      "\n",
      "\u001b[1m> Entering new LLMChain chain...\u001b[0m\n",
      "Prompt after formatting:\n",
      "\u001b[32;1m\u001b[1;3m다음은 영화 제목을 세 개의 이모티콘으로 표현한 예시입니다:\n",
      "\n",
      "영화 제목: 탑건\n",
      "이모티콘: 🛩️👨‍✈️🔥\n",
      "\n",
      "영화 제목: 대부\n",
      "이모티콘: 👨‍👨‍👦🔫🍝\n",
      "\n",
      "영화 제목: 해리 포터\n",
      "이모티콘: 🧙‍♂️⚡🦉\n",
      "\n",
      "영화 제목: 타이타닉\n",
      "이모티콘: 🚢❤️🧊\n",
      "\n",
      "영화 제목: 겨울왕국\n",
      "이모티콘:\u001b[0m\n",
      "\n",
      "\u001b[1m> Finished chain.\u001b[0m\n",
      "❄️👸🏼☃️\n",
      "\n"
     ]
    }
   ],
   "source": [
    "response2 = chain.run(movie=\"겨울왕국\")\n",
    "print(response2)"
   ]
  },
  {
   "cell_type": "code",
   "execution_count": 77,
   "metadata": {},
   "outputs": [
    {
     "name": "stdout",
     "output_type": "stream",
     "text": [
      "\n",
      "\n",
      "\u001b[1m> Entering new LLMChain chain...\u001b[0m\n",
      "Prompt after formatting:\n",
      "\u001b[32;1m\u001b[1;3m다음은 영화 제목을 세 개의 이모티콘으로 표현한 예시입니다:\n",
      "\n",
      "영화 제목: 탑건\n",
      "이모티콘: 🛩️👨‍✈️🔥\n",
      "\n",
      "영화 제목: 대부\n",
      "이모티콘: 👨‍👨‍👦🔫🍝\n",
      "\n",
      "영화 제목: 해리 포터\n",
      "이모티콘: 🧙‍♂️⚡🦉\n",
      "\n",
      "영화 제목: 타이타닉\n",
      "이모티콘: 🚢❤️🧊\n",
      "\n",
      "영화 제목: 겨울왕국\n",
      "이모티콘:\u001b[0m\n",
      "\n",
      "\u001b[1m> Finished chain.\u001b[0m\n"
     ]
    },
    {
     "data": {
      "text/plain": [
       "'겨울왕국: ❄️👸🏼☃️\\n'"
      ]
     },
     "execution_count": 77,
     "metadata": {},
     "output_type": "execute_result"
    }
   ],
   "source": [
    "chain.predict(movie=\"겨울왕국\")\n"
   ]
  },
  {
   "cell_type": "code",
   "execution_count": null,
   "metadata": {},
   "outputs": [],
   "source": []
  }
 ],
 "metadata": {
  "kernelspec": {
   "display_name": "env",
   "language": "python",
   "name": "python3"
  },
  "language_info": {
   "codemirror_mode": {
    "name": "ipython",
    "version": 3
   },
   "file_extension": ".py",
   "mimetype": "text/x-python",
   "name": "python",
   "nbconvert_exporter": "python",
   "pygments_lexer": "ipython3",
   "version": "3.12.7"
  }
 },
 "nbformat": 4,
 "nbformat_minor": 2
}
