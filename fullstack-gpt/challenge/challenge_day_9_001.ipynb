{
 "cells": [
  {
   "cell_type": "code",
   "execution_count": 33,
   "metadata": {},
   "outputs": [],
   "source": [
    "import os\n",
    "import requests\n",
    "from langchain_google_genai import ChatGoogleGenerativeAI\n",
    "from langchain_google_genai import GoogleGenerativeAIEmbeddings\n",
    "from langchain.tools import StructuredTool\n",
    "from langchain.agents import initialize_agent, AgentType\n",
    "from langchain.tools import StructuredTool, Tool\n",
    "from pydantic import BaseModel, Field\n",
    "from langchain.tools import BaseTool\n",
    "from typing import Any, Type\n",
    "from langchain.utilities import DuckDuckGoSearchAPIWrapper\n",
    "from langchain.utilities import WikipediaAPIWrapper\n",
    "from langchain_community.tools.ddg_search.tool import DuckDuckGoSearchRun\n",
    "from langchain.agents.agent_toolkits import SQLDatabaseToolkit\n",
    "from langchain.sql_database import SQLDatabase\n",
    "from langchain.agents import create_sql_agent\n",
    "from fake_useragent import UserAgent\n",
    "\n",
    "llm = ChatGoogleGenerativeAI(\n",
    "    model=\"gemini-1.5-flash\", \n",
    "    temperature=0.1,\n",
    "    )\n"
   ]
  },
  {
   "cell_type": "code",
   "execution_count": 34,
   "metadata": {},
   "outputs": [],
   "source": [
    "class StockMarketSymbolSearchToolArgsSchema(BaseModel):\n",
    "    query: str = Field(\n",
    "        description=\"The query you will search for.Example query: Stock Market Symbol for Apple Company\"\n",
    "    )\n",
    "\n",
    "\n",
    "class DuckDuckGoSearchTool(BaseTool):\n",
    "    name: str = \"DuckDuckGoSearchTool\"\n",
    "    description: str = \"\"\"\n",
    "    Use this tool to find the stock market symbol for a company.\n",
    "    It takes a query as an argument.\n",
    "    \n",
    "    \"\"\"\n",
    "    args_schema: Type[\n",
    "        StockMarketSymbolSearchToolArgsSchema\n",
    "    ] = StockMarketSymbolSearchToolArgsSchema\n",
    "\n",
    "    def _run(self, query):\n",
    "        ua = UserAgent()\n",
    "        custom_user_agent = ua.random\n",
    "        #ddg = DuckDuckGoSearchAPIWrapper()\n",
    "        ddg = DuckDuckGoSearchRun(user_agent=custom_user_agent)\n",
    "        return ddg.run(query)\n",
    "\n",
    "\n",
    "class WikipediaSearchTool(BaseTool):\n",
    "    name: str = \"WikipediaSearchTool\"\n",
    "    description: str = \"\"\"\n",
    "    Use this tool to find the stock market symbol for a company.\n",
    "    It takes a query as an argument.\n",
    "    \n",
    "    \"\"\"\n",
    "    args_schema: Type[\n",
    "        StockMarketSymbolSearchToolArgsSchema\n",
    "    ] = StockMarketSymbolSearchToolArgsSchema\n",
    "\n",
    "    def _run(self, query):\n",
    "        ua = UserAgent()\n",
    "        custom_user_agent = ua.random\n",
    "        wikipedia = WikipediaAPIWrapper()\n",
    "        return wikipedia.run(query)"
   ]
  },
  {
   "cell_type": "code",
   "execution_count": 35,
   "metadata": {},
   "outputs": [],
   "source": [
    "agent = initialize_agent(\n",
    "    llm=llm,\n",
    "    verbose=True,\n",
    "    agent=AgentType.STRUCTURED_CHAT_ZERO_SHOT_REACT_DESCRIPTION,\n",
    "    handle_parsing_errors=True,\n",
    "    tools=[\n",
    "        DuckDuckGoSearchTool(),\n",
    "        WikipediaSearchTool(),\n",
    "    ],\n",
    ")\n"
   ]
  },
  {
   "cell_type": "code",
   "execution_count": 36,
   "metadata": {},
   "outputs": [
    {
     "name": "stdout",
     "output_type": "stream",
     "text": [
      "\n",
      "\n",
      "\u001b[1m> Entering new AgentExecutor chain...\u001b[0m\n",
      "\u001b[32;1m\u001b[1;3mThought:I need to find information about Amazon.  I can use Wikipedia to get a summary.\n",
      "\n",
      "Action:\n",
      "```json\n",
      "{\n",
      "  \"action\": \"WikipediaSearchTool\",\n",
      "  \"action_input\": {\n",
      "    \"query\": \"Amazon\"\n",
      "  }\n",
      "}\n",
      "```\n",
      "\u001b[0m"
     ]
    },
    {
     "name": "stderr",
     "output_type": "stream",
     "text": [
      "c:\\workdir\\github-space-cap\\GPT-study-blog\\fullstack-gpt\\env\\Lib\\site-packages\\wikipedia\\wikipedia.py:389: GuessedAtParserWarning: No parser was explicitly specified, so I'm using the best available HTML parser for this system (\"lxml\"). This usually isn't a problem, but if you run this code on another system, or in a different virtual environment, it may use a different parser and behave differently.\n",
      "\n",
      "The code that caused this warning is on line 389 of the file c:\\workdir\\github-space-cap\\GPT-study-blog\\fullstack-gpt\\env\\Lib\\site-packages\\wikipedia\\wikipedia.py. To get rid of this warning, pass the additional argument 'features=\"lxml\"' to the BeautifulSoup constructor.\n",
      "\n",
      "  lis = BeautifulSoup(html).find_all('li')\n"
     ]
    },
    {
     "name": "stdout",
     "output_type": "stream",
     "text": [
      "\n",
      "Observation: \u001b[33;1m\u001b[1;3mPage: Amazon (company)\n",
      "Summary: Amazon.com, Inc., doing business as Amazon (, AM-ə-zon; UK also , AM-ə-zən), is an American multinational technology company engaged in e-commerce, cloud computing, online advertising, digital streaming, and artificial intelligence. Founded in 1994 by Jeff Bezos in Bellevue, Washington, the company originally started as an online marketplace for books but gradually expanded its offerings to include a wide range of product categories, referred to as \"The Everything Store\". Today, Amazon is considered one of the Big Five American technology companies, the other four being Alphabet, Apple, Meta, and Microsoft. \n",
      "The company has multiple subsidiaries, including Amazon Web Services, providing cloud computing; Zoox, a self-driving car division; Kuiper Systems, a satellite Internet provider; and Amazon Lab126, a computer hardware R&D provider. Other subsidiaries include Ring, Twitch, IMDb, and Whole Foods Market. Its acquisition of Whole Foods in August 2017 for US$13.4 billion substantially increased its market share and presence as a physical retailer. Amazon also distributes a variety of downloadable and streaming content through its Amazon Prime Video, MGM+, Amazon Music, Twitch, Audible and Wondery units. It publishes books through its publishing arm, Amazon Publishing, film and television content through Amazon MGM Studios, including the Metro-Goldwyn-Mayer studio, which was acquired in March 2022, and owns Brilliance Audio and Audible, which produce and distribute audiobooks, respectively. Amazon also produces consumer electronics—most notably, Kindle e-readers, Echo devices, Fire tablets, and Fire TVs.\n",
      "Amazon has a reputation as a disruptor of industries through technological innovation and aggressive reinvestment of profits into capital expenditures. As of 2023, it is the world's largest online retailer and marketplace, smart speaker provider, cloud computing service through AWS, live-streaming service through Twitch, and Internet company as measured by revenue and market share. In 2021, it surpassed Walmart as the world's largest retailer outside of China, driven in large part by its paid subscription plan, Amazon Prime, which has close to 200 million subscribers worldwide. It is the second-largest private employer in the United States and the second-largest company in the World and in the U.S. by revenue as of 2024. As of October 2024, Amazon is the 12th-most visited website in the world and 84% of its traffic comes from the United States. Amazon is also the global leader in research and development spending, with R&D expenditure of US$73 billion in 2022. Amazon has been criticized on various grounds, including but not limited to customer data collection practices, a toxic work culture, censorship, tax avoidance, and anti-competitive practices.\n",
      "\n",
      "Page: Amazons\n",
      "Summary: The Amazons (Ancient Greek: Ἀμαζόνες Amazónes, singular Ἀμαζών Amazōn; in Latin Amāzon, -ŏnis) were a people in Greek mythology, portrayed in a number of ancient epic poems and legends, such as the Labours of Heracles, the Argonautica  and the Iliad. They were female warriors and hunters, known for their physical agility, strength, archery, riding skills, and the arts of combat. Their society was closed to men and they raised only their daughters and returned their sons to their fathers, with whom they would only socialize briefly in order to reproduce.\n",
      "Courageous and fiercely independent, the Amazons, commanded by their queen, regularly undertook extensive military expeditions into the far corners of the world, from Scythia to Thrace, Asia Minor and the Aegean Islands, reaching as far as Arabia and Egypt. Besides military raids, the Amazons are also associated with the foundation of temples and the establishment of numerous ancient cities like Ephesos, Cyme, Smyrna, Sinope, Myrina, Magnesia, Pygela, etc.\n",
      "The texts of the original myths envisioned the homeland of the Amazons at the periphery of the then-known world. Various clai\u001b[0m\n",
      "Thought:\u001b[32;1m\u001b[1;3mThought:I have a summary of Amazon from Wikipedia.  I can use this to answer the question.\n",
      "\n",
      "Action:\n",
      "```json\n",
      "{\n",
      "  \"action\": \"Final Answer\",\n",
      "  \"action_input\": \"Amazon.com, Inc. is an American multinational technology company.  It's involved in e-commerce, cloud computing (AWS), online advertising, digital streaming, and artificial intelligence. Founded in 1994 by Jeff Bezos, it started as an online bookstore but has expanded significantly.  It's one of the Big Five American technology companies (along with Alphabet, Apple, Meta, and Microsoft) and is known for its wide range of products and services, including Amazon Prime, Kindle e-readers, and Alexa devices.  It also owns subsidiaries like Whole Foods Market, Twitch, and IMDb.  While a major success, Amazon has faced criticism regarding its labor practices, tax avoidance, and anti-competitive behavior.\"\n",
      "}\n",
      "```\n",
      "\u001b[0m\n",
      "\n",
      "\u001b[1m> Finished chain.\u001b[0m\n"
     ]
    },
    {
     "data": {
      "text/plain": [
       "{'input': 'amazon 회사에 대해서 알려줘.',\n",
       " 'output': \"Amazon.com, Inc. is an American multinational technology company.  It's involved in e-commerce, cloud computing (AWS), online advertising, digital streaming, and artificial intelligence. Founded in 1994 by Jeff Bezos, it started as an online bookstore but has expanded significantly.  It's one of the Big Five American technology companies (along with Alphabet, Apple, Meta, and Microsoft) and is known for its wide range of products and services, including Amazon Prime, Kindle e-readers, and Alexa devices.  It also owns subsidiaries like Whole Foods Market, Twitch, and IMDb.  While a major success, Amazon has faced criticism regarding its labor practices, tax avoidance, and anti-competitive behavior.\"}"
      ]
     },
     "execution_count": 36,
     "metadata": {},
     "output_type": "execute_result"
    }
   ],
   "source": [
    "prompt = \"amazon 회사에 대해서 알려줘.\"\n",
    "\n",
    "agent.invoke(prompt)"
   ]
  },
  {
   "cell_type": "code",
   "execution_count": null,
   "metadata": {},
   "outputs": [],
   "source": []
  }
 ],
 "metadata": {
  "kernelspec": {
   "display_name": "env",
   "language": "python",
   "name": "python3"
  },
  "language_info": {
   "codemirror_mode": {
    "name": "ipython",
    "version": 3
   },
   "file_extension": ".py",
   "mimetype": "text/x-python",
   "name": "python",
   "nbconvert_exporter": "python",
   "pygments_lexer": "ipython3",
   "version": "3.12.7"
  }
 },
 "nbformat": 4,
 "nbformat_minor": 2
}
