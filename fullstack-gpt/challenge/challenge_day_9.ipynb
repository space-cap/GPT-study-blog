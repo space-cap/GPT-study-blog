{
 "cells": [
  {
   "cell_type": "code",
   "execution_count": 3,
   "metadata": {},
   "outputs": [
    {
     "name": "stderr",
     "output_type": "stream",
     "text": [
      "C:\\Users\\rich\\AppData\\Local\\Temp\\ipykernel_45284\\1998861594.py:67: LangChainDeprecationWarning: LangChain agents will continue to be supported, but it is recommended for new use cases to be built with LangGraph. LangGraph offers a more flexible and full-featured framework for building agents, including support for tool-calling, persistence of state, and human-in-the-loop workflows. See LangGraph documentation for more details: https://langchain-ai.github.io/langgraph/. Refer here for its pre-built ReAct agent: https://langchain-ai.github.io/langgraph/how-tos/create-react-agent/\n",
      "  agent = initialize_agent(\n"
     ]
    },
    {
     "name": "stdout",
     "output_type": "stream",
     "text": [
      "\n",
      "\n",
      "\u001b[1m> Entering new AgentExecutor chain...\u001b[0m\n",
      "\u001b[32;1m\u001b[1;3mThought:I need to find information about Anduril Industries.  I can use a search engine to find information about the company, including its stock market symbol if it's publicly traded.\n",
      "\n",
      "Action:\n",
      "```json\n",
      "{\n",
      "  \"action\": \"DuckDuckGoSearchTool\",\n",
      "  \"action_input\": {\n",
      "    \"query\": \"Anduril Industries stock symbol\"\n",
      "  }\n",
      "}\n",
      "```\n",
      "\u001b[0m\n",
      "Observation: \u001b[36;1m\u001b[1;3mAnduril Industries is a private defense technology company that specializes in autonomous vehicles, machine learning, and artificial intelligence. Learn how to invest in Anduril stock via Hiive, Fundrise, or waiting for its IPO. Since it is not publicly listed, there is no Anduril stock symbol or Anduril ticker symbol assigned for Anduril. Private companies typically reserve a stock symbol up to two years prior to an IPO, and disclose this when they file a Form S-1 with the Security Exchange Commission when they start the IPO process. What is the Anduril Stock Symbol? There is no Anduril stock symbol yet because it is a private company. ... 06/27/2024: Anduril Industries Authorizes Series F Up Round 06/24/2024: Anduril Nears $12.5 Billion Valuation Round 06/20/2024: Palmer Luckey shakes up armsmaking (Bloomberg) -- Defense technology startup Anduril Industries Inc. has raised $1.5 billion in a new funding round and plans to spend hundreds of millions on a new facility to manufacture its ... Anduril Industries, founded in 2017, is a private defense products company specializing in AI, robotics, and autonomous systems, delivering innovative solutions to the U.S. Department of Defense and its allies. ... Consequently, Anduril doesn't have a stock price or a stock symbol, as it hasn't conducted an initial public offering (IPO) yet ...\u001b[0m\n",
      "Thought:\u001b[32;1m\u001b[1;3mThought:The DuckDuckGo search shows that Anduril Industries is a private company and therefore does not have a stock market symbol.  I can summarize the information found about the company.\n",
      "\n",
      "Action:\n",
      "```json\n",
      "{\n",
      "  \"action\": \"Final Answer\",\n",
      "  \"action_input\": \"Anduril Industries는 2017년에 설립된 민간 방위 기술 회사입니다.  자율주행 차량, 머신러닝, 인공지능 분야를 전문으로 하며 미국 국방부 및 동맹국에 혁신적인 솔루션을 제공합니다. 현재 상장되어 있지 않은 비상장 회사이기 때문에 주식 시장 심볼은 없습니다.  최근에는 대규모 투자 유치를 통해 높은 기업 가치를 인정받고 있으며, 향후 IPO를 통해 상장될 가능성이 있습니다.\"\n",
      "}\n",
      "```\n",
      "\u001b[0m\n",
      "\n",
      "\u001b[1m> Finished chain.\u001b[0m\n"
     ]
    },
    {
     "data": {
      "text/plain": [
       "{'input': 'Anduril Industries 회사에 대해서 알려줘. 답변도 한글로 부탁해.',\n",
       " 'output': 'Anduril Industries는 2017년에 설립된 민간 방위 기술 회사입니다.  자율주행 차량, 머신러닝, 인공지능 분야를 전문으로 하며 미국 국방부 및 동맹국에 혁신적인 솔루션을 제공합니다. 현재 상장되어 있지 않은 비상장 회사이기 때문에 주식 시장 심볼은 없습니다.  최근에는 대규모 투자 유치를 통해 높은 기업 가치를 인정받고 있으며, 향후 IPO를 통해 상장될 가능성이 있습니다.'}"
      ]
     },
     "execution_count": 3,
     "metadata": {},
     "output_type": "execute_result"
    }
   ],
   "source": [
    "import os\n",
    "import requests\n",
    "from langchain_google_genai import ChatGoogleGenerativeAI\n",
    "from langchain_google_genai import GoogleGenerativeAIEmbeddings\n",
    "from langchain.tools import StructuredTool\n",
    "from langchain.agents import initialize_agent, AgentType\n",
    "from langchain.tools import StructuredTool, Tool\n",
    "from pydantic import BaseModel, Field\n",
    "from langchain.tools import BaseTool\n",
    "from typing import Any, Type\n",
    "from langchain.utilities import DuckDuckGoSearchAPIWrapper\n",
    "from langchain.utilities import WikipediaAPIWrapper\n",
    "from langchain_community.tools.ddg_search.tool import DuckDuckGoSearchRun\n",
    "from langchain.agents.agent_toolkits import SQLDatabaseToolkit\n",
    "from langchain.sql_database import SQLDatabase\n",
    "from langchain.agents import create_sql_agent\n",
    "from fake_useragent import UserAgent\n",
    "\n",
    "llm = ChatGoogleGenerativeAI(\n",
    "    model=\"gemini-1.5-flash\", \n",
    "    temperature=0.1,\n",
    "    )\n",
    "\n",
    "class StockMarketSymbolSearchToolArgsSchema(BaseModel):\n",
    "    query: str = Field(\n",
    "        description=\"The query you will search for.Example query: Stock Market Symbol for Apple Company\"\n",
    "    )\n",
    "\n",
    "\n",
    "class DuckDuckGoSearchTool(BaseTool):\n",
    "    name: str = \"DuckDuckGoSearchTool\"\n",
    "    description: str = \"\"\"\n",
    "    Use this tool to find the stock market symbol for a company.\n",
    "    It takes a query as an argument.\n",
    "    \n",
    "    \"\"\"\n",
    "    args_schema: Type[\n",
    "        StockMarketSymbolSearchToolArgsSchema\n",
    "    ] = StockMarketSymbolSearchToolArgsSchema\n",
    "\n",
    "    def _run(self, query):\n",
    "        ua = UserAgent()\n",
    "        custom_user_agent = ua.random\n",
    "        #ddg = DuckDuckGoSearchAPIWrapper()\n",
    "        ddg = DuckDuckGoSearchRun(user_agent=custom_user_agent)\n",
    "        return ddg.run(query)\n",
    "\n",
    "\n",
    "class WikipediaSearchTool(BaseTool):\n",
    "    name: str = \"WikipediaSearchTool\"\n",
    "    description: str = \"\"\"\n",
    "    Use this tool to find the stock market symbol for a company.\n",
    "    It takes a query as an argument.\n",
    "    \n",
    "    \"\"\"\n",
    "    args_schema: Type[\n",
    "        StockMarketSymbolSearchToolArgsSchema\n",
    "    ] = StockMarketSymbolSearchToolArgsSchema\n",
    "\n",
    "    def _run(self, query):\n",
    "        ua = UserAgent()\n",
    "        custom_user_agent = ua.random\n",
    "        wikipedia = WikipediaAPIWrapper()\n",
    "        return wikipedia.run(query)\n",
    "\n",
    "\n",
    "agent = initialize_agent(\n",
    "    llm=llm,\n",
    "    verbose=True,\n",
    "    agent=AgentType.STRUCTURED_CHAT_ZERO_SHOT_REACT_DESCRIPTION,\n",
    "    handle_parsing_errors=True,\n",
    "    tools=[\n",
    "        DuckDuckGoSearchTool(),\n",
    "        WikipediaSearchTool(),\n",
    "    ],\n",
    ")\n",
    "\n",
    "prompt = \"Anduril Industries 회사에 대해서 알려줘. 답변도 한글로 부탁해.\"\n",
    "\n",
    "agent.invoke(prompt)\n"
   ]
  },
  {
   "cell_type": "code",
   "execution_count": null,
   "metadata": {},
   "outputs": [],
   "source": []
  }
 ],
 "metadata": {
  "kernelspec": {
   "display_name": "env",
   "language": "python",
   "name": "python3"
  },
  "language_info": {
   "codemirror_mode": {
    "name": "ipython",
    "version": 3
   },
   "file_extension": ".py",
   "mimetype": "text/x-python",
   "name": "python",
   "nbconvert_exporter": "python",
   "pygments_lexer": "ipython3",
   "version": "3.12.7"
  }
 },
 "nbformat": 4,
 "nbformat_minor": 2
}
