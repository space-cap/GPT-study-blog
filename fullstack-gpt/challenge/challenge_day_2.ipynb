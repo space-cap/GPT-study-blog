{
 "cells": [
  {
   "cell_type": "code",
   "execution_count": 1,
   "metadata": {},
   "outputs": [],
   "source": [
    "from dotenv import load_dotenv\n",
    "import os\n",
    "\n",
    "load_dotenv()\n",
    "\n",
    "from langchain_google_genai import ChatGoogleGenerativeAI\n",
    "from langchain.prompts.few_shot import FewShotChatMessagePromptTemplate\n",
    "from langchain.callbacks import StreamingStdOutCallbackHandler\n",
    "from langchain.prompts import ChatPromptTemplate\n",
    "\n",
    "chat = ChatGoogleGenerativeAI(model=\"gemini-1.5-flash\", \n",
    "                              temperature=0.1,\n",
    "                              disable_streaming=False,\n",
    "                              callbacks=[\n",
    "                                  StreamingStdOutCallbackHandler(),\n",
    "                              ])"
   ]
  },
  {
   "cell_type": "code",
   "execution_count": 15,
   "metadata": {},
   "outputs": [],
   "source": [
    "examples = [\n",
    "    {\n",
    "        \"movie\": \"터미네이터1\",\n",
    "        \"answer\": \"\"\"\n",
    "        감독: 제임스 카메론\n",
    "        출연진: 아놀드 슈왈제네거, 린다 해밀턴\n",
    "        예산: 650만 달러\n",
    "        흥행 수익: 7,837만 달러\n",
    "        장르: 공상 과학, 액션\n",
    "        시놉시스: 영화는 2029년 미래와 1984년 현재를 오가며 펼쳐집니다. 미래에서 인류와 기계의 전쟁이 벌어지고 있습니다.\n",
    "        \"\"\",\n",
    "    },\n",
    "    {\n",
    "        \"movie\": \"글래디에이터1\",\n",
    "        \"answer\": \"\"\"\n",
    "        감독: 리들리 스콧\n",
    "        출연진: 러셀 크로 (막시무스 역), 호아킨 피닉스 (콤모두스 역)\n",
    "        예산: 1억 300만 달러\n",
    "        흥행 수익: 약 4억 6,552만 달러\n",
    "        장르: 역사 서사, 액션, 드라마\n",
    "        시놉시스: 영화는 로마 제국 시대를 배경으로 합니다. 로마의 장군 막시무스는 황제 마르쿠스 아우렐리우스의 신임을 받고 있습니다. 그러나 황제의 아들 콤모두스가 아버지를 살해하고 권력을 차지하면서 막시무스는 가족을 잃고 노예로 전락합니다.\n",
    "        \"\"\",\n",
    "    },\n",
    "    {\n",
    "        \"movie\": \"범죄도시1\",\n",
    "        \"answer\": \"\"\"\n",
    "        감독: 강윤성\n",
    "        출연진: 마동석 (마석도 역), 윤계상 (장첸 역)\n",
    "        예산: 70억 원\n",
    "        흥행 수익: 563억 원\n",
    "        장르: 범죄, 액션\n",
    "        시놉시스: 2004년 서울을 배경으로 하는 이 영화는 중국 하얼빈에서 넘어와 서울 일대를 장악한 신흥범죄조직의 보스 장첸(윤계상)과 이를 저지하려는 괴물형사 마석도(마동석)의 대결을 그립니다.\n",
    "        \"\"\",\n",
    "    },\n",
    "]\n"
   ]
  },
  {
   "cell_type": "code",
   "execution_count": 16,
   "metadata": {},
   "outputs": [],
   "source": [
    "example_prompt = ChatPromptTemplate.from_messages([\n",
    "    (\"human\", \"What do you know about {movie}?\"),\n",
    "    (\"ai\", \"{answer}\")\n",
    "])\n",
    "\n",
    "few_shot_prompt = FewShotChatMessagePromptTemplate(\n",
    "    examples=examples,\n",
    "    example_prompt=example_prompt\n",
    ")\n",
    "\n",
    "final_prompt = ChatPromptTemplate.from_messages([\n",
    "    (\"system\", \"당신은 영화 전문가입니다.\"),\n",
    "    few_shot_prompt,\n",
    "    (\"human\", \"What do you know about {movie}?\")\n",
    "])\n"
   ]
  },
  {
   "cell_type": "code",
   "execution_count": 17,
   "metadata": {},
   "outputs": [
    {
     "name": "stdout",
     "output_type": "stream",
     "text": [
      "천녀유혼 (倩女幽魂, A Chinese Ghost Story) 1편 (1987년 작)에 대해 알고 있는 내용입니다.\n",
      "\n",
      "* **감독:** 서극 (Tsui Hark)\n",
      "* **주연:** 장국영 (Ning Caichen 역), 왕조현 (Nie Xiaoqian 역), 오요한 (Yan Chixia 역)\n",
      "* **장르:** 판타지, 로맨스, 코미디, 액션\n",
      "* **시놉시스:** 늦은 밤, 과거 시험을 보러 가던 닝 차이천(장국영)은 폭우를 피해 폐허가 된 사찰에 들어가게 되고, 거기서 아름다운 여귀 섭소천(왕조현)을 만나게 됩니다.  섭소천은 나무귀신 흑산老妖(흑산로요)에게 억눌려 인간의 생기를 빼앗아야만 하는 처지에 놓여있습니다.  닝 차이천과 섭소천은 사랑에 빠지지만, 흑산로요와 도사 연적xia(오요한)의 등장으로 위험에 처하게 됩니다.  결국 닝 차이천은 섭소천을 구하기 위해 싸우고, 그들의 사랑과 희생을 그린 이야기입니다.\n",
      "\n",
      "* **주요 특징:**  서극 감독 특유의 화려한 영상미와 판타지적인 요소, 그리고 장국영과 왕조현의 뛰어난 연기가 돋보이는 작품입니다.  특히 왕조현이 연기한 섭소천은 중국 영화사에 남을 만한 명연기로 평가받고 있으며,  영화 음악 또한 큰 인기를 얻었습니다.  이 작품의 성공으로 여러 편의 속편과 리메이크 작품이 제작되었습니다.  하지만 원작의 감동과 인기를 뛰어넘는 작품은 없다는 평이 지배적입니다.\n",
      "\n",
      "\n",
      "천녀유혼 1편은 중국 판타지 영화의 대표작으로 손꼽히며,  지금까지도 많은 팬들에게 사랑받는 고전 영화입니다.\n",
      "\n"
     ]
    }
   ],
   "source": [
    "chain = final_prompt | chat\n",
    "result = chain.invoke({\"movie\": \"천녀유혼1\"})\n",
    "print(result.content)\n"
   ]
  },
  {
   "cell_type": "code",
   "execution_count": null,
   "metadata": {},
   "outputs": [],
   "source": []
  }
 ],
 "metadata": {
  "kernelspec": {
   "display_name": "env",
   "language": "python",
   "name": "python3"
  },
  "language_info": {
   "codemirror_mode": {
    "name": "ipython",
    "version": 3
   },
   "file_extension": ".py",
   "mimetype": "text/x-python",
   "name": "python",
   "nbconvert_exporter": "python",
   "pygments_lexer": "ipython3",
   "version": "3.12.7"
  }
 },
 "nbformat": 4,
 "nbformat_minor": 2
}
