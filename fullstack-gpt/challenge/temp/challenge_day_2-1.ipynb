{
 "cells": [
  {
   "cell_type": "code",
   "execution_count": 1,
   "metadata": {},
   "outputs": [],
   "source": [
    "from dotenv import load_dotenv\n",
    "import os\n",
    "\n",
    "load_dotenv()\n",
    "\n",
    "from langchain_google_genai import ChatGoogleGenerativeAI\n",
    "from langchain.prompts import ChatPromptTemplate, FewShotChatMessagePromptTemplate\n",
    "from langchain.chains import LLMChain\n"
   ]
  },
  {
   "cell_type": "code",
   "execution_count": 2,
   "metadata": {},
   "outputs": [],
   "source": [
    "examples = [\n",
    "    {\n",
    "        \"movie\": \"인셉션\",\n",
    "        \"info\": \"감독: 크리스토퍼 놀란\\n주요 출연진: 레오나르도 디카프리오, 조셉 고든-레빗, 엘렌 페이지\\n예산: 1억 6천만 달러\\n흥행 수익: 8억 3,600만 달러\\n장르: 액션, SF, 스릴러\\n시놉시스: 꿈 속에서 정보를 훔치는 특수 보안 전문가가 '인셉션'이라는 불가능한 임무에 도전하는 이야기\"\n",
    "    },\n",
    "    {\n",
    "        \"movie\": \"타이타닉\",\n",
    "        \"info\": \"감독: 제임스 카메론\\n주요 출연진: 레오나르도 디카프리오, 케이트 윈슬렛\\n예산: 2억 달러\\n흥행 수익: 22억 달러\\n장르: 로맨스, 드라마\\n시놉시스: 1912년 타이타닉호의 처녀 항해 중 서로 다른 계급의 남녀가 사랑에 빠지는 이야기\"\n",
    "    }\n",
    "]\n"
   ]
  },
  {
   "cell_type": "code",
   "execution_count": 3,
   "metadata": {},
   "outputs": [],
   "source": [
    "example_prompt = ChatPromptTemplate.from_messages([\n",
    "    (\"human\", \"영화 '{movie}'에 대한 정보를 알려주세요.\"),\n",
    "    (\"ai\", \"{info}\")\n",
    "])\n",
    "\n",
    "few_shot_prompt = FewShotChatMessagePromptTemplate(\n",
    "    example_prompt=example_prompt,\n",
    "    examples=examples\n",
    ")\n"
   ]
  },
  {
   "cell_type": "code",
   "execution_count": 4,
   "metadata": {},
   "outputs": [],
   "source": [
    "final_prompt = ChatPromptTemplate.from_messages([\n",
    "    (\"system\", \"당신은 영화 정보를 제공하는 AI 어시스턴트입니다. 주어진 영화 제목에 대해 감독, 주요 출연진, 예산, 흥행 수익, 장르, 간단한 시놉시스 등의 정보를 제공해주세요.\"),\n",
    "    few_shot_prompt,\n",
    "    (\"human\", \"영화 '{input}'에 대한 정보를 알려주세요.\")\n",
    "])\n"
   ]
  },
  {
   "cell_type": "code",
   "execution_count": 5,
   "metadata": {},
   "outputs": [],
   "source": [
    "model = ChatGoogleGenerativeAI(model=\"gemini-1.5-flash\", temperature=0.1)\n"
   ]
  },
  {
   "cell_type": "code",
   "execution_count": 6,
   "metadata": {},
   "outputs": [
    {
     "name": "stderr",
     "output_type": "stream",
     "text": [
      "C:\\Users\\rich\\AppData\\Local\\Temp\\ipykernel_23756\\462477270.py:1: LangChainDeprecationWarning: The class `LLMChain` was deprecated in LangChain 0.1.17 and will be removed in 1.0. Use :meth:`~RunnableSequence, e.g., `prompt | llm`` instead.\n",
      "  chain = LLMChain(llm=model, prompt=final_prompt)\n"
     ]
    }
   ],
   "source": [
    "chain = LLMChain(llm=model, prompt=final_prompt)\n"
   ]
  },
  {
   "cell_type": "code",
   "execution_count": 7,
   "metadata": {},
   "outputs": [
    {
     "name": "stderr",
     "output_type": "stream",
     "text": [
      "C:\\Users\\rich\\AppData\\Local\\Temp\\ipykernel_23756\\3527186098.py:1: LangChainDeprecationWarning: The method `Chain.run` was deprecated in langchain 0.1.0 and will be removed in 1.0. Use :meth:`~invoke` instead.\n",
      "  result = chain.run(\"매트릭스\")\n"
     ]
    },
    {
     "name": "stdout",
     "output_type": "stream",
     "text": [
      "감독: 워쇼스키 자매 (릴리 워쇼스키 & 라나 워쇼스키)\n",
      "주요 출연진: 키아누 리브스, 로렌스 피시번, 캐리-앤 모스\n",
      "예산: 6300만 달러\n",
      "흥행 수익: 4억 6000만 달러 이상 (추정치는 다소 차이가 있음)\n",
      "장르: 액션, SF\n",
      "시놉시스:  컴퓨터 시뮬레이션인 매트릭스에 갇혀 사는 주인공 네오가 현실과 가상현실의 경계를 넘나들며 싸우는 이야기.  선택의 문제와 현실의 본질에 대한 질문을 던지는 작품.\n",
      "\n"
     ]
    }
   ],
   "source": [
    "result = chain.run(\"매트릭스\")\n",
    "print(result)\n"
   ]
  },
  {
   "cell_type": "code",
   "execution_count": null,
   "metadata": {},
   "outputs": [],
   "source": []
  }
 ],
 "metadata": {
  "kernelspec": {
   "display_name": "env",
   "language": "python",
   "name": "python3"
  },
  "language_info": {
   "codemirror_mode": {
    "name": "ipython",
    "version": 3
   },
   "file_extension": ".py",
   "mimetype": "text/x-python",
   "name": "python",
   "nbconvert_exporter": "python",
   "pygments_lexer": "ipython3",
   "version": "3.12.7"
  }
 },
 "nbformat": 4,
 "nbformat_minor": 2
}
