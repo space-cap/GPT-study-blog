{
 "cells": [
  {
   "cell_type": "code",
   "execution_count": 1,
   "metadata": {},
   "outputs": [],
   "source": [
    "from langchain.llms import HuggingFaceHub\n",
    "from langchain.prompts import PromptTemplate\n"
   ]
  },
  {
   "cell_type": "code",
   "execution_count": 4,
   "metadata": {},
   "outputs": [
    {
     "data": {
      "text/plain": [
       "'[INST]What is the meaning of potato[/INST]\\n\\nPotato is a kind of tuber crop, which is a kind of food crop. It is a kind of food crop. It is a kind of food crop. It is a kind of food crop. It is a kind of food crop. It is a kind of food crop. It is a kind of food crop. It is a kind of food crop. It is a kind of food crop. It is a kind of food crop. It is a kind of food crop. It is a kind of food crop. It is a kind of food crop. It is a kind of food crop. It is a kind of food crop. It is a kind of food crop. It is a kind of food crop. It is a kind of food crop. It is a kind of food crop. It is a kind of food crop. It is a kind of food crop. It is a kind of food crop. It is a kind of food crop. It is a kind of food crop. It is a kind of food crop. It is a kind of food crop. It is a kind of food crop. It is a kind of food crop. It is a kind of food crop. It is a kind of'"
      ]
     },
     "execution_count": 4,
     "metadata": {},
     "output_type": "execute_result"
    }
   ],
   "source": [
    "prompt = PromptTemplate.from_template(\"[INST]What is the meaning of {word}[/INST]\")\n",
    "\n",
    "llm = HuggingFaceHub(\n",
    "    repo_id=\"mistralai/Mistral-7B-v0.1\",\n",
    "    model_kwargs={\n",
    "        \"max_new_tokens\": 250,\n",
    "    },\n",
    ")\n",
    "\n",
    "chain = prompt | llm\n",
    "\n",
    "chain.invoke({\"word\": \"potato\"})"
   ]
  },
  {
   "cell_type": "code",
   "execution_count": null,
   "metadata": {},
   "outputs": [],
   "source": []
  }
 ],
 "metadata": {
  "kernelspec": {
   "display_name": "env",
   "language": "python",
   "name": "python3"
  },
  "language_info": {
   "codemirror_mode": {
    "name": "ipython",
    "version": 3
   },
   "file_extension": ".py",
   "mimetype": "text/x-python",
   "name": "python",
   "nbconvert_exporter": "python",
   "pygments_lexer": "ipython3",
   "version": "3.12.7"
  }
 },
 "nbformat": 4,
 "nbformat_minor": 2
}
