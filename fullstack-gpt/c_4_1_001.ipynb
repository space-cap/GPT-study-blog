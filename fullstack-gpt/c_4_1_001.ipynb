{
 "cells": [
  {
   "cell_type": "code",
   "execution_count": 1,
   "metadata": {},
   "outputs": [],
   "source": [
    "from dotenv import load_dotenv\n",
    "import os\n",
    "\n",
    "load_dotenv()\n",
    "\n",
    "from langchain_google_genai import ChatGoogleGenerativeAI\n",
    "from langchain.prompts.few_shot import FewShotPromptTemplate\n",
    "from langchain.callbacks import StreamingStdOutCallbackHandler\n",
    "from langchain.prompts.prompt import PromptTemplate\n",
    "\n",
    "chat = ChatGoogleGenerativeAI(model=\"gemini-1.5-flash\", \n",
    "                              temperature=0.1,\n",
    "                              disable_streaming=False,\n",
    "                              callbacks=[\n",
    "                                  StreamingStdOutCallbackHandler(),\n",
    "                              ])"
   ]
  },
  {
   "cell_type": "code",
   "execution_count": 3,
   "metadata": {},
   "outputs": [
    {
     "data": {
      "text/plain": [
       "'What is the capital of France'"
      ]
     },
     "execution_count": 3,
     "metadata": {},
     "output_type": "execute_result"
    }
   ],
   "source": [
    "t = PromptTemplate.from_template(\"What is the capital of {country}\")\n",
    "t.format(country=\"France\")\n"
   ]
  },
  {
   "cell_type": "code",
   "execution_count": 4,
   "metadata": {},
   "outputs": [
    {
     "data": {
      "text/plain": [
       "'What is the capital of France'"
      ]
     },
     "execution_count": 4,
     "metadata": {},
     "output_type": "execute_result"
    }
   ],
   "source": [
    "t = PromptTemplate(\n",
    "    template=\"What is the capital of {country}\",\n",
    "    input_variables=[\"country\"],\n",
    ")\n",
    "t.format(country=\"France\")\n"
   ]
  },
  {
   "cell_type": "code",
   "execution_count": 5,
   "metadata": {},
   "outputs": [],
   "source": [
    "examples = [\n",
    "    {\n",
    "        \"question\": \"What do you know about France?\",\n",
    "        \"answer\": \"\"\"\n",
    "        Here is what I know:\n",
    "        Capital: Paris\n",
    "        Language: French\n",
    "        Food: Wine and Cheese\n",
    "        Currency: Euro\n",
    "        \"\"\",\n",
    "    },\n",
    "    {\n",
    "        \"question\": \"What do you know about Italy?\",\n",
    "        \"answer\": \"\"\"\n",
    "        I know this:\n",
    "        Capital: Rome\n",
    "        Language: Italian\n",
    "        Food: Pizza and Pasta\n",
    "        Currency: Euro\n",
    "        \"\"\",\n",
    "    },\n",
    "    {\n",
    "        \"question\": \"What do you know about Greece?\",\n",
    "        \"answer\": \"\"\"\n",
    "        I know this:\n",
    "        Capital: Athens\n",
    "        Language: Greek\n",
    "        Food: Souvlaki and Feta Cheese\n",
    "        Currency: Euro\n",
    "        \"\"\",\n",
    "    },\n",
    "]\n"
   ]
  },
  {
   "cell_type": "code",
   "execution_count": 6,
   "metadata": {},
   "outputs": [
    {
     "name": "stderr",
     "output_type": "stream",
     "text": [
      "C:\\Users\\rich\\AppData\\Local\\Temp\\ipykernel_37756\\2023532840.py:1: LangChainDeprecationWarning: The method `BaseChatModel.predict` was deprecated in langchain-core 0.1.7 and will be removed in 1.0. Use :meth:`~invoke` instead.\n",
      "  chat.predict(\"What do you know about France?\")\n"
     ]
    },
    {
     "data": {
      "text/plain": [
       "\"France is a country located in Western Europe.  Here's a summary of what I know about it, covering various aspects:\\n\\n**Geography and Demographics:**\\n\\n* **Location:**  It borders the Bay of Biscay, English Channel, Mediterranean Sea, and Atlantic Ocean.  It shares land borders with Belgium, Luxembourg, Germany, Switzerland, Italy, Monaco, Andorra, and Spain.\\n* **Size:** It's a relatively large country, the largest in Western Europe.\\n* **Landscape:**  France boasts diverse geography, including mountains (Alps, Pyrenees), plains, plateaus, and extensive coastlines.\\n* **Population:**  It has a large and diverse population, with significant urban centers like Paris, Lyon, and Marseille.\\n* **Climate:**  The climate varies regionally, from oceanic in the west to Mediterranean in the south and continental in the east.\\n\\n**Culture and History:**\\n\\n* **History:**  A country with a rich and long history, including periods of Roman rule, the Middle Ages, the Renaissance, the French Revolution, and two World Wars.  It has played a significant role in European and global affairs.\\n* **Language:**  French is the official language.\\n* **Culture:**  Known for its art, literature, cuisine, fashion, philosophy, and cinema.  It has a strong cultural identity and influence worldwide.  Famous artists, writers, and thinkers include Monet, Proust, Sartre, and many more.\\n* **Cuisine:**  French cuisine is renowned globally, with regional variations and a focus on fresh ingredients and sophisticated techniques.\\n* **Religion:**  While officially secular, Catholicism has historically been the dominant religion.\\n\\n**Politics and Economy:**\\n\\n* **Government:**  France is a semi-presidential republic.\\n* **Economy:**  A major global economy, with strengths in various sectors including manufacturing, tourism, agriculture, and technology.  It's a member of the European Union and the Eurozone.\\n\\n**Other Notable Aspects:**\\n\\n* **Tourism:**  A major tourist destination, attracting millions of visitors annually to its iconic landmarks like the Eiffel Tower, Louvre Museum, and Palace of Versailles.\\n* **Education:**  Has a well-established education system.\\n* **Sports:**  Football (soccer) is a very popular sport, as is cycling.\\n\\n\\nThis is a broad overview.  To learn more about specific aspects of France, you can ask more focused questions.  For example, you could ask about French history during a specific period, the French education system, or the details of the French economy.\\n\""
      ]
     },
     "execution_count": 6,
     "metadata": {},
     "output_type": "execute_result"
    }
   ],
   "source": [
    "chat.predict(\"What do you know about France?\")\n"
   ]
  },
  {
   "cell_type": "code",
   "execution_count": 8,
   "metadata": {},
   "outputs": [
    {
     "data": {
      "text/plain": [
       "'\\n    Human: What do you know about France?\\n    AI: \\n        Here is what I know:\\n        Capital: Paris\\n        Language: French\\n        Food: Wine and Cheese\\n        Currency: Euro\\n        \\n\\n\\n\\n    Human: What do you know about Italy?\\n    AI: \\n        I know this:\\n        Capital: Rome\\n        Language: Italian\\n        Food: Pizza and Pasta\\n        Currency: Euro\\n        \\n\\n\\n\\n    Human: What do you know about Greece?\\n    AI: \\n        I know this:\\n        Capital: Athens\\n        Language: Greek\\n        Food: Souvlaki and Feta Cheese\\n        Currency: Euro\\n        \\n\\n\\nHuman: What do you know about Germany?'"
      ]
     },
     "execution_count": 8,
     "metadata": {},
     "output_type": "execute_result"
    }
   ],
   "source": [
    "\n",
    "example_template = \"\"\"\n",
    "    Human: {question}\n",
    "    AI: {answer}\n",
    "\"\"\"\n",
    "\n",
    "example_prompt = PromptTemplate.from_template(example_template)\n",
    "# example_prompt = PromptTemplate.from_template(\"Human: {question}\\nAI:{answer}\")\n",
    "\n",
    "prompt = FewShotPromptTemplate(\n",
    "    example_prompt=example_prompt,\n",
    "    examples=examples,\n",
    "    suffix=\"Human: What do you know about {country}?\",\n",
    "    input_variables=[\"country\"],\n",
    ")\n",
    "\n",
    "prompt.format(country=\"Germany\")\n"
   ]
  },
  {
   "cell_type": "code",
   "execution_count": 9,
   "metadata": {},
   "outputs": [
    {
     "data": {
      "text/plain": [
       "AIMessage(content='AI:\\n        I know this:\\n        Capital: Berlin\\n        Language: German\\n        Food: Sauerkraut and Bratwurst\\n        Currency: Euro\\n', additional_kwargs={}, response_metadata={'prompt_feedback': {'block_reason': 0, 'safety_ratings': []}, 'finish_reason': 'STOP', 'safety_ratings': []}, id='run-89c9529f-8e50-45ae-84b8-75e773553903-0', usage_metadata={'input_tokens': 155, 'output_tokens': 33, 'total_tokens': 188, 'input_token_details': {'cache_read': 0}})"
      ]
     },
     "execution_count": 9,
     "metadata": {},
     "output_type": "execute_result"
    }
   ],
   "source": [
    "chain = prompt | chat\n",
    "\n",
    "chain.invoke({\"country\": \"Germany\"})\n"
   ]
  },
  {
   "cell_type": "code",
   "execution_count": null,
   "metadata": {},
   "outputs": [
    {
     "name": "stdout",
     "output_type": "stream",
     "text": [
      "AIAI:\n",
      "        I know this:\n",
      "        Capital: Berlin\n",
      "        Language::\n",
      "        I know this:\n",
      "        Capital: Berlin\n",
      "        Language: German\n",
      "        Food: Sauerkraut and Bratwurst\n",
      "        Currency: Euro\n",
      " German\n",
      "        Food: Sauerkraut and Bratwurst\n",
      "        Currency: Euro\n"
     ]
    }
   ],
   "source": [
    "formatted_prompt = prompt.format(country=\"Germany\")\n",
    "answer = chat.stream(formatted_prompt)\n",
    "\n",
    "for chunk in answer:\n",
    "    print(chunk.content, end=\"\", flush=True)\n",
    "\n"
   ]
  },
  {
   "cell_type": "code",
   "execution_count": 13,
   "metadata": {},
   "outputs": [
    {
     "name": "stdout",
     "output_type": "stream",
     "text": [
      "AIAI:\n",
      "        I know this:\n",
      "        Capital: Ankara\n",
      "        Language::\n",
      "        I know this:\n",
      "        Capital: Ankara\n",
      "        Language: Turkish\n",
      "        Food: Kebabs and Baklava\n",
      "        Currency: Turkish Lira Turkish\n",
      "        Food: Kebabs and Baklava\n",
      "        Currency: Turkish Lira\n",
      "\n"
     ]
    }
   ],
   "source": [
    "formatted_prompt = prompt.format(country=\"Turkey\")\n",
    "answer = chat.stream(formatted_prompt)\n",
    "\n",
    "for chunk in answer:\n",
    "    print(chunk.content, end=\"\", flush=True)"
   ]
  },
  {
   "cell_type": "code",
   "execution_count": 14,
   "metadata": {},
   "outputs": [
    {
     "name": "stdout",
     "output_type": "stream",
     "text": [
      "AI:\n",
      "        I know this:\n",
      "        Capital: Ankara\n",
      "        Language: Turkish\n",
      "        Food: Kebabs and Baklava\n",
      "        Currency: Turkish Lira\n",
      "\n"
     ]
    }
   ],
   "source": [
    "chain = prompt | chat\n",
    "result = chain.invoke({\"country\": \"Turkey\"})\n",
    "print(result.content)\n"
   ]
  },
  {
   "cell_type": "code",
   "execution_count": null,
   "metadata": {},
   "outputs": [],
   "source": []
  }
 ],
 "metadata": {
  "kernelspec": {
   "display_name": "env",
   "language": "python",
   "name": "python3"
  },
  "language_info": {
   "codemirror_mode": {
    "name": "ipython",
    "version": 3
   },
   "file_extension": ".py",
   "mimetype": "text/x-python",
   "name": "python",
   "nbconvert_exporter": "python",
   "pygments_lexer": "ipython3",
   "version": "3.12.7"
  }
 },
 "nbformat": 4,
 "nbformat_minor": 2
}
