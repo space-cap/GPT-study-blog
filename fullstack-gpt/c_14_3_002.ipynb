{
 "cells": [
  {
   "cell_type": "code",
   "execution_count": 1,
   "metadata": {},
   "outputs": [],
   "source": [
    "from langchain.utilities.duckduckgo_search import DuckDuckGoSearchAPIWrapper\n",
    "import yfinance\n",
    "import json\n",
    "\n",
    "\n",
    "def get_ticker(inputs):\n",
    "    ddg = DuckDuckGoSearchAPIWrapper()\n",
    "    company_name = inputs[\"company_name\"]\n",
    "    return ddg.run(f\"Ticker symbol of {company_name}\")\n",
    "\n",
    "\n",
    "def get_income_statement(inputs):\n",
    "    ticker = inputs[\"ticker\"]\n",
    "    stock = yfinance.Ticker(ticker)\n",
    "    return json.dumps(stock.income_stmt.to_json())\n",
    "\n",
    "\n",
    "def get_balance_sheet(inputs):\n",
    "    ticker = inputs[\"ticker\"]\n",
    "    stock = yfinance.Ticker(ticker)\n",
    "    return json.dumps(stock.balance_sheet.to_json())\n",
    "\n",
    "\n",
    "def get_daily_stock_performance(inputs):\n",
    "    ticker = inputs[\"ticker\"]\n",
    "    stock = yfinance.Ticker(ticker)\n",
    "    return json.dumps(stock.history(period=\"3mo\").to_json())\n",
    "\n",
    "\n",
    "functions = [\n",
    "    {\n",
    "        \"type\": \"function\",\n",
    "        \"function\": {\n",
    "            \"name\": \"get_ticker\",\n",
    "            \"description\": \"Given the name of a company returns its ticker symbol\",\n",
    "            \"parameters\": {\n",
    "                \"type\": \"object\",\n",
    "                \"properties\": {\n",
    "                    \"company_name\": {\n",
    "                        \"type\": \"string\",\n",
    "                        \"description\": \"The name of the company\",\n",
    "                    }\n",
    "                },\n",
    "                \"required\": [\"company_name\"],\n",
    "            },\n",
    "        },\n",
    "    },\n",
    "    {\n",
    "        \"type\": \"function\",\n",
    "        \"function\": {\n",
    "            \"name\": \"get_income_statement\",\n",
    "            \"description\": \"Given a ticker symbol (i.e AAPL) returns the company's income statement.\",\n",
    "            \"parameters\": {\n",
    "                \"type\": \"object\",\n",
    "                \"properties\": {\n",
    "                    \"ticker\": {\n",
    "                        \"type\": \"string\",\n",
    "                        \"description\": \"Ticker symbol of the company\",\n",
    "                    },\n",
    "                },\n",
    "                \"required\": [\"ticker\"],\n",
    "            },\n",
    "        },\n",
    "    },\n",
    "    {\n",
    "        \"type\": \"function\",\n",
    "        \"function\": {\n",
    "            \"name\": \"get_balance_sheet\",\n",
    "            \"description\": \"Given a ticker symbol (i.e AAPL) returns the company's balance sheet.\",\n",
    "            \"parameters\": {\n",
    "                \"type\": \"object\",\n",
    "                \"properties\": {\n",
    "                    \"ticker\": {\n",
    "                        \"type\": \"string\",\n",
    "                        \"description\": \"Ticker symbol of the company\",\n",
    "                    },\n",
    "                },\n",
    "                \"required\": [\"ticker\"],\n",
    "            },\n",
    "        },\n",
    "    },\n",
    "    {\n",
    "        \"type\": \"function\",\n",
    "        \"function\": {\n",
    "            \"name\": \"get_daily_stock_performance\",\n",
    "            \"description\": \"Given a ticker symbol (i.e AAPL) returns the performance of the stock for the last 100 days.\",\n",
    "            \"parameters\": {\n",
    "                \"type\": \"object\",\n",
    "                \"properties\": {\n",
    "                    \"ticker\": {\n",
    "                        \"type\": \"string\",\n",
    "                        \"description\": \"Ticker symbol of the company\",\n",
    "                    },\n",
    "                },\n",
    "                \"required\": [\"ticker\"],\n",
    "            },\n",
    "        },\n",
    "    },\n",
    "]\n",
    "\n"
   ]
  },
  {
   "cell_type": "code",
   "execution_count": 2,
   "metadata": {},
   "outputs": [
    {
     "data": {
      "text/plain": [
       "'\"{\\\\\"1727654400000\\\\\":{\\\\\"Tax Effect Of Unusual Items\\\\\":0.0,\\\\\"Tax Rate For Calcs\\\\\":0.240912,\\\\\"Normalized EBITDA\\\\\":134661000000.0,\\\\\"Net Income From Continuing Operation Net Minority Interest\\\\\":93736000000.0,\\\\\"Reconciled Depreciation\\\\\":11445000000.0,\\\\\"Reconciled Cost Of Revenue\\\\\":210352000000.0,\\\\\"EBITDA\\\\\":134661000000.0,\\\\\"EBIT\\\\\":123216000000.0,\\\\\"Net Interest Income\\\\\":null,\\\\\"Interest Expense\\\\\":null,\\\\\"Interest Income\\\\\":null,\\\\\"Normalized Income\\\\\":93736000000.0,\\\\\"Net Income From Continuing And Discontinued Operation\\\\\":93736000000.0,\\\\\"Total Expenses\\\\\":267819000000.0,\\\\\"Total Operating Income As Reported\\\\\":123216000000.0,\\\\\"Diluted Average Shares\\\\\":null,\\\\\"Basic Average Shares\\\\\":null,\\\\\"Diluted EPS\\\\\":null,\\\\\"Basic EPS\\\\\":null,\\\\\"Diluted NI Availto Com Stockholders\\\\\":93736000000.0,\\\\\"Net Income Common Stockholders\\\\\":93736000000.0,\\\\\"Net Income\\\\\":93736000000.0,\\\\\"Net Income Including Noncontrolling Interests\\\\\":93736000000.0,\\\\\"Net Income Continuous Operations\\\\\":93736000000.0,\\\\\"Tax Provision\\\\\":29749000000.0,\\\\\"Pretax Income\\\\\":123485000000.0,\\\\\"Other Income Expense\\\\\":269000000.0,\\\\\"Other Non Operating Income Expenses\\\\\":269000000.0,\\\\\"Net Non Operating Interest Income Expense\\\\\":null,\\\\\"Interest Expense Non Operating\\\\\":null,\\\\\"Interest Income Non Operating\\\\\":null,\\\\\"Operating Income\\\\\":123216000000.0,\\\\\"Operating Expense\\\\\":57467000000.0,\\\\\"Research And Development\\\\\":31370000000.0,\\\\\"Selling General And Administration\\\\\":26097000000.0,\\\\\"Gross Profit\\\\\":180683000000.0,\\\\\"Cost Of Revenue\\\\\":210352000000.0,\\\\\"Total Revenue\\\\\":391035000000.0,\\\\\"Operating Revenue\\\\\":391035000000.0},\\\\\"1696032000000\\\\\":{\\\\\"Tax Effect Of Unusual Items\\\\\":0.0,\\\\\"Tax Rate For Calcs\\\\\":0.147192,\\\\\"Normalized EBITDA\\\\\":125820000000.0,\\\\\"Net Income From Continuing Operation Net Minority Interest\\\\\":96995000000.0,\\\\\"Reconciled Depreciation\\\\\":11519000000.0,\\\\\"Reconciled Cost Of Revenue\\\\\":214137000000.0,\\\\\"EBITDA\\\\\":125820000000.0,\\\\\"EBIT\\\\\":114301000000.0,\\\\\"Net Interest Income\\\\\":-183000000.0,\\\\\"Interest Expense\\\\\":3933000000.0,\\\\\"Interest Income\\\\\":3750000000.0,\\\\\"Normalized Income\\\\\":96995000000.0,\\\\\"Net Income From Continuing And Discontinued Operation\\\\\":96995000000.0,\\\\\"Total Expenses\\\\\":268984000000.0,\\\\\"Total Operating Income As Reported\\\\\":114301000000.0,\\\\\"Diluted Average Shares\\\\\":15812547000.0,\\\\\"Basic Average Shares\\\\\":15744231000.0,\\\\\"Diluted EPS\\\\\":6.13,\\\\\"Basic EPS\\\\\":6.16,\\\\\"Diluted NI Availto Com Stockholders\\\\\":96995000000.0,\\\\\"Net Income Common Stockholders\\\\\":96995000000.0,\\\\\"Net Income\\\\\":96995000000.0,\\\\\"Net Income Including Noncontrolling Interests\\\\\":96995000000.0,\\\\\"Net Income Continuous Operations\\\\\":96995000000.0,\\\\\"Tax Provision\\\\\":16741000000.0,\\\\\"Pretax Income\\\\\":113736000000.0,\\\\\"Other Income Expense\\\\\":-565000000.0,\\\\\"Other Non Operating Income Expenses\\\\\":-565000000.0,\\\\\"Net Non Operating Interest Income Expense\\\\\":-183000000.0,\\\\\"Interest Expense Non Operating\\\\\":3933000000.0,\\\\\"Interest Income Non Operating\\\\\":3750000000.0,\\\\\"Operating Income\\\\\":114301000000.0,\\\\\"Operating Expense\\\\\":54847000000.0,\\\\\"Research And Development\\\\\":29915000000.0,\\\\\"Selling General And Administration\\\\\":24932000000.0,\\\\\"Gross Profit\\\\\":169148000000.0,\\\\\"Cost Of Revenue\\\\\":214137000000.0,\\\\\"Total Revenue\\\\\":383285000000.0,\\\\\"Operating Revenue\\\\\":383285000000.0},\\\\\"1664496000000\\\\\":{\\\\\"Tax Effect Of Unusual Items\\\\\":0.0,\\\\\"Tax Rate For Calcs\\\\\":0.162,\\\\\"Normalized EBITDA\\\\\":130541000000.0,\\\\\"Net Income From Continuing Operation Net Minority Interest\\\\\":99803000000.0,\\\\\"Reconciled Depreciation\\\\\":11104000000.0,\\\\\"Reconciled Cost Of Revenue\\\\\":223546000000.0,\\\\\"EBITDA\\\\\":130541000000.0,\\\\\"EBIT\\\\\":119437000000.0,\\\\\"Net Interest Income\\\\\":-106000000.0,\\\\\"Interest Expense\\\\\":2931000000.0,\\\\\"Interest Income\\\\\":2825000000.0,\\\\\"Normalized Income\\\\\":99803000000.0,\\\\\"Net Income From Continuing And Discontinued Operation\\\\\":99803000000.0,\\\\\"Total Expenses\\\\\":274891000000.0,\\\\\"Total Operating Income As Reported\\\\\":119437000000.0,\\\\\"Diluted Average Shares\\\\\":16325819000.0,\\\\\"Basic Average Shares\\\\\":16215963000.0,\\\\\"Diluted EPS\\\\\":6.11,\\\\\"Basic EPS\\\\\":6.15,\\\\\"Diluted NI Availto Com Stockholders\\\\\":99803000000.0,\\\\\"Net Income Common Stockholders\\\\\":99803000000.0,\\\\\"Net Income\\\\\":99803000000.0,\\\\\"Net Income Including Noncontrolling Interests\\\\\":99803000000.0,\\\\\"Net Income Continuous Operations\\\\\":99803000000.0,\\\\\"Tax Provision\\\\\":19300000000.0,\\\\\"Pretax Income\\\\\":119103000000.0,\\\\\"Other Income Expense\\\\\":-334000000.0,\\\\\"Other Non Operating Income Expenses\\\\\":-334000000.0,\\\\\"Net Non Operating Interest Income Expense\\\\\":-106000000.0,\\\\\"Interest Expense Non Operating\\\\\":2931000000.0,\\\\\"Interest Income Non Operating\\\\\":2825000000.0,\\\\\"Operating Income\\\\\":119437000000.0,\\\\\"Operating Expense\\\\\":51345000000.0,\\\\\"Research And Development\\\\\":26251000000.0,\\\\\"Selling General And Administration\\\\\":25094000000.0,\\\\\"Gross Profit\\\\\":170782000000.0,\\\\\"Cost Of Revenue\\\\\":223546000000.0,\\\\\"Total Revenue\\\\\":394328000000.0,\\\\\"Operating Revenue\\\\\":394328000000.0},\\\\\"1632960000000\\\\\":{\\\\\"Tax Effect Of Unusual Items\\\\\":0.0,\\\\\"Tax Rate For Calcs\\\\\":0.133,\\\\\"Normalized EBITDA\\\\\":123136000000.0,\\\\\"Net Income From Continuing Operation Net Minority Interest\\\\\":94680000000.0,\\\\\"Reconciled Depreciation\\\\\":11284000000.0,\\\\\"Reconciled Cost Of Revenue\\\\\":212981000000.0,\\\\\"EBITDA\\\\\":123136000000.0,\\\\\"EBIT\\\\\":111852000000.0,\\\\\"Net Interest Income\\\\\":198000000.0,\\\\\"Interest Expense\\\\\":2645000000.0,\\\\\"Interest Income\\\\\":2843000000.0,\\\\\"Normalized Income\\\\\":94680000000.0,\\\\\"Net Income From Continuing And Discontinued Operation\\\\\":94680000000.0,\\\\\"Total Expenses\\\\\":256868000000.0,\\\\\"Total Operating Income As Reported\\\\\":108949000000.0,\\\\\"Diluted Average Shares\\\\\":16864919000.0,\\\\\"Basic Average Shares\\\\\":16701272000.0,\\\\\"Diluted EPS\\\\\":5.61,\\\\\"Basic EPS\\\\\":5.67,\\\\\"Diluted NI Availto Com Stockholders\\\\\":94680000000.0,\\\\\"Net Income Common Stockholders\\\\\":94680000000.0,\\\\\"Net Income\\\\\":94680000000.0,\\\\\"Net Income Including Noncontrolling Interests\\\\\":94680000000.0,\\\\\"Net Income Continuous Operations\\\\\":94680000000.0,\\\\\"Tax Provision\\\\\":14527000000.0,\\\\\"Pretax Income\\\\\":109207000000.0,\\\\\"Other Income Expense\\\\\":60000000.0,\\\\\"Other Non Operating Income Expenses\\\\\":60000000.0,\\\\\"Net Non Operating Interest Income Expense\\\\\":198000000.0,\\\\\"Interest Expense Non Operating\\\\\":2645000000.0,\\\\\"Interest Income Non Operating\\\\\":2843000000.0,\\\\\"Operating Income\\\\\":108949000000.0,\\\\\"Operating Expense\\\\\":43887000000.0,\\\\\"Research And Development\\\\\":21914000000.0,\\\\\"Selling General And Administration\\\\\":21973000000.0,\\\\\"Gross Profit\\\\\":152836000000.0,\\\\\"Cost Of Revenue\\\\\":212981000000.0,\\\\\"Total Revenue\\\\\":365817000000.0,\\\\\"Operating Revenue\\\\\":365817000000.0},\\\\\"1601424000000\\\\\":{\\\\\"Tax Effect Of Unusual Items\\\\\":null,\\\\\"Tax Rate For Calcs\\\\\":null,\\\\\"Normalized EBITDA\\\\\":null,\\\\\"Net Income From Continuing Operation Net Minority Interest\\\\\":null,\\\\\"Reconciled Depreciation\\\\\":null,\\\\\"Reconciled Cost Of Revenue\\\\\":null,\\\\\"EBITDA\\\\\":null,\\\\\"EBIT\\\\\":null,\\\\\"Net Interest Income\\\\\":890000000.0,\\\\\"Interest Expense\\\\\":2873000000.0,\\\\\"Interest Income\\\\\":3763000000.0,\\\\\"Normalized Income\\\\\":null,\\\\\"Net Income From Continuing And Discontinued Operation\\\\\":null,\\\\\"Total Expenses\\\\\":null,\\\\\"Total Operating Income As Reported\\\\\":null,\\\\\"Diluted Average Shares\\\\\":17528214000.0,\\\\\"Basic Average Shares\\\\\":17352119000.0,\\\\\"Diluted EPS\\\\\":3.28,\\\\\"Basic EPS\\\\\":3.31,\\\\\"Diluted NI Availto Com Stockholders\\\\\":null,\\\\\"Net Income Common Stockholders\\\\\":null,\\\\\"Net Income\\\\\":null,\\\\\"Net Income Including Noncontrolling Interests\\\\\":null,\\\\\"Net Income Continuous Operations\\\\\":null,\\\\\"Tax Provision\\\\\":null,\\\\\"Pretax Income\\\\\":null,\\\\\"Other Income Expense\\\\\":null,\\\\\"Other Non Operating Income Expenses\\\\\":null,\\\\\"Net Non Operating Interest Income Expense\\\\\":890000000.0,\\\\\"Interest Expense Non Operating\\\\\":2873000000.0,\\\\\"Interest Income Non Operating\\\\\":3763000000.0,\\\\\"Operating Income\\\\\":null,\\\\\"Operating Expense\\\\\":null,\\\\\"Research And Development\\\\\":null,\\\\\"Selling General And Administration\\\\\":null,\\\\\"Gross Profit\\\\\":null,\\\\\"Cost Of Revenue\\\\\":null,\\\\\"Total Revenue\\\\\":null,\\\\\"Operating Revenue\\\\\":null}}\"'"
      ]
     },
     "execution_count": 2,
     "metadata": {},
     "output_type": "execute_result"
    }
   ],
   "source": [
    "get_income_statement({\"ticker\":\"AAPL\"})\n"
   ]
  },
  {
   "cell_type": "code",
   "execution_count": 3,
   "metadata": {},
   "outputs": [
    {
     "data": {
      "text/plain": [
       "Assistant(id='asst_sCzcnZgwBASqKjN1BkR3eYVv', created_at=1735390671, description=None, instructions='You help users do research on publicly traded companies and you help users decide if they should buy the stock or not.', metadata={}, model='gpt-4o-mini', name='Investor Assistant', object='assistant', tools=[FunctionTool(function=FunctionDefinition(name='get_ticker', description='Given the name of a company returns its ticker symbol', parameters={'type': 'object', 'properties': {'company_name': {'type': 'string', 'description': 'The name of the company'}}, 'required': ['company_name']}, strict=False), type='function'), FunctionTool(function=FunctionDefinition(name='get_income_statement', description=\"Given a ticker symbol (i.e AAPL) returns the company's income statement.\", parameters={'type': 'object', 'properties': {'ticker': {'type': 'string', 'description': 'Ticker symbol of the company'}}, 'required': ['ticker']}, strict=False), type='function'), FunctionTool(function=FunctionDefinition(name='get_balance_sheet', description=\"Given a ticker symbol (i.e AAPL) returns the company's balance sheet.\", parameters={'type': 'object', 'properties': {'ticker': {'type': 'string', 'description': 'Ticker symbol of the company'}}, 'required': ['ticker']}, strict=False), type='function'), FunctionTool(function=FunctionDefinition(name='get_daily_stock_performance', description='Given a ticker symbol (i.e AAPL) returns the performance of the stock for the last 100 days.', parameters={'type': 'object', 'properties': {'ticker': {'type': 'string', 'description': 'Ticker symbol of the company'}}, 'required': ['ticker']}, strict=False), type='function')], response_format='auto', temperature=1.0, tool_resources=ToolResources(code_interpreter=None, file_search=None), top_p=1.0)"
      ]
     },
     "execution_count": 3,
     "metadata": {},
     "output_type": "execute_result"
    }
   ],
   "source": [
    "import openai as client\n",
    "\n",
    "assistant = client.beta.assistants.create(\n",
    "    name=\"Investor Assistant\",\n",
    "    instructions=\"You help users do research on publicly traded companies and you help users decide if they should buy the stock or not.\",\n",
    "    model=\"gpt-4o-mini\",\n",
    "    tools=functions,\n",
    ")\n",
    "assistant\n"
   ]
  },
  {
   "cell_type": "code",
   "execution_count": null,
   "metadata": {},
   "outputs": [],
   "source": []
  }
 ],
 "metadata": {
  "kernelspec": {
   "display_name": "env",
   "language": "python",
   "name": "python3"
  },
  "language_info": {
   "codemirror_mode": {
    "name": "ipython",
    "version": 3
   },
   "file_extension": ".py",
   "mimetype": "text/x-python",
   "name": "python",
   "nbconvert_exporter": "python",
   "pygments_lexer": "ipython3",
   "version": "3.12.7"
  }
 },
 "nbformat": 4,
 "nbformat_minor": 2
}
