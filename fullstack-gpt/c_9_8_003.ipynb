{
 "cells": [
  {
   "cell_type": "code",
   "execution_count": 1,
   "metadata": {},
   "outputs": [],
   "source": [
    "from langchain_google_genai import ChatGoogleGenerativeAI\n",
    "from langchain_google_genai import GoogleGenerativeAIEmbeddings\n",
    "from langchain.prompts import PromptTemplate"
   ]
  },
  {
   "cell_type": "code",
   "execution_count": 5,
   "metadata": {},
   "outputs": [
    {
     "name": "stdout",
     "output_type": "stream",
     "text": [
      "Q: Who was the first emperor of Rome?\n",
      "A: Augustus\n",
      "\n",
      "Q: What was the name of the Roman Senate's meeting place?\n",
      "A: Curia Julia\n",
      "\n",
      "Q: What were the two main bodies of the Roman government?\n",
      "A: The Senate and the Assemblies\n",
      "\n",
      "Q: What large amphitheater in Rome was used for gladiatorial contests and public spectacles?\n",
      "A: Colosseum\n",
      "\n",
      "Q: What were the twelve tables?\n",
      "A: The earliest written code of Roman law\n",
      "\n",
      "Q: Which Roman god was associated with war and agriculture?\n",
      "A: Mars\n",
      "\n",
      "Q: What was the name of the Roman goddess of love and beauty?\n",
      "A: Venus\n",
      "\n",
      "Q: What was the name of the Roman Empire's extensive network of roads?\n",
      "A: Roman Road System\n",
      "\n",
      "Q: What was the name of the famous Roman aqueduct that brought water to Rome?\n",
      "A: Aqua Claudia (or any other specific aqueduct)\n",
      "\n",
      "Q: What was the Punic Wars fought between?\n",
      "A: Rome and Carthage\n",
      "\n",
      "Q: What is a 'legion' in the context of Ancient Rome?\n",
      "A: A large military unit of the Roman army\n",
      "\n",
      "Q: Who famously said 'Veni, vidi, vici'?\n",
      "A: Julius Caesar\n",
      "\n"
     ]
    }
   ],
   "source": [
    "llm = ChatGoogleGenerativeAI(\n",
    "    model=\"gemini-1.5-flash\", \n",
    "    temperature=0.1,\n",
    ")\n",
    "\n",
    "prompt = PromptTemplate.from_template(\n",
    "    \"Create a quiz about {topic}. Format the output as a JSON object with 'questions' as the key and an array of question objects as the value. Each question object should have 'question' and 'answer' fields.\"\n",
    ")\n",
    "\n",
    "chain = prompt | llm\n",
    "\n",
    "response = chain.invoke({\"topic\": \"Ancient Rome\"})\n",
    "response_json = response.content.replace('```', '').replace('json', '', 1).strip()\n",
    "\n",
    "\n",
    "# JSON 응답 파싱\n",
    "import json\n",
    "quiz_data = json.loads(response_json)\n",
    "\n",
    "# 구조화된 퀴즈 데이터 사용\n",
    "for question in quiz_data['questions']:\n",
    "    print(f\"Q: {question['question']}\")\n",
    "    print(f\"A: {question['answer']}\")\n",
    "    print()\n",
    "\n",
    "\n",
    "\n"
   ]
  }
 ],
 "metadata": {
  "kernelspec": {
   "display_name": "env",
   "language": "python",
   "name": "python3"
  },
  "language_info": {
   "codemirror_mode": {
    "name": "ipython",
    "version": 3
   },
   "file_extension": ".py",
   "mimetype": "text/x-python",
   "name": "python",
   "nbconvert_exporter": "python",
   "pygments_lexer": "ipython3",
   "version": "3.12.7"
  }
 },
 "nbformat": 4,
 "nbformat_minor": 2
}
