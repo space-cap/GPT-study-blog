{
 "cells": [
  {
   "cell_type": "code",
   "execution_count": 1,
   "metadata": {},
   "outputs": [
    {
     "name": "stderr",
     "output_type": "stream",
     "text": [
      "C:\\Users\\rich\\AppData\\Local\\Temp\\ipykernel_18240\\3870387417.py:5: LangChainDeprecationWarning: The class `ChatOpenAI` was deprecated in LangChain 0.0.10 and will be removed in 1.0. An updated version of the class exists in the :class:`~langchain-openai package and should be used instead. To use it run `pip install -U :class:`~langchain-openai` and import as `from :class:`~langchain_openai import ChatOpenAI``.\n",
      "  chat = ChatOpenAI(\n"
     ]
    }
   ],
   "source": [
    "from langchain.chat_models import ChatOpenAI\n",
    "from langchain.prompts import ChatPromptTemplate\n",
    "from langchain.callbacks import StreamingStdOutCallbackHandler\n",
    "\n",
    "chat = ChatOpenAI(\n",
    "    model_name=\"gpt-3.5-turbo\",\n",
    "    streaming=True,\n",
    "    callbacks=[\n",
    "        StreamingStdOutCallbackHandler(),\n",
    "    ],\n",
    ")"
   ]
  },
  {
   "cell_type": "code",
   "execution_count": 46,
   "metadata": {},
   "outputs": [],
   "source": [
    "poet_prompt = ChatPromptTemplate.from_messages(\n",
    "    [\n",
    "        (\n",
    "            \"system\",\n",
    "            \"You are a world-renowned poet known for your deep understanding of programming languages. Your poems capture the essence and unique characteristics of each language beautifully.\",\n",
    "        ),\n",
    "        (\"human\", \"Write a poem about the {language} programming language.\"),\n",
    "    ]\n",
    ")\n",
    "\n",
    "poet_chain = poet_prompt | chat"
   ]
  },
  {
   "cell_type": "code",
   "execution_count": 47,
   "metadata": {},
   "outputs": [],
   "source": [
    "explainer_prompt = ChatPromptTemplate.from_messages(\n",
    "    [\n",
    "        (\n",
    "            \"system\",\n",
    "            \"You are an expert in poetry analysis. Your task is to explain the meaning, themes, and nuances of any poem in a clear and insightful manner.\",\n",
    "        ),\n",
    "        (\"human\", \"Explain the following poem:\\n\\n{poem}\"),\n",
    "    ]\n",
    ")\n",
    "\n",
    "explainer_chain = explainer_prompt | chat"
   ]
  },
  {
   "cell_type": "code",
   "execution_count": 48,
   "metadata": {},
   "outputs": [
    {
     "name": "stdout",
     "output_type": "stream",
     "text": [
      "In the realm of code, where serpents glide,\n",
      "Python slithers with grace, no need to hide.\n",
      "Its syntax smooth, like a gentle breeze,\n",
      "Indents and colons, with such ease.\n",
      "\n",
      "With libraries vast, like stars in the sky,\n",
      "NumPy, Pandas, Matplotlib high.\n",
      "From web development to AI's might,\n",
      "Python shines, a beacon of light.\n",
      "\n",
      "Simple and powerful, elegant and clean,\n",
      "In loops and functions, its beauty seen.\n",
      "A language beloved by many, it's true,\n",
      "Python, oh Python, we sing to you.This poem is a tribute to the programming language Python, cleverly weaving together technical aspects with poetic language to celebrate its elegance and versatility. The poet begins by setting the scene in the \"realm of code,\" painting a vivid image of serpents gliding, a nod to Python's namesake. The choice of serpents as imagery is fitting, as it conveys a sense of sleekness and agility attributed to Python's syntax.\n",
      "\n",
      "The poem goes on to highlight Python's smooth syntax, likening it to a gentle breeze, which emphasizes the language's readability and ease of use. The mention of \"indents and colons\" references Python's distinctive use of indentation and punctuation, showcasing how even these seemingly mundane elements are praised for their simplicity and effectiveness.\n",
      "\n",
      "The poet then shifts focus to Python's extensive libraries, comparing them to \"stars in the sky,\" emphasizing the vast possibilities and resources available to Python programmers. The mention of NumPy, Pandas, and Matplotlib, popular libraries in the Python ecosystem, further reinforces the language's capabilities in various domains, from data analysis to visualization and beyond.\n",
      "\n",
      "The poem continues by highlighting Python's applications in web development and artificial intelligence, portraying it as a beacon of light illuminating the path for developers in these cutting-edge fields. The language's reputation for being both user-friendly and powerful is underscored through descriptors like \"simple and powerful\" and \"elegant and clean,\" capturing the essence of Python's appeal to a wide range of users.\n",
      "\n",
      "Finally, the poet acknowledges Python's widespread popularity and affection among its users, expressing admiration and gratitude towards the language in a heartfelt conclusion. The repeated invocation of \"Python, oh Python, we sing to you\" creates a sense of reverence and appreciation for the language, elevating it to a position of admiration and respect within the programming community.\n",
      "\n",
      "In essence, this poem serves as a poetic ode to Python, celebrating its strengths, versatility, and impact in the world of programming, while also capturing the sentiment of admiration and affection shared by many of its users."
     ]
    },
    {
     "data": {
      "text/plain": [
       "AIMessageChunk(content='This poem is a tribute to the programming language Python, cleverly weaving together technical aspects with poetic language to celebrate its elegance and versatility. The poet begins by setting the scene in the \"realm of code,\" painting a vivid image of serpents gliding, a nod to Python\\'s namesake. The choice of serpents as imagery is fitting, as it conveys a sense of sleekness and agility attributed to Python\\'s syntax.\\n\\nThe poem goes on to highlight Python\\'s smooth syntax, likening it to a gentle breeze, which emphasizes the language\\'s readability and ease of use. The mention of \"indents and colons\" references Python\\'s distinctive use of indentation and punctuation, showcasing how even these seemingly mundane elements are praised for their simplicity and effectiveness.\\n\\nThe poet then shifts focus to Python\\'s extensive libraries, comparing them to \"stars in the sky,\" emphasizing the vast possibilities and resources available to Python programmers. The mention of NumPy, Pandas, and Matplotlib, popular libraries in the Python ecosystem, further reinforces the language\\'s capabilities in various domains, from data analysis to visualization and beyond.\\n\\nThe poem continues by highlighting Python\\'s applications in web development and artificial intelligence, portraying it as a beacon of light illuminating the path for developers in these cutting-edge fields. The language\\'s reputation for being both user-friendly and powerful is underscored through descriptors like \"simple and powerful\" and \"elegant and clean,\" capturing the essence of Python\\'s appeal to a wide range of users.\\n\\nFinally, the poet acknowledges Python\\'s widespread popularity and affection among its users, expressing admiration and gratitude towards the language in a heartfelt conclusion. The repeated invocation of \"Python, oh Python, we sing to you\" creates a sense of reverence and appreciation for the language, elevating it to a position of admiration and respect within the programming community.\\n\\nIn essence, this poem serves as a poetic ode to Python, celebrating its strengths, versatility, and impact in the world of programming, while also capturing the sentiment of admiration and affection shared by many of its users.')"
      ]
     },
     "execution_count": 48,
     "metadata": {},
     "output_type": "execute_result"
    }
   ],
   "source": [
    "final_chain = {\"poem\": poet_chain} | explainer_chain\n",
    "\n",
    "final_chain.invoke({\"language\": \"python\"})"
   ]
  }
 ],
 "metadata": {
  "kernelspec": {
   "display_name": "env",
   "language": "python",
   "name": "python3"
  },
  "language_info": {
   "codemirror_mode": {
    "name": "ipython",
    "version": 3
   },
   "file_extension": ".py",
   "mimetype": "text/x-python",
   "name": "python",
   "nbconvert_exporter": "python",
   "pygments_lexer": "ipython3",
   "version": "3.12.7"
  }
 },
 "nbformat": 4,
 "nbformat_minor": 2
}
