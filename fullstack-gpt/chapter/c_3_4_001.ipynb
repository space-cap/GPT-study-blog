{
 "cells": [
  {
   "cell_type": "code",
   "execution_count": 11,
   "metadata": {},
   "outputs": [],
   "source": [
    "from dotenv import load_dotenv\n",
    "import os\n",
    "\n",
    "load_dotenv()\n",
    "\n",
    "from langchain_google_genai import ChatGoogleGenerativeAI\n",
    "from langchain.prompts import ChatPromptTemplate\n",
    "from langchain.callbacks import StreamingStdOutCallbackHandler\n",
    "\n",
    "chat = ChatGoogleGenerativeAI(model=\"gemini-1.5-flash\", \n",
    "                              temperature=0.1,\n",
    "                              streaming=True,\n",
    "                                callbacks=[\n",
    "                                    StreamingStdOutCallbackHandler(),\n",
    "                                ],)"
   ]
  },
  {
   "cell_type": "code",
   "execution_count": 12,
   "metadata": {},
   "outputs": [],
   "source": [
    "chef_prompt = ChatPromptTemplate.from_messages(\n",
    "    [\n",
    "        (\"system\", \"You are a world-class international chef. You create easy to follow recipies for any type of cuisine with easy to find ingredients.\"),\n",
    "        (\"human\", \"I want to cook {cuisine} food.\"),\n",
    "    ]\n",
    ")\n",
    "\n",
    "chef_chain = chef_prompt | chat\n",
    "\n"
   ]
  },
  {
   "cell_type": "code",
   "execution_count": 13,
   "metadata": {},
   "outputs": [],
   "source": [
    "veg_chef_prompt = ChatPromptTemplate.from_messages(\n",
    "    [\n",
    "        (\n",
    "            \"system\",\n",
    "            \"You are a vegetarian chef specialized on making traditional recipies vegetarian. You find alternative ingredients and explain their preparation. You don't radically modify the recipe. If there is no alternative for a food just say you don't know how to replace it.\",\n",
    "        ),\n",
    "        (\"human\", \"{recipe}\"),\n",
    "    ]\n",
    ")\n",
    "\n",
    "\n",
    "veg_chain = veg_chef_prompt | chat\n"
   ]
  },
  {
   "cell_type": "code",
   "execution_count": 14,
   "metadata": {},
   "outputs": [
    {
     "data": {
      "text/plain": [
       "AIMessage(content=\"I'm excited to create a delicious vegetarian Indian recipe for you!  Let's go with a **North Indian** dish, specifically a vegetarian version of **Saag Paneer**.  This is a great choice because it's flavorful, relatively easy to make even for beginners, and can be adjusted for spice level.\\n\\nTo make it vegetarian, we'll simply replace the paneer (Indian cheese) with a hearty and flavorful alternative.  I recommend using firm tofu, pressed to remove excess water, and then pan-fried or baked until slightly browned for a similar texture.  You can also marinate the tofu in a mixture of turmeric, ginger, and garlic paste for added flavor before cooking.\\n\\nThe rest of the recipe will follow traditional methods. We'll use fresh spinach (saag) pureed for a vibrant green color and creamy texture.  The spices will remain the same – garam masala, ginger, garlic, chili powder (adjust to your spice preference), and cumin.  We'll use vegetable broth instead of chicken broth for the sauce.\\n\\nI can provide you with a detailed recipe once you tell me your skill level (beginner, intermediate, or advanced).  This will help me tailor the instructions and level of detail to your experience in the kitchen.\\n\", additional_kwargs={}, response_metadata={'prompt_feedback': {'block_reason': 0, 'safety_ratings': []}, 'finish_reason': 'STOP', 'safety_ratings': []}, id='run-7004e0df-3211-48d3-8c32-068cc2661f3f-0', usage_metadata={'input_tokens': 327, 'output_tokens': 263, 'total_tokens': 590, 'input_token_details': {'cache_read': 0}})"
      ]
     },
     "execution_count": 14,
     "metadata": {},
     "output_type": "execute_result"
    }
   ],
   "source": [
    "final_chain = {\"recipe\": chef_chain} | veg_chain\n",
    "\n",
    "final_chain.invoke({\"cuisine\": \"indian\"})\n"
   ]
  },
  {
   "cell_type": "code",
   "execution_count": null,
   "metadata": {},
   "outputs": [],
   "source": []
  }
 ],
 "metadata": {
  "kernelspec": {
   "display_name": "env",
   "language": "python",
   "name": "python3"
  },
  "language_info": {
   "codemirror_mode": {
    "name": "ipython",
    "version": 3
   },
   "file_extension": ".py",
   "mimetype": "text/x-python",
   "name": "python",
   "nbconvert_exporter": "python",
   "pygments_lexer": "ipython3",
   "version": "3.12.7"
  }
 },
 "nbformat": 4,
 "nbformat_minor": 2
}
