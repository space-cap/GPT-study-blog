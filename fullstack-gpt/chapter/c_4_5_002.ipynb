{
 "cells": [
  {
   "cell_type": "code",
   "execution_count": 4,
   "metadata": {},
   "outputs": [],
   "source": [
    "from dotenv import load_dotenv\n",
    "import os\n",
    "\n",
    "load_dotenv()\n",
    "\n",
    "from langchain_google_genai import ChatGoogleGenerativeAI\n",
    "from langchain.globals import set_llm_cache, set_debug\n",
    "from langchain.cache import InMemoryCache, SQLiteCache\n",
    "\n",
    "set_llm_cache(SQLiteCache(\"cache.db\"))\n",
    "set_debug(False)\n",
    "\n",
    "chat = ChatGoogleGenerativeAI(\n",
    "    model=\"gemini-1.5-flash\", \n",
    "    temperature=0.1,\n",
    "    # disable_streaming=False,\n",
    "    # callbacks=[\n",
    "    #    StreamingStdOutCallbackHandler(),\n",
    "    # ],\n",
    ")\n"
   ]
  },
  {
   "cell_type": "code",
   "execution_count": 5,
   "metadata": {},
   "outputs": [
    {
     "data": {
      "text/plain": [
       "'Making Italian pasta involves several steps, from making the dough to cooking the pasta.  Here\\'s a breakdown of how to make fresh pasta from scratch, followed by cooking instructions:\\n\\n**I. Making the Pasta Dough:**\\n\\nThis recipe makes enough for about 2 servings.\\n\\n**Ingredients:**\\n\\n* 200g (1 ½ cups) \"00\" flour (or all-purpose flour, but \"00\" gives a smoother texture)\\n* 3 large eggs\\n* 1 teaspoon olive oil (optional, but adds richness)\\n* Pinch of salt\\n\\n**Instructions:**\\n\\n1. **Mound the flour:**  Make a well (a small indentation) in the center of a large pile of flour on a clean work surface.\\n2. **Add wet ingredients:** Crack the eggs into the well, add the olive oil (if using), and the salt.\\n3. **Incorporate the flour:** Using a fork, gradually whisk the eggs, incorporating the flour from the well.  Work your way outwards, slowly bringing more flour into the mixture.\\n4. **Knead the dough:** Once the dough starts to come together, use your hands to knead it for 8-10 minutes.  The dough should become smooth and elastic.  If it\\'s too dry, add a teaspoon of water at a time. If it\\'s too wet, add a tablespoon of flour at a time.\\n5. **Rest the dough:** Form the dough into a ball, wrap it tightly in plastic wrap, and let it rest at room temperature for at least 30 minutes. This allows the gluten to relax, making it easier to roll.\\n\\n**II. Shaping the Pasta:**\\n\\nThere are many shapes you can make, but here\\'s how to make tagliatelle (flat noodles):\\n\\n1. **Roll the dough:** Using a pasta machine (or rolling pin), roll the dough out to your desired thickness. Start with a thicker setting and gradually decrease the thickness.\\n2. **Cut the pasta:** Fold the rolled-out dough in half, then in half again.  Cut the dough into strips of your desired width (about ½ inch for tagliatelle).  Unfold the strips.\\n3. **Dust with flour:** Lightly dust the pasta with flour to prevent sticking.\\n\\n**III. Cooking the Pasta:**\\n\\n1. **Boil water:** Bring a large pot of salted water to a rolling boil.  Use plenty of water (at least 6 quarts for a pound of pasta).  The salt seasons the pasta from the inside out.\\n2. **Cook the pasta:** Add the pasta to the boiling water and stir gently to prevent sticking.  Cook for 2-3 minutes, or until al dente (firm to the bite).  Fresh pasta cooks much faster than dried pasta.\\n3. **Drain the pasta:** Drain the pasta, reserving about ½ cup of the pasta water.\\n4. **Serve:** Toss the pasta with your favorite sauce.  If the sauce is too thick, add a little of the reserved pasta water to loosen it.\\n\\n\\n**Tips for Success:**\\n\\n* **Use good quality ingredients:** The better the flour and eggs, the better the pasta will taste.\\n* **Don\\'t overwork the dough:** Overkneading can make the pasta tough.\\n* **Let the dough rest:** Resting the dough is crucial for developing the gluten and making it easier to roll.\\n* **Cook the pasta al dente:**  This means it should be firm to the bite, not mushy.\\n* **Serve immediately:** Fresh pasta is best served immediately after cooking.\\n\\n\\nThis is a basic guide.  There are many variations and techniques for making pasta.  Experiment with different flours, add herbs or vegetables to the dough, and try different pasta shapes to find your favorites!\\n'"
      ]
     },
     "execution_count": 5,
     "metadata": {},
     "output_type": "execute_result"
    }
   ],
   "source": [
    "chat.predict(\"How do you make italian pasta\")\n"
   ]
  },
  {
   "cell_type": "code",
   "execution_count": null,
   "metadata": {},
   "outputs": [],
   "source": []
  }
 ],
 "metadata": {
  "kernelspec": {
   "display_name": "env",
   "language": "python",
   "name": "python3"
  },
  "language_info": {
   "codemirror_mode": {
    "name": "ipython",
    "version": 3
   },
   "file_extension": ".py",
   "mimetype": "text/x-python",
   "name": "python",
   "nbconvert_exporter": "python",
   "pygments_lexer": "ipython3",
   "version": "3.12.7"
  }
 },
 "nbformat": 4,
 "nbformat_minor": 2
}
