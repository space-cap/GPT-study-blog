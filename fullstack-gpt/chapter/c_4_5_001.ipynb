{
 "cells": [
  {
   "cell_type": "code",
   "execution_count": 5,
   "metadata": {},
   "outputs": [],
   "source": [
    "from dotenv import load_dotenv\n",
    "import os\n",
    "\n",
    "load_dotenv()\n",
    "\n",
    "from langchain_google_genai import ChatGoogleGenerativeAI\n",
    "from langchain.globals import set_llm_cache, set_debug\n",
    "from langchain.cache import InMemoryCache\n",
    "\n",
    "set_llm_cache(InMemoryCache())\n",
    "set_debug(True)\n",
    "\n",
    "chat = ChatGoogleGenerativeAI(\n",
    "    model=\"gemini-1.5-flash\", \n",
    "    temperature=0.1,\n",
    "    # disable_streaming=False,\n",
    "    # callbacks=[\n",
    "    #    StreamingStdOutCallbackHandler(),\n",
    "    # ],\n",
    ")\n"
   ]
  },
  {
   "cell_type": "code",
   "execution_count": 6,
   "metadata": {},
   "outputs": [
    {
     "name": "stdout",
     "output_type": "stream",
     "text": [
      "\u001b[32;1m\u001b[1;3m[llm/start]\u001b[0m \u001b[1m[llm:ChatGoogleGenerativeAI] Entering LLM run with input:\n",
      "\u001b[0m{\n",
      "  \"prompts\": [\n",
      "    \"Human: How do you make italian pasta\"\n",
      "  ]\n",
      "}\n",
      "\u001b[36;1m\u001b[1;3m[llm/end]\u001b[0m \u001b[1m[llm:ChatGoogleGenerativeAI] [6.24s] Exiting LLM run with output:\n",
      "\u001b[0m{\n",
      "  \"generations\": [\n",
      "    [\n",
      "      {\n",
      "        \"text\": \"Making Italian pasta involves several steps, from making the dough to cooking the pasta.  Here's a breakdown of how to make fresh pasta from scratch, followed by cooking instructions:\\n\\n**I. Making the Pasta Dough:**\\n\\nThis recipe makes enough for about 2 servings.\\n\\n**Ingredients:**\\n\\n* 200g (1 ½ cups) \\\"00\\\" flour (or all-purpose flour, but 00 gives a smoother texture)\\n* 3 large eggs\\n* 1 teaspoon olive oil (optional, but adds richness)\\n* Pinch of salt\\n\\n**Instructions:**\\n\\n1. **Mound the flour:**  Make a well (a small indentation) in the center of the flour on a clean work surface.\\n2. **Add wet ingredients:** Crack the eggs into the well, add the olive oil (if using), and the salt.\\n3. **Incorporate the flour:** Using a fork, gradually whisk the eggs, incorporating the flour from the inside of the well.  Work slowly to avoid making a mess.\\n4. **Knead the dough:** Once the dough starts to come together, use your hands to knead it for 8-10 minutes.  The dough should become smooth and elastic.  If it's too sticky, add a little more flour, a tablespoon at a time. If it's too dry, add a teaspoon of water at a time.\\n5. **Rest the dough:** Form the dough into a ball, wrap it tightly in plastic wrap, and let it rest at room temperature for at least 30 minutes. This allows the gluten to relax, making it easier to roll.\\n\\n**II. Shaping the Pasta:**\\n\\nThere are many shapes you can make, but here's how to make tagliatelle (flat noodles):\\n\\n1. **Roll the dough:** Divide the dough into 4 equal pieces.  Working with one piece at a time (keep the others covered), flatten it slightly with your hands.  Use a pasta machine (if you have one) to roll the dough through the widest setting, then gradually work your way down to your desired thickness.  If you don't have a machine, you can roll it out very thinly with a rolling pin.\\n2. **Cut the pasta:** Once rolled, lightly dust the dough with flour to prevent sticking. Fold the dough in half, then in half again.  Cut the dough into thin strips (about ¼ inch wide) using a sharp knife or a pasta cutter.  Unfold the strips to create the tagliatelle.\\n3. **Dust with flour:** Lightly dust the cut pasta with flour to prevent sticking.\\n\\n**III. Cooking the Pasta:**\\n\\n1. **Boil water:** Bring a large pot of salted water to a rolling boil.  Use plenty of water – about 6 quarts for a pound of pasta.\\n2. **Cook the pasta:** Add the pasta to the boiling water and stir gently to prevent sticking.  Cook for 2-3 minutes, or until al dente (firm to the bite).  Fresh pasta cooks much faster than dried pasta.\\n3. **Drain the pasta:** Drain the pasta, reserving about ½ cup of the pasta water.\\n4. **Serve:** Toss the pasta with your favorite sauce.  If the sauce is too thick, add a little of the reserved pasta water to loosen it.\\n\\n\\n**Tips for Success:**\\n\\n* **Use good quality ingredients:** The better the ingredients, the better the pasta will taste.\\n* **Don't overwork the dough:** Overkneading can make the pasta tough.\\n* **Let the dough rest:** Resting the dough is crucial for developing the gluten and making it easier to roll.\\n* **Cook the pasta al dente:** Overcooked pasta will be mushy.\\n* **Serve immediately:** Fresh pasta is best served immediately after cooking.\\n\\n\\nThis is a basic guide.  There are many variations and techniques for making pasta.  Experiment and find what works best for you!  Enjoy!\\n\",\n",
      "        \"generation_info\": {\n",
      "          \"finish_reason\": \"STOP\",\n",
      "          \"safety_ratings\": []\n",
      "        },\n",
      "        \"type\": \"ChatGeneration\",\n",
      "        \"message\": {\n",
      "          \"lc\": 1,\n",
      "          \"type\": \"constructor\",\n",
      "          \"id\": [\n",
      "            \"langchain\",\n",
      "            \"schema\",\n",
      "            \"messages\",\n",
      "            \"AIMessage\"\n",
      "          ],\n",
      "          \"kwargs\": {\n",
      "            \"content\": \"Making Italian pasta involves several steps, from making the dough to cooking the pasta.  Here's a breakdown of how to make fresh pasta from scratch, followed by cooking instructions:\\n\\n**I. Making the Pasta Dough:**\\n\\nThis recipe makes enough for about 2 servings.\\n\\n**Ingredients:**\\n\\n* 200g (1 ½ cups) \\\"00\\\" flour (or all-purpose flour, but 00 gives a smoother texture)\\n* 3 large eggs\\n* 1 teaspoon olive oil (optional, but adds richness)\\n* Pinch of salt\\n\\n**Instructions:**\\n\\n1. **Mound the flour:**  Make a well (a small indentation) in the center of the flour on a clean work surface.\\n2. **Add wet ingredients:** Crack the eggs into the well, add the olive oil (if using), and the salt.\\n3. **Incorporate the flour:** Using a fork, gradually whisk the eggs, incorporating the flour from the inside of the well.  Work slowly to avoid making a mess.\\n4. **Knead the dough:** Once the dough starts to come together, use your hands to knead it for 8-10 minutes.  The dough should become smooth and elastic.  If it's too sticky, add a little more flour, a tablespoon at a time. If it's too dry, add a teaspoon of water at a time.\\n5. **Rest the dough:** Form the dough into a ball, wrap it tightly in plastic wrap, and let it rest at room temperature for at least 30 minutes. This allows the gluten to relax, making it easier to roll.\\n\\n**II. Shaping the Pasta:**\\n\\nThere are many shapes you can make, but here's how to make tagliatelle (flat noodles):\\n\\n1. **Roll the dough:** Divide the dough into 4 equal pieces.  Working with one piece at a time (keep the others covered), flatten it slightly with your hands.  Use a pasta machine (if you have one) to roll the dough through the widest setting, then gradually work your way down to your desired thickness.  If you don't have a machine, you can roll it out very thinly with a rolling pin.\\n2. **Cut the pasta:** Once rolled, lightly dust the dough with flour to prevent sticking. Fold the dough in half, then in half again.  Cut the dough into thin strips (about ¼ inch wide) using a sharp knife or a pasta cutter.  Unfold the strips to create the tagliatelle.\\n3. **Dust with flour:** Lightly dust the cut pasta with flour to prevent sticking.\\n\\n**III. Cooking the Pasta:**\\n\\n1. **Boil water:** Bring a large pot of salted water to a rolling boil.  Use plenty of water – about 6 quarts for a pound of pasta.\\n2. **Cook the pasta:** Add the pasta to the boiling water and stir gently to prevent sticking.  Cook for 2-3 minutes, or until al dente (firm to the bite).  Fresh pasta cooks much faster than dried pasta.\\n3. **Drain the pasta:** Drain the pasta, reserving about ½ cup of the pasta water.\\n4. **Serve:** Toss the pasta with your favorite sauce.  If the sauce is too thick, add a little of the reserved pasta water to loosen it.\\n\\n\\n**Tips for Success:**\\n\\n* **Use good quality ingredients:** The better the ingredients, the better the pasta will taste.\\n* **Don't overwork the dough:** Overkneading can make the pasta tough.\\n* **Let the dough rest:** Resting the dough is crucial for developing the gluten and making it easier to roll.\\n* **Cook the pasta al dente:** Overcooked pasta will be mushy.\\n* **Serve immediately:** Fresh pasta is best served immediately after cooking.\\n\\n\\nThis is a basic guide.  There are many variations and techniques for making pasta.  Experiment and find what works best for you!  Enjoy!\\n\",\n",
      "            \"response_metadata\": {\n",
      "              \"prompt_feedback\": {\n",
      "                \"block_reason\": 0,\n",
      "                \"safety_ratings\": []\n",
      "              },\n",
      "              \"finish_reason\": \"STOP\",\n",
      "              \"safety_ratings\": []\n",
      "            },\n",
      "            \"type\": \"ai\",\n",
      "            \"id\": \"run-74898a7e-108e-4590-9916-c14aee64830d-0\",\n",
      "            \"usage_metadata\": {\n",
      "              \"input_tokens\": 7,\n",
      "              \"output_tokens\": 833,\n",
      "              \"total_tokens\": 840,\n",
      "              \"input_token_details\": {\n",
      "                \"cache_read\": 0\n",
      "              }\n",
      "            },\n",
      "            \"tool_calls\": [],\n",
      "            \"invalid_tool_calls\": []\n",
      "          }\n",
      "        }\n",
      "      }\n",
      "    ]\n",
      "  ],\n",
      "  \"llm_output\": {\n",
      "    \"prompt_feedback\": {\n",
      "      \"block_reason\": 0,\n",
      "      \"safety_ratings\": []\n",
      "    }\n",
      "  },\n",
      "  \"run\": null,\n",
      "  \"type\": \"LLMResult\"\n",
      "}\n"
     ]
    },
    {
     "data": {
      "text/plain": [
       "'Making Italian pasta involves several steps, from making the dough to cooking the pasta.  Here\\'s a breakdown of how to make fresh pasta from scratch, followed by cooking instructions:\\n\\n**I. Making the Pasta Dough:**\\n\\nThis recipe makes enough for about 2 servings.\\n\\n**Ingredients:**\\n\\n* 200g (1 ½ cups) \"00\" flour (or all-purpose flour, but 00 gives a smoother texture)\\n* 3 large eggs\\n* 1 teaspoon olive oil (optional, but adds richness)\\n* Pinch of salt\\n\\n**Instructions:**\\n\\n1. **Mound the flour:**  Make a well (a small indentation) in the center of the flour on a clean work surface.\\n2. **Add wet ingredients:** Crack the eggs into the well, add the olive oil (if using), and the salt.\\n3. **Incorporate the flour:** Using a fork, gradually whisk the eggs, incorporating the flour from the inside of the well.  Work slowly to avoid making a mess.\\n4. **Knead the dough:** Once the dough starts to come together, use your hands to knead it for 8-10 minutes.  The dough should become smooth and elastic.  If it\\'s too sticky, add a little more flour, a tablespoon at a time. If it\\'s too dry, add a teaspoon of water at a time.\\n5. **Rest the dough:** Form the dough into a ball, wrap it tightly in plastic wrap, and let it rest at room temperature for at least 30 minutes. This allows the gluten to relax, making it easier to roll.\\n\\n**II. Shaping the Pasta:**\\n\\nThere are many shapes you can make, but here\\'s how to make tagliatelle (flat noodles):\\n\\n1. **Roll the dough:** Divide the dough into 4 equal pieces.  Working with one piece at a time (keep the others covered), flatten it slightly with your hands.  Use a pasta machine (if you have one) to roll the dough through the widest setting, then gradually work your way down to your desired thickness.  If you don\\'t have a machine, you can roll it out very thinly with a rolling pin.\\n2. **Cut the pasta:** Once rolled, lightly dust the dough with flour to prevent sticking. Fold the dough in half, then in half again.  Cut the dough into thin strips (about ¼ inch wide) using a sharp knife or a pasta cutter.  Unfold the strips to create the tagliatelle.\\n3. **Dust with flour:** Lightly dust the cut pasta with flour to prevent sticking.\\n\\n**III. Cooking the Pasta:**\\n\\n1. **Boil water:** Bring a large pot of salted water to a rolling boil.  Use plenty of water – about 6 quarts for a pound of pasta.\\n2. **Cook the pasta:** Add the pasta to the boiling water and stir gently to prevent sticking.  Cook for 2-3 minutes, or until al dente (firm to the bite).  Fresh pasta cooks much faster than dried pasta.\\n3. **Drain the pasta:** Drain the pasta, reserving about ½ cup of the pasta water.\\n4. **Serve:** Toss the pasta with your favorite sauce.  If the sauce is too thick, add a little of the reserved pasta water to loosen it.\\n\\n\\n**Tips for Success:**\\n\\n* **Use good quality ingredients:** The better the ingredients, the better the pasta will taste.\\n* **Don\\'t overwork the dough:** Overkneading can make the pasta tough.\\n* **Let the dough rest:** Resting the dough is crucial for developing the gluten and making it easier to roll.\\n* **Cook the pasta al dente:** Overcooked pasta will be mushy.\\n* **Serve immediately:** Fresh pasta is best served immediately after cooking.\\n\\n\\nThis is a basic guide.  There are many variations and techniques for making pasta.  Experiment and find what works best for you!  Enjoy!\\n'"
      ]
     },
     "execution_count": 6,
     "metadata": {},
     "output_type": "execute_result"
    }
   ],
   "source": [
    "chat.predict(\"How do you make italian pasta\")\n"
   ]
  },
  {
   "cell_type": "code",
   "execution_count": 4,
   "metadata": {},
   "outputs": [
    {
     "data": {
      "text/plain": [
       "'Making Italian pasta involves several steps, from making the dough to cooking the pasta.  Here\\'s a breakdown of how to make fresh pasta from scratch, followed by cooking instructions:\\n\\n**I. Making the Pasta Dough:**\\n\\nThis recipe makes enough for about 2 servings.\\n\\n**Ingredients:**\\n\\n* 200g (1 ½ cups) \"00\" flour (or all-purpose flour, but \"00\" gives a smoother texture)\\n* 3 large eggs (or 4 small eggs)\\n* 1 teaspoon olive oil (optional, but adds richness and helps with elasticity)\\n* Pinch of salt\\n\\n**Instructions:**\\n\\n1. **Mound the flour:** Create a mound of flour on a clean work surface. Make a well in the center.\\n2. **Add wet ingredients:** Crack the eggs into the well, add the olive oil (if using), and the salt.\\n3. **Incorporate the flour:** Using a fork, gradually whisk the eggs, incorporating the flour from the well.  Work slowly to avoid making a mess.\\n4. **Knead the dough:** Once the dough starts to come together, use your hands to knead it for 8-10 minutes. The dough should become smooth and elastic. If it\\'s too dry, add a teaspoon of water at a time. If it\\'s too wet, add a tablespoon of flour at a time.\\n5. **Rest the dough:** Form the dough into a ball, wrap it tightly in plastic wrap, and let it rest at room temperature for at least 30 minutes. This allows the gluten to relax, making it easier to roll.\\n\\n**II. Shaping the Pasta:**\\n\\nThere are many shapes you can make, but here\\'s how to make tagliatelle (flat noodles):\\n\\n1. **Roll the dough:** Using a pasta machine (or rolling pin), roll the dough out to your desired thickness. Start with a thicker setting and gradually decrease the thickness.  Dust with flour to prevent sticking.\\n2. **Cut the pasta:** Fold the rolled-out dough in half, then in half again.  Cut the dough into strips of your desired width (about ½ inch for tagliatelle).  Unfold the strips.\\n3. **Dust with flour:** Lightly dust the cut pasta with flour to prevent sticking.\\n\\n**III. Cooking the Pasta:**\\n\\n1. **Boil water:** Bring a large pot of salted water to a rolling boil.  Use plenty of water (at least 6 quarts for a pound of pasta).  The salt seasons the pasta from the inside out.\\n2. **Cook the pasta:** Add the pasta to the boiling water and stir gently to prevent sticking. Cook for 2-3 minutes, or until al dente (firm to the bite).  Taste test frequently.\\n3. **Drain the pasta:** Drain the pasta, reserving about ½ cup of the pasta water.\\n4. **Serve:** Toss the pasta with your favorite sauce.  If the sauce is too thick, add a little of the reserved pasta water to loosen it.\\n\\n**Tips for Success:**\\n\\n* **Use good quality ingredients:** The better the ingredients, the better the pasta will taste.\\n* **Don\\'t overwork the dough:** Overkneading can make the pasta tough.\\n* **Let the dough rest:** Resting the dough is crucial for developing the gluten and making it easier to roll.\\n* **Cook the pasta al dente:** This means the pasta should be firm to the bite, not mushy.\\n* **Don\\'t rinse the pasta:** Rinsing the pasta will wash away the starch, which helps the sauce cling to the pasta.\\n\\n\\nThis is a basic guide.  There are many variations and techniques for making pasta. Experiment and find what works best for you!  Enjoy!\\n'"
      ]
     },
     "execution_count": 4,
     "metadata": {},
     "output_type": "execute_result"
    }
   ],
   "source": [
    "chat.predict(\"How do you make italian pasta\")\n"
   ]
  },
  {
   "cell_type": "code",
   "execution_count": null,
   "metadata": {},
   "outputs": [],
   "source": []
  }
 ],
 "metadata": {
  "kernelspec": {
   "display_name": "env",
   "language": "python",
   "name": "python3"
  },
  "language_info": {
   "codemirror_mode": {
    "name": "ipython",
    "version": 3
   },
   "file_extension": ".py",
   "mimetype": "text/x-python",
   "name": "python",
   "nbconvert_exporter": "python",
   "pygments_lexer": "ipython3",
   "version": "3.12.7"
  }
 },
 "nbformat": 4,
 "nbformat_minor": 2
}
