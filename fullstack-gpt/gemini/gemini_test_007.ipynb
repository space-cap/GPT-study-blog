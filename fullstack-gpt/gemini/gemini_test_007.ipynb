{
 "cells": [
  {
   "cell_type": "code",
   "execution_count": 4,
   "metadata": {},
   "outputs": [
    {
     "ename": "KeyError",
     "evalue": "'response'",
     "output_type": "error",
     "traceback": [
      "\u001b[1;31m---------------------------------------------------------------------------\u001b[0m",
      "\u001b[1;31mKeyError\u001b[0m                                  Traceback (most recent call last)",
      "Cell \u001b[1;32mIn[4], line 73\u001b[0m\n\u001b[0;32m     70\u001b[0m     \u001b[38;5;28;01mreturn\u001b[39;00m result[\u001b[38;5;124m\"\u001b[39m\u001b[38;5;124mresponse\u001b[39m\u001b[38;5;124m\"\u001b[39m]\n\u001b[0;32m     72\u001b[0m \u001b[38;5;66;03m# 사용 예시\u001b[39;00m\n\u001b[1;32m---> 73\u001b[0m response \u001b[38;5;241m=\u001b[39m \u001b[43mrun_conversation\u001b[49m\u001b[43m(\u001b[49m\u001b[38;5;124;43m\"\u001b[39;49m\u001b[38;5;124;43m제 이름은 니코입니다\u001b[39;49m\u001b[38;5;124;43m\"\u001b[39;49m\u001b[43m)\u001b[49m\n\u001b[0;32m     74\u001b[0m \u001b[38;5;28mprint\u001b[39m(response)\n",
      "Cell \u001b[1;32mIn[4], line 70\u001b[0m, in \u001b[0;36mrun_conversation\u001b[1;34m(question)\u001b[0m\n\u001b[0;32m     68\u001b[0m state \u001b[38;5;241m=\u001b[39m {\u001b[38;5;124m\"\u001b[39m\u001b[38;5;124mmessages\u001b[39m\u001b[38;5;124m\"\u001b[39m: [], \u001b[38;5;124m\"\u001b[39m\u001b[38;5;124mquestion\u001b[39m\u001b[38;5;124m\"\u001b[39m: question}\n\u001b[0;32m     69\u001b[0m result \u001b[38;5;241m=\u001b[39m app\u001b[38;5;241m.\u001b[39minvoke(state, {\u001b[38;5;124m\"\u001b[39m\u001b[38;5;124mmemory_saver\u001b[39m\u001b[38;5;124m\"\u001b[39m: memory_saver, \u001b[38;5;124m\"\u001b[39m\u001b[38;5;124msession_id\u001b[39m\u001b[38;5;124m\"\u001b[39m: session_id})\n\u001b[1;32m---> 70\u001b[0m \u001b[38;5;28;01mreturn\u001b[39;00m \u001b[43mresult\u001b[49m\u001b[43m[\u001b[49m\u001b[38;5;124;43m\"\u001b[39;49m\u001b[38;5;124;43mresponse\u001b[39;49m\u001b[38;5;124;43m\"\u001b[39;49m\u001b[43m]\u001b[49m\n",
      "\u001b[1;31mKeyError\u001b[0m: 'response'"
     ]
    }
   ],
   "source": [
    "from dotenv import load_dotenv\n",
    "import os\n",
    "import uuid\n",
    "\n",
    "load_dotenv()\n",
    "\n",
    "from langchain_google_genai import ChatGoogleGenerativeAI\n",
    "from langchain_core.messages import HumanMessage, AIMessage\n",
    "from langchain_core.prompts import ChatPromptTemplate, MessagesPlaceholder\n",
    "from langgraph.checkpoint.memory import MemorySaver\n",
    "from langgraph.graph import StateGraph, END\n",
    "from langgraph.prebuilt.tool_executor import ToolExecutor\n",
    "from typing import TypedDict, Annotated\n",
    "from operator import add\n",
    "\n",
    "# LLM 초기화\n",
    "llm = ChatGoogleGenerativeAI(\n",
    "    model=\"gemini-1.5-flash\", \n",
    "    temperature=0.1,\n",
    ")\n",
    "\n",
    "# 프롬프트 템플릿 정의\n",
    "prompt = ChatPromptTemplate.from_messages([\n",
    "    MessagesPlaceholder(variable_name=\"history\"),\n",
    "    (\"human\", \"{question}\")\n",
    "])\n",
    "\n",
    "# 그래프 정의\n",
    "def chat_node(state):\n",
    "    messages = state[\"messages\"]\n",
    "    question = state[\"question\"]\n",
    "    \n",
    "    # 프롬프트 준비\n",
    "    prompt_value = prompt.invoke({\"history\": messages, \"question\": question})\n",
    "    \n",
    "    # 응답 생성\n",
    "    response = llm.invoke(prompt_value)\n",
    "    \n",
    "    # 상태 업데이트\n",
    "    new_messages = messages + [HumanMessage(content=question), response]\n",
    "    return {\"messages\": new_messages, \"response\": response.content}\n",
    "\n",
    "# 그래프 생성\n",
    "class State(TypedDict):\n",
    "    messages: Annotated[list, add]\n",
    "    question: str\n",
    "\n",
    "workflow = StateGraph(State)\n",
    "\n",
    "# 그래프에 노드 추가\n",
    "workflow.add_node(\"chat\", chat_node)\n",
    "\n",
    "# 진입점 설정\n",
    "workflow.set_entry_point(\"chat\")\n",
    "\n",
    "# 종료점 설정\n",
    "workflow.add_edge(\"chat\", END)\n",
    "\n",
    "# 그래프 컴파일\n",
    "app = workflow.compile()\n",
    "\n",
    "# 지속성을 위한 MemorySaver 생성\n",
    "memory_saver = MemorySaver()\n",
    "\n",
    "# 그래프를 실행하는 함수\n",
    "def run_conversation(question: str):\n",
    "    session_id = str(uuid.uuid4())\n",
    "    state = {\"messages\": [], \"question\": question}\n",
    "    result = app.invoke(state, {\"memory_saver\": memory_saver, \"session_id\": session_id})\n",
    "    return result[\"response\"]\n",
    "\n",
    "# 사용 예시\n",
    "response = run_conversation(\"제 이름은 니코입니다\")\n",
    "print(response)\n"
   ]
  },
  {
   "cell_type": "code",
   "execution_count": null,
   "metadata": {},
   "outputs": [],
   "source": []
  }
 ],
 "metadata": {
  "kernelspec": {
   "display_name": "env",
   "language": "python",
   "name": "python3"
  },
  "language_info": {
   "codemirror_mode": {
    "name": "ipython",
    "version": 3
   },
   "file_extension": ".py",
   "mimetype": "text/x-python",
   "name": "python",
   "nbconvert_exporter": "python",
   "pygments_lexer": "ipython3",
   "version": "3.12.7"
  }
 },
 "nbformat": 4,
 "nbformat_minor": 2
}
