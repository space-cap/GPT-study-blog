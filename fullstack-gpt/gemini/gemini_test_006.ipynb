{
 "cells": [
  {
   "cell_type": "code",
   "execution_count": 2,
   "metadata": {},
   "outputs": [],
   "source": [
    "from dotenv import load_dotenv\n",
    "import os\n",
    "\n",
    "load_dotenv()\n",
    "\n",
    "from langchain_google_genai import ChatGoogleGenerativeAI\n",
    "from langchain.prompts.few_shot import FewShotPromptTemplate\n",
    "from langchain.callbacks import StreamingStdOutCallbackHandler\n",
    "from langchain.prompts.prompt import PromptTemplate\n",
    "\n",
    "chat = ChatGoogleGenerativeAI(model=\"gemini-1.5-flash\", \n",
    "                              temperature=0.1,\n",
    "                              disable_streaming=False,\n",
    "                              callbacks=[\n",
    "                                  StreamingStdOutCallbackHandler(),\n",
    "                              ])"
   ]
  },
  {
   "cell_type": "code",
   "execution_count": 3,
   "metadata": {},
   "outputs": [
    {
     "name": "stdout",
     "output_type": "stream",
     "text": [
      "자content='자' additional_kwargs={} response_metadata={'safety_ratings': []} id='run-e203e547-116e-4b3d-9064-654c2cd46ff5' usage_metadata={'input_tokens': 16, 'output_tokens': 0, 'total_tokens': 16, 'input_token_details': {'cache_read': 0}}연어처리(Natural Language Processing, NLP)는 컴퓨터content='연어처리(Natural Language Processing, NLP)는 컴퓨터' additional_kwargs={} response_metadata={'safety_ratings': []} id='run-e203e547-116e-4b3d-9064-654c2cd46ff5' usage_metadata={'input_tokens': 0, 'output_tokens': 0, 'total_tokens': 0, 'input_token_details': {'cache_read': 0}}가 인간의 언어를 이해하고 처리할 수 있도록 하는 인content='가 인간의 언어를 이해하고 처리할 수 있도록 하는 인' additional_kwargs={} response_metadata={'safety_ratings': []} id='run-e203e547-116e-4b3d-9064-654c2cd46ff5' usage_metadata={'input_tokens': 0, 'output_tokens': 0, 'total_tokens': 0, 'input_token_details': {'cache_read': 0}}공지능(AI)의 한 분야입니다.  쉽게 말해, 컴퓨터가 우리가 일상적으로 사용하는 언어content='공지능(AI)의 한 분야입니다.  쉽게 말해, 컴퓨터가 우리가 일상적으로 사용하는 언어' additional_kwargs={} response_metadata={'safety_ratings': []} id='run-e203e547-116e-4b3d-9064-654c2cd46ff5' usage_metadata={'input_tokens': 0, 'output_tokens': 0, 'total_tokens': 0, 'input_token_details': {'cache_read': 0}}(텍스트나 음성)를 이해하고, 분석하고, 생성하고, 번역하는 기술입니다.\n",
      "\n",
      "NLP는 다양한 기술들을 활content='(텍스트나 음성)를 이해하고, 분석하고, 생성하고, 번역하는 기술입니다.\\n\\nNLP는 다양한 기술들을 활' additional_kwargs={} response_metadata={'safety_ratings': []} id='run-e203e547-116e-4b3d-9064-654c2cd46ff5' usage_metadata={'input_tokens': 0, 'output_tokens': 0, 'total_tokens': 0, 'input_token_details': {'cache_read': 0}}용하는데,  예를 들어:\n",
      "\n",
      "* **텍스트 분석:** 문장 구조 분석, 키워드 추출, 감정 분석, 주제 모델링 등을 통해 텍스트 데이터에서 의미있는 정보를content='용하는데,  예를 들어:\\n\\n* **텍스트 분석:** 문장 구조 분석, 키워드 추출, 감정 분석, 주제 모델링 등을 통해 텍스트 데이터에서 의미있는 정보를' additional_kwargs={} response_metadata={'safety_ratings': []} id='run-e203e547-116e-4b3d-9064-654c2cd46ff5' usage_metadata={'input_tokens': 0, 'output_tokens': 0, 'total_tokens': 0, 'input_token_details': {'cache_read': 0}} 추출합니다.\n",
      "* **기계 번역:** 한 언어로 된 텍스트를 다른 언어로 번역합니다.\n",
      "* **챗봇:** 사용자와 자연스러운 대화를 나눌content=' 추출합니다.\\n* **기계 번역:** 한 언어로 된 텍스트를 다른 언어로 번역합니다.\\n* **챗봇:** 사용자와 자연스러운 대화를 나눌' additional_kwargs={} response_metadata={'safety_ratings': []} id='run-e203e547-116e-4b3d-9064-654c2cd46ff5' usage_metadata={'input_tokens': 0, 'output_tokens': 0, 'total_tokens': 0, 'input_token_details': {'cache_read': 0}} 수 있는 프로그램을 만듭니다.\n",
      "* **음성 인식:** 음성을 텍스트로 변환합니다.\n",
      "* **텍스트 생성:** 컴퓨터가 스스로 텍스트를 생성합니다 (예: 뉴스 기사 요약, 시 쓰기).\n",
      "\n",
      "NLP는content=' 수 있는 프로그램을 만듭니다.\\n* **음성 인식:** 음성을 텍스트로 변환합니다.\\n* **텍스트 생성:** 컴퓨터가 스스로 텍스트를 생성합니다 (예: 뉴스 기사 요약, 시 쓰기).\\n\\nNLP는' additional_kwargs={} response_metadata={'safety_ratings': []} id='run-e203e547-116e-4b3d-9064-654c2cd46ff5' usage_metadata={'input_tokens': 0, 'output_tokens': 0, 'total_tokens': 0, 'input_token_details': {'cache_read': 0}} 검색 엔진, 스마트 어시스턴트, 기계 번역 서비스, 소셜 미디어 분석 등 다양한 분야에서 활용되고 있으며,  꾸준히 발전하고 있는 기술입니다.  최근에는 딥러닝 기술의 발전으로 NLP의 성content=' 검색 엔진, 스마트 어시스턴트, 기계 번역 서비스, 소셜 미디어 분석 등 다양한 분야에서 활용되고 있으며,  꾸준히 발전하고 있는 기술입니다.  최근에는 딥러닝 기술의 발전으로 NLP의 성' additional_kwargs={} response_metadata={'safety_ratings': []} id='run-e203e547-116e-4b3d-9064-654c2cd46ff5' usage_metadata={'input_tokens': 0, 'output_tokens': 0, 'total_tokens': 0, 'input_token_details': {'cache_read': 0}}능이 크게 향상되었습니다.\n",
      "content='능이 크게 향상되었습니다.\\n' additional_kwargs={} response_metadata={'finish_reason': 'STOP', 'safety_ratings': []} id='run-e203e547-116e-4b3d-9064-654c2cd46ff5' usage_metadata={'input_tokens': 0, 'output_tokens': 330, 'total_tokens': 330, 'input_token_details': {'cache_read': 0}}"
     ]
    }
   ],
   "source": [
    "answer = chat.stream(\"자연어처리에 대해서 간략히 설명해 줘\")\n",
    "\n",
    "for chunk in answer:\n",
    "    print(chunk, end=\"\", flush=True)\n"
   ]
  },
  {
   "cell_type": "code",
   "execution_count": null,
   "metadata": {},
   "outputs": [],
   "source": []
  }
 ],
 "metadata": {
  "kernelspec": {
   "display_name": "env",
   "language": "python",
   "name": "python3"
  },
  "language_info": {
   "codemirror_mode": {
    "name": "ipython",
    "version": 3
   },
   "file_extension": ".py",
   "mimetype": "text/x-python",
   "name": "python",
   "nbconvert_exporter": "python",
   "pygments_lexer": "ipython3",
   "version": "3.12.7"
  }
 },
 "nbformat": 4,
 "nbformat_minor": 2
}
