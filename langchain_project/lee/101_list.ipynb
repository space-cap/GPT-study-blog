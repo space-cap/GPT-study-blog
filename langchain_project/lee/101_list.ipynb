{
 "cells": [
  {
   "cell_type": "code",
   "execution_count": 1,
   "id": "11c22f8a",
   "metadata": {},
   "outputs": [
    {
     "data": {
      "text/plain": [
       "2"
      ]
     },
     "execution_count": 1,
     "metadata": {},
     "output_type": "execute_result"
    }
   ],
   "source": [
    "1+1\n"
   ]
  },
  {
   "cell_type": "code",
   "execution_count": null,
   "id": "364592ca",
   "metadata": {},
   "outputs": [
    {
     "name": "stdout",
     "output_type": "stream",
     "text": [
      "CustomList: []\n",
      "lee\n",
      "CustomList: [4]\n"
     ]
    }
   ],
   "source": [
    "class IntegerList(list):\n",
    "\n",
    "    def __init__(self, *args):\n",
    "        super().__init__(*args)\n",
    "\n",
    "    def append(self, item):\n",
    "        self.__validate_integer(item)\n",
    "        super().append(item)\n",
    "\n",
    "    def insert(self, index, item):\n",
    "        self.__validate_integer(item)\n",
    "        super().insert(index, item)\n",
    "\n",
    "    def extend(self, iterable):\n",
    "        for item in iterable:\n",
    "            self.__validate_integer(item)\n",
    "        super().extend(iterable)\n",
    "\n",
    "    def __str__(self):\n",
    "        return f\"IntegerList: {super().__str__()}\"\n",
    "    \n",
    "    def __validate_integer(self, value):\n",
    "        if not isinstance(value, int):\n",
    "            raise TypeError(f\"정수만 허용됩니다. 입력된 값: {value} (타입: {type(value).__name__})\")\n",
    "        \n",
    "        \n",
    "# 사용 예시\n",
    "my_list = IntegerList([])\n",
    "print(my_list)\n",
    "\n",
    "\n",
    "my_list.append(4)\n",
    "print(my_list)\n",
    "\n",
    "my_list.append(\"4\")\n",
    "print(my_list)\n",
    "\n"
   ]
  },
  {
   "cell_type": "code",
   "execution_count": 15,
   "id": "d159eeba",
   "metadata": {},
   "outputs": [],
   "source": [
    "# Python 인터프리터에서 실행\n",
    "# help(list.append)  # 도움말 확인\n",
    "# dir(list)  # list의 모든 메서드 확인"
   ]
  },
  {
   "cell_type": "code",
   "execution_count": null,
   "id": "102d5f21",
   "metadata": {},
   "outputs": [],
   "source": []
  }
 ],
 "metadata": {
  "kernelspec": {
   "display_name": "venv",
   "language": "python",
   "name": "python3"
  },
  "language_info": {
   "codemirror_mode": {
    "name": "ipython",
    "version": 3
   },
   "file_extension": ".py",
   "mimetype": "text/x-python",
   "name": "python",
   "nbconvert_exporter": "python",
   "pygments_lexer": "ipython3",
   "version": "3.13.5"
  }
 },
 "nbformat": 4,
 "nbformat_minor": 5
}
