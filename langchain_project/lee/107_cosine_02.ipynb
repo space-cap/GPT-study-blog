{
 "cells": [
  {
   "cell_type": "code",
   "execution_count": 1,
   "id": "476a5102",
   "metadata": {},
   "outputs": [
    {
     "data": {
      "text/plain": [
       "2"
      ]
     },
     "execution_count": 1,
     "metadata": {},
     "output_type": "execute_result"
    }
   ],
   "source": [
    "1+1"
   ]
  },
  {
   "cell_type": "code",
   "execution_count": 8,
   "id": "48e1913a",
   "metadata": {},
   "outputs": [
    {
     "name": "stdout",
     "output_type": "stream",
     "text": [
      "원본 질문 1: 오늘 날씨가 어때?\n",
      "--------------------------------------------------\n",
      "캐시 적중! 유사도: 0.984\n",
      "원본 질문 1: 오늘 날씨 어떻게 되나요?\n",
      "캐쉬 질문 2: 오늘 날씨가 어때?\n",
      "--------------------------------------------------\n"
     ]
    }
   ],
   "source": [
    "from sentence_transformers import SentenceTransformer\n",
    "import numpy as np\n",
    "from sklearn.metrics.pairwise import cosine_similarity\n",
    "\n",
    "\n",
    "class SmartCache:\n",
    "    def __init__(self):\n",
    "        # HuggingFace 임베딩 모델 로드\n",
    "        self.model = SentenceTransformer(\n",
    "            \"sentence-transformers/paraphrase-multilingual-MiniLM-L12-v2\"\n",
    "        )\n",
    "        self.cache = {}  # {question: {'embedding': vector, 'answer': answer}}\n",
    "        self.similarity_threshold = 0.85\n",
    "\n",
    "    def get_embedding(self, text):\n",
    "        \"\"\"텍스트를 임베딩 벡터로 변환\"\"\"\n",
    "        return self.model.encode([text])[0]\n",
    "\n",
    "    def find_similar_question(self, question):\n",
    "        \"\"\"유사한 질문 찾기\"\"\"\n",
    "        question_embedding = self.get_embedding(question)\n",
    "\n",
    "        best_similarity = 0\n",
    "        best_match = None\n",
    "\n",
    "        for cached_question, data in self.cache.items():\n",
    "            # 코사인 유사도 계산\n",
    "            similarity = cosine_similarity([question_embedding], [data[\"embedding\"]])[0][0]\n",
    "\n",
    "            if similarity > best_similarity and similarity >= self.similarity_threshold:\n",
    "                best_similarity = similarity\n",
    "                best_match = (cached_question, data[\"answer\"], similarity)\n",
    "\n",
    "        return best_match\n",
    "\n",
    "    def get_or_set(self, question, answer_func):\n",
    "        \"\"\"캐시에서 답변 조회 또는 새로 생성\"\"\"\n",
    "        # 1. 유사한 질문 검색\n",
    "        similar = self.find_similar_question(question)\n",
    "\n",
    "        if similar:\n",
    "            cached_question, answer, similarity = similar\n",
    "            print(f\"캐시 적중! 유사도: {similarity:.3f}\")\n",
    "            print(f\"원본 질문 1: {question}\")\n",
    "            print(f\"캐쉬 질문 2: {cached_question}\")\n",
    "            print(\"-\" * 50)\n",
    "            return answer\n",
    "        else:\n",
    "            print(f\"원본 질문 1: {question}\")\n",
    "            print(\"-\" * 50)\n",
    "\n",
    "        # 2. 캐시 미스 - 새로운 답변 생성\n",
    "        answer = answer_func(question)\n",
    "\n",
    "        # 3. 캐시에 저장\n",
    "        self.cache[question] = {\n",
    "            \"embedding\": self.get_embedding(question),\n",
    "            \"answer\": answer,\n",
    "        }\n",
    "\n",
    "        return answer\n",
    "\n",
    "\n",
    "# 사용 예시\n",
    "cache = SmartCache()\n",
    "\n",
    "# 첫 번째 질문\n",
    "answer1 = cache.get_or_set(\"오늘 날씨가 어때?\", lambda q: \"맑습니다\")\n",
    "\n",
    "# 유사한 질문 - 캐시에서 답변 가져옴\n",
    "answer2 = cache.get_or_set(\"오늘 날씨 어떻게 되나요?\", lambda q: \"새로 생성됨\")\n",
    "# 출력: 캐시 적중! 유사도: 0.892"
   ]
  },
  {
   "cell_type": "code",
   "execution_count": null,
   "id": "df1a447a",
   "metadata": {},
   "outputs": [],
   "source": []
  }
 ],
 "metadata": {
  "kernelspec": {
   "display_name": "venv (3.13.5)",
   "language": "python",
   "name": "python3"
  },
  "language_info": {
   "codemirror_mode": {
    "name": "ipython",
    "version": 3
   },
   "file_extension": ".py",
   "mimetype": "text/x-python",
   "name": "python",
   "nbconvert_exporter": "python",
   "pygments_lexer": "ipython3",
   "version": "3.13.5"
  }
 },
 "nbformat": 4,
 "nbformat_minor": 5
}
