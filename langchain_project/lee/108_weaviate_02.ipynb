{
 "cells": [
  {
   "cell_type": "code",
   "execution_count": 1,
   "id": "e3088783",
   "metadata": {},
   "outputs": [
    {
     "data": {
      "text/plain": [
       "2"
      ]
     },
     "execution_count": 1,
     "metadata": {},
     "output_type": "execute_result"
    }
   ],
   "source": [
    "1+1"
   ]
  },
  {
   "cell_type": "code",
   "execution_count": 2,
   "id": "0420d358",
   "metadata": {},
   "outputs": [
    {
     "name": "stderr",
     "output_type": "stream",
     "text": [
      "c:\\workdir\\github-space-cap\\GPT-study-blog\\langchain_project\\venv\\Lib\\site-packages\\google\\protobuf\\runtime_version.py:98: UserWarning: Protobuf gencode version 5.29.0 is exactly one major version older than the runtime version 6.31.1 at v1/aggregate.proto. Please update the gencode to avoid compatibility violations in the next runtime release.\n",
      "  warnings.warn(\n",
      "c:\\workdir\\github-space-cap\\GPT-study-blog\\langchain_project\\venv\\Lib\\site-packages\\google\\protobuf\\runtime_version.py:98: UserWarning: Protobuf gencode version 5.29.0 is exactly one major version older than the runtime version 6.31.1 at v1/base.proto. Please update the gencode to avoid compatibility violations in the next runtime release.\n",
      "  warnings.warn(\n",
      "c:\\workdir\\github-space-cap\\GPT-study-blog\\langchain_project\\venv\\Lib\\site-packages\\google\\protobuf\\runtime_version.py:98: UserWarning: Protobuf gencode version 5.29.0 is exactly one major version older than the runtime version 6.31.1 at v1/base_search.proto. Please update the gencode to avoid compatibility violations in the next runtime release.\n",
      "  warnings.warn(\n",
      "c:\\workdir\\github-space-cap\\GPT-study-blog\\langchain_project\\venv\\Lib\\site-packages\\google\\protobuf\\runtime_version.py:98: UserWarning: Protobuf gencode version 5.29.0 is exactly one major version older than the runtime version 6.31.1 at v1/batch_delete.proto. Please update the gencode to avoid compatibility violations in the next runtime release.\n",
      "  warnings.warn(\n",
      "c:\\workdir\\github-space-cap\\GPT-study-blog\\langchain_project\\venv\\Lib\\site-packages\\google\\protobuf\\runtime_version.py:98: UserWarning: Protobuf gencode version 5.29.0 is exactly one major version older than the runtime version 6.31.1 at v1/batch.proto. Please update the gencode to avoid compatibility violations in the next runtime release.\n",
      "  warnings.warn(\n",
      "c:\\workdir\\github-space-cap\\GPT-study-blog\\langchain_project\\venv\\Lib\\site-packages\\google\\protobuf\\runtime_version.py:98: UserWarning: Protobuf gencode version 5.29.0 is exactly one major version older than the runtime version 6.31.1 at v1/search_get.proto. Please update the gencode to avoid compatibility violations in the next runtime release.\n",
      "  warnings.warn(\n",
      "c:\\workdir\\github-space-cap\\GPT-study-blog\\langchain_project\\venv\\Lib\\site-packages\\google\\protobuf\\runtime_version.py:98: UserWarning: Protobuf gencode version 5.29.0 is exactly one major version older than the runtime version 6.31.1 at v1/generative.proto. Please update the gencode to avoid compatibility violations in the next runtime release.\n",
      "  warnings.warn(\n",
      "c:\\workdir\\github-space-cap\\GPT-study-blog\\langchain_project\\venv\\Lib\\site-packages\\google\\protobuf\\runtime_version.py:98: UserWarning: Protobuf gencode version 5.29.0 is exactly one major version older than the runtime version 6.31.1 at v1/properties.proto. Please update the gencode to avoid compatibility violations in the next runtime release.\n",
      "  warnings.warn(\n",
      "c:\\workdir\\github-space-cap\\GPT-study-blog\\langchain_project\\venv\\Lib\\site-packages\\google\\protobuf\\runtime_version.py:98: UserWarning: Protobuf gencode version 5.29.0 is exactly one major version older than the runtime version 6.31.1 at v1/tenants.proto. Please update the gencode to avoid compatibility violations in the next runtime release.\n",
      "  warnings.warn(\n"
     ]
    },
    {
     "data": {
      "text/plain": [
       "True"
      ]
     },
     "execution_count": 2,
     "metadata": {},
     "output_type": "execute_result"
    }
   ],
   "source": [
    "# 필수 라이브러리 설치 (터미널에서 실행)\n",
    "# pip install -U weaviate-client python-dotenv\n",
    "\n",
    "import os\n",
    "import weaviate\n",
    "import weaviate.classes.config as wc\n",
    "from weaviate.classes.init import Auth\n",
    "from weaviate.classes.query import Filter\n",
    "from dotenv import load_dotenv\n",
    "\n",
    "# 환경변수 로드 (선택사항)\n",
    "load_dotenv()"
   ]
  },
  {
   "cell_type": "code",
   "execution_count": 5,
   "id": "83bd8ed8",
   "metadata": {},
   "outputs": [
    {
     "name": "stdout",
     "output_type": "stream",
     "text": [
      "Weaviate 연결 상태: True\n"
     ]
    }
   ],
   "source": [
    "# OpenAI API Key 설정 (실제 키로 교체하세요)\n",
    "# os.environ[\"OPENAI_APIKEY\"] = \"sk-your-actual-openai-api-key\"\n",
    "\n",
    "# Best practice: store your credentials in environment variables\n",
    "weaviate_url = os.environ[\"WEAVIATE_URL\"]\n",
    "weaviate_api_key = os.environ[\"WEAVIATE_API_KEY\"]\n",
    "\n",
    "# Weaviate Cloud 연결 (OpenAI API Key 헤더 포함)\n",
    "client = weaviate.connect_to_weaviate_cloud(\n",
    "    cluster_url=weaviate_url,\n",
    "    auth_credentials=Auth.api_key(weaviate_api_key),\n",
    "    headers={\"X-OpenAI-Api-Key\": os.environ[\"OPENAI_APIKEY\"]},\n",
    ")\n",
    "\n",
    "# 연결 상태 확인\n",
    "print(\"Weaviate 연결 상태:\", client.is_ready())"
   ]
  },
  {
   "cell_type": "code",
   "execution_count": 6,
   "id": "a4d94de4",
   "metadata": {},
   "outputs": [
    {
     "name": "stdout",
     "output_type": "stream",
     "text": [
      "컬렉션 'ArticleCollection' 생성 완료!\n",
      "전체 컬렉션 목록: ['ArticleCollection', 'MyFirstCollection']\n"
     ]
    }
   ],
   "source": [
    "# 기존 컬렉션 삭제 (있다면)\n",
    "collection_name = \"ArticleCollection\"\n",
    "if collection_name in client.collections.list_all():\n",
    "    client.collections.delete(collection_name)\n",
    "    print(f\"기존 {collection_name} 삭제됨\")\n",
    "\n",
    "# 새 컬렉션 생성 (최신 방식)\n",
    "collection = client.collections.create(\n",
    "    name=collection_name,\n",
    "    vector_config=wc.Configure.Vectors.text2vec_openai(model=\"text-embedding-3-small\"),\n",
    "    generative_config=wc.Configure.Generative.openai(model=\"gpt-4o-mini\"),\n",
    "    properties=[\n",
    "        wc.Property(name=\"title\", data_type=wc.DataType.TEXT),\n",
    "        wc.Property(name=\"content\", data_type=wc.DataType.TEXT),\n",
    "        wc.Property(name=\"category\", data_type=wc.DataType.TEXT),\n",
    "        wc.Property(name=\"author\", data_type=wc.DataType.TEXT),\n",
    "    ],\n",
    ")\n",
    "\n",
    "print(f\"컬렉션 '{collection.name}' 생성 완료!\")\n",
    "print(\"전체 컬렉션 목록:\", list(client.collections.list_all().keys()))"
   ]
  },
  {
   "cell_type": "code",
   "execution_count": 7,
   "id": "264fa1a2",
   "metadata": {},
   "outputs": [
    {
     "name": "stdout",
     "output_type": "stream",
     "text": [
      "=== 단일 데이터 추가 ===\n",
      "단일 데이터 추가 완료, UUID: 02fbc955-a2f9-4919-bf14-9d12348787ac\n",
      "\n",
      "=== 여러 데이터 일괄 추가 ===\n",
      "4개 데이터 일괄 추가 완료!\n"
     ]
    }
   ],
   "source": [
    "# 컬렉션 객체 가져오기\n",
    "my_collection = client.collections.get(collection_name)\n",
    "\n",
    "# 단일 객체 추가\n",
    "print(\"=== 단일 데이터 추가 ===\")\n",
    "uuid1 = my_collection.data.insert(\n",
    "    {\n",
    "        \"title\": \"Python 기초 가이드\",\n",
    "        \"content\": \"Python 프로그래밍의 기본 개념과 문법을 소개합니다.\",\n",
    "        \"category\": \"programming\",\n",
    "        \"author\": \"김개발\",\n",
    "    }\n",
    ")\n",
    "print(f\"단일 데이터 추가 완료, UUID: {uuid1}\")\n",
    "\n",
    "# 여러 객체 일괄 추가\n",
    "print(\"\\n=== 여러 데이터 일괄 추가 ===\")\n",
    "data_objects = [\n",
    "    {\n",
    "        \"title\": \"AI와 머신러닝 소개\",\n",
    "        \"content\": \"인공지능과 기계학습의 기본 원리를 설명합니다.\",\n",
    "        \"category\": \"ai\",\n",
    "        \"author\": \"박AI\",\n",
    "    },\n",
    "    {\n",
    "        \"title\": \"웹 개발 완전 정복\",\n",
    "        \"content\": \"HTML, CSS, JavaScript를 활용한 웹 개발 방법입니다.\",\n",
    "        \"category\": \"web\",\n",
    "        \"author\": \"이웹\",\n",
    "    },\n",
    "    {\n",
    "        \"title\": \"데이터베이스 설계 패턴\",\n",
    "        \"content\": \"효율적인 데이터베이스 설계와 최적화 기법입니다.\",\n",
    "        \"category\": \"database\",\n",
    "        \"author\": \"최DB\",\n",
    "    },\n",
    "    {\n",
    "        \"title\": \"Python 고급 기법\",\n",
    "        \"content\": \"Python의 고급 프로그래밍 패턴과 모범 사례입니다.\",\n",
    "        \"category\": \"programming\",\n",
    "        \"author\": \"김고급\",\n",
    "    },\n",
    "]\n",
    "\n",
    "uuids = my_collection.data.insert_many(data_objects)\n",
    "print(f\"{len(data_objects)}개 데이터 일괄 추가 완료!\")"
   ]
  },
  {
   "cell_type": "code",
   "execution_count": 8,
   "id": "230a2277",
   "metadata": {},
   "outputs": [
    {
     "name": "stdout",
     "output_type": "stream",
     "text": [
      "\n",
      "=== 전체 데이터 조회 ===\n",
      "1. 제목: Python 기초 가이드\n",
      "   저자: 김개발\n",
      "   카테고리: programming\n",
      "   UUID: 02fbc955-a2f9-4919-bf14-9d12348787ac\n",
      "---\n",
      "2. 제목: 웹 개발 완전 정복\n",
      "   저자: 이웹\n",
      "   카테고리: web\n",
      "   UUID: 36479be9-ca2e-42c2-9721-37a35d70cb70\n",
      "---\n",
      "3. 제목: Python 고급 기법\n",
      "   저자: 김고급\n",
      "   카테고리: programming\n",
      "   UUID: 65bb69f7-8f20-48ef-90fe-de0ac663127f\n",
      "---\n",
      "4. 제목: 데이터베이스 설계 패턴\n",
      "   저자: 최DB\n",
      "   카테고리: database\n",
      "   UUID: 9b772d51-8ad2-4794-bd37-c6d80bdbb441\n",
      "---\n",
      "5. 제목: AI와 머신러닝 소개\n",
      "   저자: 박AI\n",
      "   카테고리: ai\n",
      "   UUID: d1fcc417-ad7e-4cef-869f-06c709413642\n",
      "---\n"
     ]
    }
   ],
   "source": [
    "print(\"\\n=== 전체 데이터 조회 ===\")\n",
    "response = my_collection.query.fetch_objects(limit=10)\n",
    "\n",
    "for i, obj in enumerate(response.objects, 1):\n",
    "    print(f\"{i}. 제목: {obj.properties['title']}\")\n",
    "    print(f\"   저자: {obj.properties['author']}\")\n",
    "    print(f\"   카테고리: {obj.properties['category']}\")\n",
    "    print(f\"   UUID: {obj.uuid}\")\n",
    "    print(\"---\")"
   ]
  },
  {
   "cell_type": "code",
   "execution_count": 9,
   "id": "93f02a9a",
   "metadata": {},
   "outputs": [
    {
     "name": "stdout",
     "output_type": "stream",
     "text": [
      "\n",
      "=== 'programming' 카테고리 필터링 ===\n",
      "제목: Python 기초 가이드\n",
      "내용: Python 프로그래밍의 기본 개념과 문법을 소개합니다.\n",
      "저자: 김개발\n",
      "---\n",
      "제목: Python 고급 기법\n",
      "내용: Python의 고급 프로그래밍 패턴과 모범 사례입니다.\n",
      "저자: 김고급\n",
      "---\n",
      "\n",
      "=== 여러 조건 결합 (OR) ===\n",
      "제목: Python 기초 가이드 (카테고리: programming)\n",
      "제목: Python 고급 기법 (카테고리: programming)\n",
      "제목: AI와 머신러닝 소개 (카테고리: ai)\n"
     ]
    }
   ],
   "source": [
    "print(\"\\n=== 'programming' 카테고리 필터링 ===\")\n",
    "response = my_collection.query.fetch_objects(\n",
    "    filters=Filter.by_property(\"category\").equal(\n",
    "        \"programming\"\n",
    "    ),  # filters 매개변수 사용\n",
    "    limit=5,\n",
    ")\n",
    "\n",
    "for obj in response.objects:\n",
    "    print(f\"제목: {obj.properties['title']}\")\n",
    "    print(f\"내용: {obj.properties['content']}\")\n",
    "    print(f\"저자: {obj.properties['author']}\")\n",
    "    print(\"---\")\n",
    "\n",
    "print(\"\\n=== 여러 조건 결합 (OR) ===\")\n",
    "response = my_collection.query.fetch_objects(\n",
    "    filters=Filter.any_of(\n",
    "        [\n",
    "            Filter.by_property(\"category\").equal(\"programming\"),\n",
    "            Filter.by_property(\"category\").equal(\"ai\"),\n",
    "        ]\n",
    "    ),\n",
    "    limit=5,\n",
    ")\n",
    "\n",
    "for obj in response.objects:\n",
    "    print(f\"제목: {obj.properties['title']} (카테고리: {obj.properties['category']})\")"
   ]
  },
  {
   "cell_type": "code",
   "execution_count": 14,
   "id": "3c070a4c",
   "metadata": {},
   "outputs": [
    {
     "ename": "AttributeError",
     "evalue": "module 'weaviate.classes.config' has no attribute 'query'",
     "output_type": "error",
     "traceback": [
      "\u001b[31m---------------------------------------------------------------------------\u001b[39m",
      "\u001b[31mAttributeError\u001b[39m                            Traceback (most recent call last)",
      "\u001b[36mCell\u001b[39m\u001b[36m \u001b[39m\u001b[32mIn[14]\u001b[39m\u001b[32m, line 4\u001b[39m\n\u001b[32m      1\u001b[39m response = my_collection.query.near_text(\n\u001b[32m      2\u001b[39m     query=\u001b[33m\"\u001b[39m\u001b[33m프로그래밍 개발 기술\u001b[39m\u001b[33m\"\u001b[39m,\n\u001b[32m      3\u001b[39m     limit=\u001b[32m3\u001b[39m,\n\u001b[32m----> \u001b[39m\u001b[32m4\u001b[39m     return_metadata=\u001b[43mwc\u001b[49m\u001b[43m.\u001b[49m\u001b[43mquery\u001b[49m.MetadataQuery(score=\u001b[38;5;28;01mTrue\u001b[39;00m, distance=\u001b[38;5;28;01mTrue\u001b[39;00m),\n\u001b[32m      5\u001b[39m )\n\u001b[32m      7\u001b[39m \u001b[38;5;28;01mfor\u001b[39;00m obj \u001b[38;5;129;01min\u001b[39;00m response.objects:\n\u001b[32m      8\u001b[39m     \u001b[38;5;28mprint\u001b[39m(\u001b[33mf\u001b[39m\u001b[33m\"\u001b[39m\u001b[33m제목: \u001b[39m\u001b[38;5;132;01m{\u001b[39;00mobj.properties[\u001b[33m'\u001b[39m\u001b[33mtitle\u001b[39m\u001b[33m'\u001b[39m]\u001b[38;5;132;01m}\u001b[39;00m\u001b[33m\"\u001b[39m)\n",
      "\u001b[31mAttributeError\u001b[39m: module 'weaviate.classes.config' has no attribute 'query'"
     ]
    }
   ],
   "source": [
    "response = my_collection.query.near_text(\n",
    "    query=\"프로그래밍 개발 기술\",\n",
    "    limit=3,\n",
    "    return_metadata=wc.query.MetadataQuery(score=True, distance=True),\n",
    ")\n",
    "\n",
    "for obj in response.objects:\n",
    "    print(f\"제목: {obj.properties['title']}\")\n",
    "    print(f\"Distance: {obj.metadata.distance}\")  # distance 값 확인\n",
    "    print(f\"Score: {obj.metadata.score}\")\n",
    "    print(\"---\")"
   ]
  },
  {
   "cell_type": "code",
   "execution_count": 16,
   "id": "b4e408a5",
   "metadata": {},
   "outputs": [
    {
     "name": "stdout",
     "output_type": "stream",
     "text": [
      "제목: Python 고급 기법\n",
      "하이브리드 점수: 1.0\n",
      "점수 설명: \n",
      "Hybrid (Result Set keyword,bm25) Document 65bb69f7-8f20-48ef-90fe-de0ac663127f: original score 1.2680364, normalized score: 0.3 - \n",
      "Hybrid (Result Set vector,hybridVector) Document 65bb69f7-8f20-48ef-90fe-de0ac663127f: original score 0.47974628, normalized score: 0.7\n",
      "---\n",
      "제목: Python 기초 가이드\n",
      "하이브리드 점수: 0.975325345993042\n",
      "점수 설명: \n",
      "Hybrid (Result Set keyword,bm25) Document 02fbc955-a2f9-4919-bf14-9d12348787ac: original score 1.2680364, normalized score: 0.3 - \n",
      "Hybrid (Result Set vector,hybridVector) Document 02fbc955-a2f9-4919-bf14-9d12348787ac: original score 0.46896684, normalized score: 0.67532533\n",
      "---\n",
      "제목: AI와 머신러닝 소개\n",
      "하이브리드 점수: 0.1052849069237709\n",
      "점수 설명: \n",
      "Hybrid (Result Set vector,hybridVector) Document d1fcc417-ad7e-4cef-869f-06c709413642: original score 0.21993709, normalized score: 0.10528491\n",
      "---\n"
     ]
    }
   ],
   "source": [
    "import weaviate.classes.config as wc\n",
    "from weaviate.classes.query import MetadataQuery\n",
    "\n",
    "\n",
    "# 하이브리드 검색 사용 (권장)\n",
    "response = my_collection.query.hybrid(\n",
    "    query=\"Python 프로그래밍\",\n",
    "    limit=3,\n",
    "    return_metadata=MetadataQuery(score=True, explain_score=True),  # 점수 설명도 포함\n",
    ")\n",
    "\n",
    "for obj in response.objects:\n",
    "    print(f\"제목: {obj.properties['title']}\")\n",
    "    print(f\"하이브리드 점수: {obj.metadata.score}\")\n",
    "    print(f\"점수 설명: {obj.metadata.explain_score}\")\n",
    "    print(\"---\")"
   ]
  },
  {
   "cell_type": "code",
   "execution_count": 19,
   "id": "e4965987",
   "metadata": {},
   "outputs": [
    {
     "name": "stdout",
     "output_type": "stream",
     "text": [
      "\n",
      "=== 생성형 검색 (RAG) ===\n",
      "🤖 AI 생성 답변:\n",
      "\n",
      "\n",
      "📚 참조된 문서들:\n",
      "- Python 기초 가이드 (저자: 김개발)\n",
      "- Python 고급 기법 (저자: 김고급)\n"
     ]
    }
   ],
   "source": [
    "print(\"\\n=== 생성형 검색 (RAG) ===\")\n",
    "response = my_collection.generate.near_text(\n",
    "    query=\"Python 프로그래밍에 대해 설명해줘\",\n",
    "    limit=2,\n",
    "    single_prompt=\"다음 내용을 바탕으로 Python에 대해 간단히 설명해주세요: {content}\",\n",
    ")\n",
    "\n",
    "print(\"🤖 AI 생성 답변:\")\n",
    "print(response.generative.text)\n",
    "print(\"\\n📚 참조된 문서들:\")\n",
    "for obj in response.objects:\n",
    "    print(f\"- {obj.properties['title']} (저자: {obj.properties['author']})\")"
   ]
  },
  {
   "cell_type": "code",
   "execution_count": 17,
   "id": "73b29605",
   "metadata": {},
   "outputs": [
    {
     "name": "stdout",
     "output_type": "stream",
     "text": [
      "=== 벡터 검색 (distance 중심) ===\n",
      "제목: Python 고급 기법\n",
      "Distance: 0.5203\n",
      "Score: 0.0\n",
      "Certainty: 0.7398731708526611\n",
      "---\n",
      "제목: Python 기초 가이드\n",
      "Distance: 0.5310\n",
      "Score: 0.0\n",
      "Certainty: 0.7344834208488464\n",
      "---\n",
      "제목: AI와 머신러닝 소개\n",
      "Distance: 0.7801\n",
      "Score: 0.0\n",
      "Certainty: 0.6099685430526733\n",
      "---\n",
      "\n",
      "=== 하이브리드 검색 (score 중심) ===\n",
      "제목: Python 기초 가이드\n",
      "하이브리드 점수: 0.9351\n",
      "점수 설명: \n",
      "Hybrid (Result Set keyword,bm25) Document 02fbc955-a2f9-4919-bf14-9d12348787ac: original score 1.2680364, normalized score: 0.3 - \n",
      "Hybrid (Result Set vector,hybridVector) Document 02fbc955-a2f9-4919-bf14-9d12348787ac: original score 0.33181828, normalized score: 0.63505894\n",
      "---\n",
      "제목: Python 고급 기법\n",
      "하이브리드 점수: 0.7000\n",
      "점수 설명: \n",
      "Hybrid (Result Set keyword,bm25) Document 65bb69f7-8f20-48ef-90fe-de0ac663127f: original score 0.6466679, normalized score: 0 - \n",
      "Hybrid (Result Set vector,hybridVector) Document 65bb69f7-8f20-48ef-90fe-de0ac663127f: original score 0.35754848, normalized score: 0.7\n",
      "---\n",
      "제목: AI와 머신러닝 소개\n",
      "하이브리드 점수: 0.2435\n",
      "점수 설명: \n",
      "Hybrid (Result Set vector,hybridVector) Document d1fcc417-ad7e-4cef-869f-06c709413642: original score 0.17669398, normalized score: 0.24353686\n",
      "---\n"
     ]
    }
   ],
   "source": [
    "import weaviate.classes.config as wc\n",
    "from weaviate.classes.query import MetadataQuery\n",
    "\n",
    "# 컬렉션 가져오기\n",
    "my_collection = client.collections.get(\"ArticleCollection\")\n",
    "\n",
    "print(\"=== 벡터 검색 (distance 중심) ===\")\n",
    "response = my_collection.query.near_text(\n",
    "    query=\"Python 프로그래밍\",\n",
    "    limit=3,\n",
    "    return_metadata=MetadataQuery(score=True, distance=True, certainty=True),\n",
    ")\n",
    "\n",
    "for obj in response.objects:\n",
    "    print(f\"제목: {obj.properties['title']}\")\n",
    "    print(f\"Distance: {obj.metadata.distance:.4f}\")\n",
    "    print(f\"Score: {obj.metadata.score}\")\n",
    "    print(\n",
    "        f\"Certainty: {obj.metadata.certainty if hasattr(obj.metadata, 'certainty') else 'N/A'}\"\n",
    "    )\n",
    "    print(\"---\")\n",
    "\n",
    "print(\"\\n=== 하이브리드 검색 (score 중심) ===\")\n",
    "response = my_collection.query.hybrid(\n",
    "    query=\"Python\",\n",
    "    limit=3,\n",
    "    return_metadata=MetadataQuery(score=True, explain_score=True),\n",
    ")\n",
    "\n",
    "for obj in response.objects:\n",
    "    print(f\"제목: {obj.properties['title']}\")\n",
    "    print(f\"하이브리드 점수: {obj.metadata.score:.4f}\")\n",
    "    if hasattr(obj.metadata, \"explain_score\"):\n",
    "        print(f\"점수 설명: {obj.metadata.explain_score}\")\n",
    "    print(\"---\")"
   ]
  },
  {
   "cell_type": "code",
   "execution_count": 20,
   "id": "e76d0e93",
   "metadata": {},
   "outputs": [
    {
     "name": "stdout",
     "output_type": "stream",
     "text": [
      "=== 생성형 검색 (RAG) - 최신 방식 ===\n",
      "생성된 답변이 없습니다.\n",
      "\n",
      "📚 참조된 문서들:\n",
      "- 제목: Python 기초 가이드\n",
      "- 저자: 김개발\n",
      "- 점수: 0.0\n",
      "---\n",
      "- 제목: Python 고급 기법\n",
      "- 저자: 김고급\n",
      "- 점수: 0.0\n",
      "---\n"
     ]
    }
   ],
   "source": [
    "from weaviate.classes.query import MetadataQuery\n",
    "\n",
    "print(\"=== 생성형 검색 (RAG) - 최신 방식 ===\")\n",
    "\n",
    "# 생성형 검색 실행\n",
    "response = my_collection.generate.near_text(\n",
    "    query=\"Python 프로그래밍에 대해 설명해주세요\",\n",
    "    limit=2,\n",
    "    single_prompt=\"다음 내용을 바탕으로 초보자가 이해할 수 있게 간단히 설명해주세요: {content}\",\n",
    "    return_metadata=MetadataQuery(score=True),\n",
    ")\n",
    "\n",
    "# 올바른 새로운 방식\n",
    "if hasattr(response, \"generative\") and response.generative.text:\n",
    "    print(\"🤖 AI 생성 답변:\")\n",
    "    print(response.generative.text)  # ✅ generative.text 사용\n",
    "else:\n",
    "    print(\"생성된 답변이 없습니다.\")\n",
    "\n",
    "# 참조 문서들\n",
    "print(\"\\n📚 참조된 문서들:\")\n",
    "for obj in response.objects:\n",
    "    print(f\"- 제목: {obj.properties['title']}\")\n",
    "    print(f\"- 저자: {obj.properties['author']}\")\n",
    "    if hasattr(obj.metadata, \"score\"):\n",
    "        print(f\"- 점수: {obj.metadata.score}\")\n",
    "    print(\"---\")"
   ]
  },
  {
   "cell_type": "code",
   "execution_count": null,
   "id": "35370d3a",
   "metadata": {},
   "outputs": [],
   "source": []
  }
 ],
 "metadata": {
  "kernelspec": {
   "display_name": "venv (3.13.5)",
   "language": "python",
   "name": "python3"
  },
  "language_info": {
   "codemirror_mode": {
    "name": "ipython",
    "version": 3
   },
   "file_extension": ".py",
   "mimetype": "text/x-python",
   "name": "python",
   "nbconvert_exporter": "python",
   "pygments_lexer": "ipython3",
   "version": "3.13.5"
  }
 },
 "nbformat": 4,
 "nbformat_minor": 5
}
