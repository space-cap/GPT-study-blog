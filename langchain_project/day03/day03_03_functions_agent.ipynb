{
 "cells": [
  {
   "cell_type": "code",
   "execution_count": 1,
   "id": "40d9534b",
   "metadata": {},
   "outputs": [
    {
     "data": {
      "text/plain": [
       "2"
      ]
     },
     "execution_count": 1,
     "metadata": {},
     "output_type": "execute_result"
    }
   ],
   "source": [
    "1+1"
   ]
  },
  {
   "cell_type": "code",
   "execution_count": 2,
   "id": "3bd4dbf6",
   "metadata": {},
   "outputs": [
    {
     "name": "stdout",
     "output_type": "stream",
     "text": [
      "OpenAI Functions 실행:\n",
      "\n",
      "\n",
      "\u001b[1m> Entering new AgentExecutor chain...\u001b[0m\n",
      "\u001b[32;1m\u001b[1;3m\n",
      "Invoking: `Add` with `{'x': '5', 'y': '2'}`\n",
      "\n",
      "\n",
      "\u001b[0mx:5, y:2\n",
      "\u001b[36;1m\u001b[1;3m7.0\u001b[0m\u001b[32;1m\u001b[1;3m\n",
      "Invoking: `PopulationLookup` with `{'city': '서울'}`\n",
      "\n",
      "\n",
      "\u001b[0mcity:서울\n",
      "\u001b[33;1m\u001b[1;3m900만\u001b[0m\u001b[32;1m\u001b[1;3m5에 2를 더하면 7입니다. 서울의 인구는 약 900만입니다.\u001b[0m\n",
      "\n",
      "\u001b[1m> Finished chain.\u001b[0m\n",
      "5에 2를 더하면 7입니다. 서울의 인구는 약 900만입니다.\n"
     ]
    }
   ],
   "source": [
    "import os\n",
    "from dotenv import load_dotenv\n",
    "from typing import TypedDict, List\n",
    "from langchain_core.messages import BaseMessage, HumanMessage\n",
    "from langchain_openai import ChatOpenAI\n",
    "from langchain.agents import Tool\n",
    "from langgraph.prebuilt import create_react_agent\n",
    "from langgraph.graph import StateGraph, END\n",
    "from langchain.agents import initialize_agent, Tool, AgentType\n",
    "from langchain.tools import StructuredTool\n",
    "from pydantic import BaseModel, Field\n",
    "\n",
    "load_dotenv()\n",
    "OPENAI_API_KEY = os.getenv(\"OPENAI_API_KEY\")\n",
    "\n",
    "class AddInput(BaseModel):\n",
    "    x: str = Field(description=\"첫 번째 숫자\")\n",
    "    y: str = Field(description=\"두 번째 숫자\")\n",
    "\n",
    "class PopulationInput(BaseModel):\n",
    "    city: str = Field(description=\"인구를 조회할 도시명\")\n",
    "\n",
    "def add(x: str, y: str) -> str:\n",
    "    print(f\"x:{x}, y:{y}\")\n",
    "    try:\n",
    "        return str(float(x) + float(y))\n",
    "    except Exception:\n",
    "        return \"계산 실패\"\n",
    "\n",
    "\n",
    "def lookup_population(city: str) -> str:\n",
    "    print(f\"city:{city}\")\n",
    "\n",
    "    population = {\n",
    "        \"서울\": \"900만\",\n",
    "        \"부산\": \"300만\",\n",
    "    }\n",
    "    return population.get(city.strip(), \"정보 없음\")\n",
    "\n",
    "\n",
    "tools = [\n",
    "    StructuredTool.from_function(\n",
    "        name=\"Add\",\n",
    "        func=add,\n",
    "        description=\"두 숫자를 더합니다.\",\n",
    "        args_schema=AddInput\n",
    "    ),\n",
    "    StructuredTool.from_function(\n",
    "        name=\"PopulationLookup\",\n",
    "        func=lookup_population,\n",
    "        description=\"도시명을 입력하면 인구를 반환합니다.\",\n",
    "        args_schema=PopulationInput,\n",
    "    ),\n",
    "]\n",
    "\n",
    "llm = ChatOpenAI(\n",
    "    model=\"gpt-4o-mini\",\n",
    "    temperature=0,\n",
    "    verbose=True,\n",
    ")\n",
    "\n",
    "agent = initialize_agent(\n",
    "    tools=tools,\n",
    "    llm=llm,\n",
    "    agent=AgentType.OPENAI_FUNCTIONS,\n",
    "    verbose=True,\n",
    ")\n",
    "\n",
    "print(\"OpenAI Functions 실행:\")\n",
    "print(agent.run(\"5에 2를 더하고, 서울 인구도 알려줘\"))\n",
    "\n",
    "\n",
    "\n"
   ]
  },
  {
   "cell_type": "code",
   "execution_count": null,
   "id": "7ccc2407",
   "metadata": {},
   "outputs": [],
   "source": []
  }
 ],
 "metadata": {
  "kernelspec": {
   "display_name": "venv",
   "language": "python",
   "name": "python3"
  },
  "language_info": {
   "codemirror_mode": {
    "name": "ipython",
    "version": 3
   },
   "file_extension": ".py",
   "mimetype": "text/x-python",
   "name": "python",
   "nbconvert_exporter": "python",
   "pygments_lexer": "ipython3",
   "version": "3.13.5"
  }
 },
 "nbformat": 4,
 "nbformat_minor": 5
}
