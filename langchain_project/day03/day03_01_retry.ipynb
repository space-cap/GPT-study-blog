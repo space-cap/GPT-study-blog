{
 "cells": [
  {
   "cell_type": "code",
   "execution_count": 1,
   "id": "fc4bb403",
   "metadata": {},
   "outputs": [
    {
     "data": {
      "text/plain": [
       "2"
      ]
     },
     "execution_count": 1,
     "metadata": {},
     "output_type": "execute_result"
    }
   ],
   "source": [
    "1+1"
   ]
  },
  {
   "cell_type": "code",
   "execution_count": 1,
   "id": "bc9ac1f2",
   "metadata": {},
   "outputs": [
    {
     "name": "stdout",
     "output_type": "stream",
     "text": [
      "\u001b[1m[values]\u001b[0m {'messages': [HumanMessage(content='서울', additional_kwargs={}, response_metadata={}, id='09dad994-3896-425a-8078-560fd8097ad7')]}\n",
      "\u001b[1m[updates]\u001b[0m {'agent': {'messages': [AIMessage(content='', additional_kwargs={'tool_calls': [{'id': 'call_7cIWifobw4mFWwZZ9AqNzkok', 'function': {'arguments': '{\"__arg1\":\"서울\"}', 'name': 'PopulationLookup'}, 'type': 'function'}], 'refusal': None}, response_metadata={'token_usage': {'completion_tokens': 17, 'prompt_tokens': 76, 'total_tokens': 93, 'completion_tokens_details': {'accepted_prediction_tokens': 0, 'audio_tokens': 0, 'reasoning_tokens': 0, 'rejected_prediction_tokens': 0}, 'prompt_tokens_details': {'audio_tokens': 0, 'cached_tokens': 0}}, 'model_name': 'gpt-4o-mini-2024-07-18', 'system_fingerprint': 'fp_62a23a81ef', 'id': 'chatcmpl-BqdOuscYHzUzI1VWWzmppZrneGwAn', 'service_tier': 'default', 'finish_reason': 'tool_calls', 'logprobs': None}, id='run--c2dd3383-7b25-4a2f-b571-307f6fd7d78c-0', tool_calls=[{'name': 'PopulationLookup', 'args': {'__arg1': '서울'}, 'id': 'call_7cIWifobw4mFWwZZ9AqNzkok', 'type': 'tool_call'}], usage_metadata={'input_tokens': 76, 'output_tokens': 17, 'total_tokens': 93, 'input_token_details': {'audio': 0, 'cache_read': 0}, 'output_token_details': {'audio': 0, 'reasoning': 0}})]}}\n",
      "\u001b[1m[values]\u001b[0m {'messages': [HumanMessage(content='서울', additional_kwargs={}, response_metadata={}, id='09dad994-3896-425a-8078-560fd8097ad7'), AIMessage(content='', additional_kwargs={'tool_calls': [{'id': 'call_7cIWifobw4mFWwZZ9AqNzkok', 'function': {'arguments': '{\"__arg1\":\"서울\"}', 'name': 'PopulationLookup'}, 'type': 'function'}], 'refusal': None}, response_metadata={'token_usage': {'completion_tokens': 17, 'prompt_tokens': 76, 'total_tokens': 93, 'completion_tokens_details': {'accepted_prediction_tokens': 0, 'audio_tokens': 0, 'reasoning_tokens': 0, 'rejected_prediction_tokens': 0}, 'prompt_tokens_details': {'audio_tokens': 0, 'cached_tokens': 0}}, 'model_name': 'gpt-4o-mini-2024-07-18', 'system_fingerprint': 'fp_62a23a81ef', 'id': 'chatcmpl-BqdOuscYHzUzI1VWWzmppZrneGwAn', 'service_tier': 'default', 'finish_reason': 'tool_calls', 'logprobs': None}, id='run--c2dd3383-7b25-4a2f-b571-307f6fd7d78c-0', tool_calls=[{'name': 'PopulationLookup', 'args': {'__arg1': '서울'}, 'id': 'call_7cIWifobw4mFWwZZ9AqNzkok', 'type': 'tool_call'}], usage_metadata={'input_tokens': 76, 'output_tokens': 17, 'total_tokens': 93, 'input_token_details': {'audio': 0, 'cache_read': 0}, 'output_token_details': {'audio': 0, 'reasoning': 0}})]}\n",
      "\u001b[1m[updates]\u001b[0m {'tools': {'messages': [ToolMessage(content='900만', name='PopulationLookup', id='fbead342-f607-4aa0-8241-e5424ccfa29a', tool_call_id='call_7cIWifobw4mFWwZZ9AqNzkok')]}}\n",
      "\u001b[1m[values]\u001b[0m {'messages': [HumanMessage(content='서울', additional_kwargs={}, response_metadata={}, id='09dad994-3896-425a-8078-560fd8097ad7'), AIMessage(content='', additional_kwargs={'tool_calls': [{'id': 'call_7cIWifobw4mFWwZZ9AqNzkok', 'function': {'arguments': '{\"__arg1\":\"서울\"}', 'name': 'PopulationLookup'}, 'type': 'function'}], 'refusal': None}, response_metadata={'token_usage': {'completion_tokens': 17, 'prompt_tokens': 76, 'total_tokens': 93, 'completion_tokens_details': {'accepted_prediction_tokens': 0, 'audio_tokens': 0, 'reasoning_tokens': 0, 'rejected_prediction_tokens': 0}, 'prompt_tokens_details': {'audio_tokens': 0, 'cached_tokens': 0}}, 'model_name': 'gpt-4o-mini-2024-07-18', 'system_fingerprint': 'fp_62a23a81ef', 'id': 'chatcmpl-BqdOuscYHzUzI1VWWzmppZrneGwAn', 'service_tier': 'default', 'finish_reason': 'tool_calls', 'logprobs': None}, id='run--c2dd3383-7b25-4a2f-b571-307f6fd7d78c-0', tool_calls=[{'name': 'PopulationLookup', 'args': {'__arg1': '서울'}, 'id': 'call_7cIWifobw4mFWwZZ9AqNzkok', 'type': 'tool_call'}], usage_metadata={'input_tokens': 76, 'output_tokens': 17, 'total_tokens': 93, 'input_token_details': {'audio': 0, 'cache_read': 0}, 'output_token_details': {'audio': 0, 'reasoning': 0}}), ToolMessage(content='900만', name='PopulationLookup', id='fbead342-f607-4aa0-8241-e5424ccfa29a', tool_call_id='call_7cIWifobw4mFWwZZ9AqNzkok')]}\n",
      "\u001b[1m[updates]\u001b[0m {'agent': {'messages': [AIMessage(content='서울의 인구는 약 900만 명입니다.', additional_kwargs={'refusal': None}, response_metadata={'token_usage': {'completion_tokens': 13, 'prompt_tokens': 103, 'total_tokens': 116, 'completion_tokens_details': {'accepted_prediction_tokens': 0, 'audio_tokens': 0, 'reasoning_tokens': 0, 'rejected_prediction_tokens': 0}, 'prompt_tokens_details': {'audio_tokens': 0, 'cached_tokens': 0}}, 'model_name': 'gpt-4o-mini-2024-07-18', 'system_fingerprint': 'fp_62a23a81ef', 'id': 'chatcmpl-BqdOwUHmgxmDTediKgWx2rZ7EjU2C', 'service_tier': 'default', 'finish_reason': 'stop', 'logprobs': None}, id='run--ef105a06-ebf4-451c-9478-c999161546f0-0', usage_metadata={'input_tokens': 103, 'output_tokens': 13, 'total_tokens': 116, 'input_token_details': {'audio': 0, 'cache_read': 0}, 'output_token_details': {'audio': 0, 'reasoning': 0}})]}}\n",
      "\u001b[1m[values]\u001b[0m {'messages': [HumanMessage(content='서울', additional_kwargs={}, response_metadata={}, id='09dad994-3896-425a-8078-560fd8097ad7'), AIMessage(content='', additional_kwargs={'tool_calls': [{'id': 'call_7cIWifobw4mFWwZZ9AqNzkok', 'function': {'arguments': '{\"__arg1\":\"서울\"}', 'name': 'PopulationLookup'}, 'type': 'function'}], 'refusal': None}, response_metadata={'token_usage': {'completion_tokens': 17, 'prompt_tokens': 76, 'total_tokens': 93, 'completion_tokens_details': {'accepted_prediction_tokens': 0, 'audio_tokens': 0, 'reasoning_tokens': 0, 'rejected_prediction_tokens': 0}, 'prompt_tokens_details': {'audio_tokens': 0, 'cached_tokens': 0}}, 'model_name': 'gpt-4o-mini-2024-07-18', 'system_fingerprint': 'fp_62a23a81ef', 'id': 'chatcmpl-BqdOuscYHzUzI1VWWzmppZrneGwAn', 'service_tier': 'default', 'finish_reason': 'tool_calls', 'logprobs': None}, id='run--c2dd3383-7b25-4a2f-b571-307f6fd7d78c-0', tool_calls=[{'name': 'PopulationLookup', 'args': {'__arg1': '서울'}, 'id': 'call_7cIWifobw4mFWwZZ9AqNzkok', 'type': 'tool_call'}], usage_metadata={'input_tokens': 76, 'output_tokens': 17, 'total_tokens': 93, 'input_token_details': {'audio': 0, 'cache_read': 0}, 'output_token_details': {'audio': 0, 'reasoning': 0}}), ToolMessage(content='900만', name='PopulationLookup', id='fbead342-f607-4aa0-8241-e5424ccfa29a', tool_call_id='call_7cIWifobw4mFWwZZ9AqNzkok'), AIMessage(content='서울의 인구는 약 900만 명입니다.', additional_kwargs={'refusal': None}, response_metadata={'token_usage': {'completion_tokens': 13, 'prompt_tokens': 103, 'total_tokens': 116, 'completion_tokens_details': {'accepted_prediction_tokens': 0, 'audio_tokens': 0, 'reasoning_tokens': 0, 'rejected_prediction_tokens': 0}, 'prompt_tokens_details': {'audio_tokens': 0, 'cached_tokens': 0}}, 'model_name': 'gpt-4o-mini-2024-07-18', 'system_fingerprint': 'fp_62a23a81ef', 'id': 'chatcmpl-BqdOwUHmgxmDTediKgWx2rZ7EjU2C', 'service_tier': 'default', 'finish_reason': 'stop', 'logprobs': None}, id='run--ef105a06-ebf4-451c-9478-c999161546f0-0', usage_metadata={'input_tokens': 103, 'output_tokens': 13, 'total_tokens': 116, 'input_token_details': {'audio': 0, 'cache_read': 0}, 'output_token_details': {'audio': 0, 'reasoning': 0}})]}\n",
      "HumanMessage : 서울\n",
      "AIMessage : \n",
      "ToolMessage : 900만\n",
      "AIMessage : 서울의 인구는 약 900만 명입니다.\n"
     ]
    }
   ],
   "source": [
    "import os\n",
    "from dotenv import load_dotenv\n",
    "from typing import TypedDict, List\n",
    "from langchain_core.messages import BaseMessage, HumanMessage\n",
    "from langchain_openai import ChatOpenAI\n",
    "from langchain.agents import Tool\n",
    "from langgraph.prebuilt import create_react_agent\n",
    "from langgraph.graph import StateGraph, END\n",
    "\n",
    "load_dotenv()\n",
    "OPENAI_API_KEY = os.getenv(\"OPENAI_API_KEY\")\n",
    "\n",
    "\n",
    "def add_two(x:str) -> str:\n",
    "    try:\n",
    "        return str(float(x)+2)\n",
    "    except Exception:\n",
    "        return ValueError(\"숫자만 입력 가능합니다.\")\n",
    "\n",
    "def population_lookup(city:str) -> str:\n",
    "    city = city.strip().lower()\n",
    "    data = {\n",
    "        \"서울\":\"900만\",\n",
    "        \"부산\":\"300만\",\n",
    "    }\n",
    "    return data.get(city.strip().lower(), f\"{city}의 인구 정보를 못 찾았다.\")\n",
    "\n",
    "class AgentState(TypedDict):\n",
    "    messages: List[BaseMessage]\n",
    "\n",
    "tools = [\n",
    "    Tool(name=\"AddTwo\", func=add_two, description=\"숫자 입력 시\"),\n",
    "    Tool(name=\"PopulationLookup\", func=population_lookup, description=\"도시 인구 조회\"),\n",
    "]\n",
    "\n",
    "llm = ChatOpenAI(\n",
    "    model = \"gpt-4o-mini\",\n",
    "    temperature=0,\n",
    "    verbose=True,\n",
    ")\n",
    "\n",
    "react_agent = create_react_agent(\n",
    "    model=llm,\n",
    "    tools=tools,\n",
    "    debug=True,\n",
    ")\n",
    "\n",
    "graph = StateGraph(AgentState)\n",
    "graph.add_node(\"agent\", react_agent)\n",
    "graph.set_entry_point(\"agent\")\n",
    "graph.add_edge(\"agent\", END)\n",
    "\n",
    "app = graph.compile()\n",
    "\n",
    "\n",
    "    \n",
    "response = app.invoke({\n",
    "    \"messages\": [\n",
    "        HumanMessage(content=\"서울\")\n",
    "    ]\n",
    "})\n",
    "\n",
    "for m in response[\"messages\"]:\n",
    "    print(m.__class__.__name__, \":\", getattr(m, \"content\", repr(m)))"
   ]
  },
  {
   "cell_type": "code",
   "execution_count": 2,
   "id": "bd6c03f5",
   "metadata": {},
   "outputs": [
    {
     "data": {
      "image/png": "[encoded data removed]",
      "text/plain": [
       "<IPython.core.display.Image object>"
      ]
     },
     "metadata": {},
     "output_type": "display_data"
    }
   ],
   "source": [
    "from IPython.display import Image, display\n",
    "\n",
    "try:\n",
    "    # 잘못된 코드\n",
    "    # display(Image(graph.get_graph().draw_mermaid_png()))\n",
    "\n",
    "    # 올바른 코드\n",
    "    display(Image(app.get_graph(xray=True).draw_mermaid_png()))\n",
    "except Exception as e:\n",
    "    print(f\"Error type: {type(e).__name__}\")\n",
    "    print(f\"Error message: {e}\")"
   ]
  },
  {
   "cell_type": "code",
   "execution_count": null,
   "id": "ce9cfcee",
   "metadata": {},
   "outputs": [],
   "source": []
  }
 ],
 "metadata": {
  "kernelspec": {
   "display_name": "venv",
   "language": "python",
   "name": "python3"
  },
  "language_info": {
   "codemirror_mode": {
    "name": "ipython",
    "version": 3
   },
   "file_extension": ".py",
   "mimetype": "text/x-python",
   "name": "python",
   "nbconvert_exporter": "python",
   "pygments_lexer": "ipython3",
   "version": "3.13.5"
  }
 },
 "nbformat": 4,
 "nbformat_minor": 5
}
