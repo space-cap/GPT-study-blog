{
 "cells": [
  {
   "cell_type": "code",
   "execution_count": 1,
   "id": "0add9d48",
   "metadata": {},
   "outputs": [
    {
     "data": {
      "text/plain": [
       "2"
      ]
     },
     "execution_count": 1,
     "metadata": {},
     "output_type": "execute_result"
    }
   ],
   "source": [
    "1+1"
   ]
  },
  {
   "cell_type": "code",
   "execution_count": null,
   "id": "bc078812",
   "metadata": {},
   "outputs": [
    {
     "name": "stdout",
     "output_type": "stream",
     "text": [
      "ReAct 실행:\n",
      "\n",
      "\n",
      "\u001b[1m> Entering new AgentExecutor chain...\u001b[0m\n",
      "\u001b[32;1m\u001b[1;3mI need to perform three actions: first, add 5 and 2; second, look up the population of Seoul; and third, find out how much money 태양 has. \n",
      "\n",
      "Action: Add  \n",
      "Action Input: 5 2  \u001b[0mx:5, y:2\n",
      "\n",
      "Observation: \u001b[36;1m\u001b[1;3m7.0\u001b[0m\n",
      "Thought:\u001b[32;1m\u001b[1;3mI have the result of adding 5 and 2, which is 7. Now I will look up the population of Seoul.\n",
      "\n",
      "Action: PopulationLookup  \n",
      "Action Input: 서울  \u001b[0mcity:서울\n",
      "\n",
      "Observation: \u001b[33;1m\u001b[1;3m900만\u001b[0m\n",
      "Thought:\u001b[32;1m\u001b[1;3mI have the population of Seoul, which is 900만. Now I will find out how much money 태양 has.\n",
      "\n",
      "Action: MyName  \n",
      "Action Input: 태양  \u001b[0mname:태양\n",
      "\n",
      "Observation: \u001b[38;5;200m\u001b[1;3m100억\u001b[0m\n",
      "Thought:\u001b[32;1m\u001b[1;3mI now know the final answer. \n",
      "Final Answer: 5에 2를 더하면 7이고, 서울의 인구는 900만이며, 태양은 100억을 가지고 있습니다.\u001b[0m\n",
      "\n",
      "\u001b[1m> Finished chain.\u001b[0m\n",
      "5에 2를 더하면 7이고, 서울의 인구는 900만이며, 태양은 100억을 가지고 있습니다.\n"
     ]
    }
   ],
   "source": [
    "import os\n",
    "from dotenv import load_dotenv\n",
    "from typing import TypedDict, List\n",
    "from langchain_core.messages import BaseMessage, HumanMessage\n",
    "from langchain_openai import ChatOpenAI\n",
    "from langchain.agents import Tool\n",
    "from langgraph.prebuilt import create_react_agent\n",
    "from langgraph.graph import StateGraph, END\n",
    "from langchain.agents import initialize_agent, Tool, AgentType\n",
    "\n",
    "load_dotenv()\n",
    "OPENAI_API_KEY = os.getenv(\"OPENAI_API_KEY\")\n",
    "\n",
    "\n",
    "def add(x: str, y:str) -> str:\n",
    "    print(f\"x:{x}, y:{y}\")\n",
    "    try:\n",
    "        return str(float(x) + float(y))\n",
    "    except Exception:\n",
    "        return ValueError(\"계산 실패\")\n",
    "\n",
    "def lookup_population(city: str) -> str:\n",
    "    print(f\"city:{city}\")\n",
    "\n",
    "    population = {\n",
    "        \"서울\": \"900만\",\n",
    "        \"부산\": \"300만\",\n",
    "    }\n",
    "    return population.get(city.strip(),\"정보 없음\")\n",
    "\n",
    "\n",
    "def my_name(name: str) -> str:\n",
    "    print(f\"name:{name}\")\n",
    "\n",
    "    population = {\n",
    "        \"태양\": \"100억\",\n",
    "        \"주영\": \"300만\",\n",
    "        \"영현\": \"100억\",\n",
    "    }\n",
    "    return population.get(name.strip(), f\"{name}정보 없음\")\n",
    "\n",
    "\n",
    "tools = [\n",
    "    Tool(\n",
    "        name=\"Add\",\n",
    "        func=lambda x: add(*x.split()),\n",
    "        description=\"두 숫자를 더합니다 (예: 5 2)\",\n",
    "    ),\n",
    "    Tool(\n",
    "        name=\"PopulationLookup\",\n",
    "        func=lookup_population,\n",
    "        description=\"도시명으로 인구를 알려줍니다 (예: 서울)\",\n",
    "    ),\n",
    "    Tool(\n",
    "        name=\"MyName\",\n",
    "        func=my_name,\n",
    "        description=\"이름으로 가지고 있는 돈을 알려준다. (예: 영현)\",\n",
    "    ),\n",
    "]\n",
    "\n",
    "llm = ChatOpenAI(\n",
    "    model=\"gpt-4o-mini\",\n",
    "    temperature=0,\n",
    "    verbose=True,\n",
    ")\n",
    "\n",
    "agent = initialize_agent(\n",
    "    tools=tools,\n",
    "    llm=llm,\n",
    "    agent=AgentType.ZERO_SHOT_REACT_DESCRIPTION,\n",
    "    verbose=True,\n",
    ")\n",
    "\n",
    "print(\"ReAct 실행:\")\n",
    "# print(agent.run(\"5에 2를 더하고, 서울 인구도 알려줘, 그리고 태양이 얼마가지고 있는지도 알려줘.\"))\n",
    "print(agent.run(\"5에 2를 더하지 말고 빼, 서울 인구도 알려줘, 그리고 태양이 얼마가지고 있는지도 알려줘.\"))"
   ]
  },
  {
   "cell_type": "code",
   "execution_count": null,
   "id": "36bd4999",
   "metadata": {},
   "outputs": [],
   "source": []
  }
 ],
 "metadata": {
  "kernelspec": {
   "display_name": "venv",
   "language": "python",
   "name": "python3"
  },
  "language_info": {
   "codemirror_mode": {
    "name": "ipython",
    "version": 3
   },
   "file_extension": ".py",
   "mimetype": "text/x-python",
   "name": "python",
   "nbconvert_exporter": "python",
   "pygments_lexer": "ipython3",
   "version": "3.13.5"
  }
 },
 "nbformat": 4,
 "nbformat_minor": 5
}
