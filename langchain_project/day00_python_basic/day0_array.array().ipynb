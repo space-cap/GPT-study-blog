{
 "cells": [
  {
   "cell_type": "markdown",
   "metadata": {},
   "source": [
    "# array.array() 완전 가이드\n",
    "\n",
    "## array.array() 개요\n",
    "\n",
    "`array.array()`는 Python의 내장 `array` 모듈에서 제공하는 클래스로, **동일한 타입의 요소들을 메모리 효율적으로 저장**하는 배열을 생성합니다. 일반 리스트보다 메모리 사용량이 적고 수치 연산에 최적화되어 있습니다."
   ]
  },
  {
   "cell_type": "markdown",
   "metadata": {},
   "source": [
    "## 기본 문법\n",
    "\n",
    "``` python\n",
    "array.array(typecode, [initializer])\n",
    "```\n",
    "\n",
    "- **typecode**: 배열에 저장될 데이터 타입을 지정하는 문자\n",
    "- **initializer**: 초기값 (선택사항)"
   ]
  },
  {
   "cell_type": "markdown",
   "metadata": {},
   "source": [
    "## 주요 타입코드\n",
    "\n",
    "| 타입코드 | C 타입 | Python 타입 | 최소 크기(바이트) |\n",
    "|---------|--------|-------------|------------------|\n",
    "| 'b' | signed char | int | 1 |\n",
    "| 'B' | unsigned char | int | 1 |\n",
    "| 'h' | signed short | int | 2 |\n",
    "| 'H' | unsigned short | int | 2 |\n",
    "| 'i' | signed int | int | 2 |\n",
    "| 'I' | unsigned int | int | 2 |\n",
    "| 'l' | signed long | int | 4 |\n",
    "| 'L' | unsigned long | int | 4 |\n",
    "| 'f' | float | float | 4 |\n",
    "| 'd' | double | float | 8 |"
   ]
  },
  {
   "cell_type": "markdown",
   "metadata": {},
   "source": [
    "## 코드 분석"
   ]
  },
  {
   "cell_type": "code",
   "execution_count": 2,
   "metadata": {},
   "outputs": [
    {
     "name": "stdout",
     "output_type": "stream",
     "text": [
      "x: array('i', [1, 2, 3])\n",
      "x is y: False\n"
     ]
    }
   ],
   "source": [
    "import array\n",
    "\n",
    "x = array.array('i', [1, 2, 3])  # 정수형 배열 생성\n",
    "y = array.array(\"i\", x)  # x의 복사본 생성 (새로운 객체) # 값 복사 (깊은 복사)\n",
    "y.append(4)\n",
    "\n",
    "print('x:', x)        # x: array('i', [1, 2, 3])\n",
    "print('x is y:', x is y)  # x is y: False"
   ]
  },
  {
   "cell_type": "markdown",
   "metadata": {},
   "source": [
    "**중요한 점**: `array.array('i', x)`는 **새로운 배열 객체를 생성**합니다. 이는 리스트의 `b = a`와 다른 동작입니다."
   ]
  },
  {
   "cell_type": "markdown",
   "metadata": {},
   "source": [
    "## 주요 특징\n",
    "\n",
    "### 1. 메모리 효율성"
   ]
  },
  {
   "cell_type": "code",
   "execution_count": 4,
   "metadata": {},
   "outputs": [
    {
     "name": "stdout",
     "output_type": "stream",
     "text": [
      "리스트 크기: 40056 bytes\n",
      "배열 크기: 20080 bytes\n",
      "리스트 크기: 28 bytes\n",
      "배열 크기: 28 bytes\n"
     ]
    }
   ],
   "source": [
    "import sys\n",
    "import array\n",
    "\n",
    "# 리스트 vs 배열 메모리 비교\n",
    "list_data = [1, 2, 3, 4, 5] * 1000\n",
    "array_data = array.array('i', [1, 2, 3, 4, 5] * 1000)\n",
    "\n",
    "print(f\"리스트 크기: {sys.getsizeof(list_data)} bytes\")\n",
    "print(f\"배열 크기: {sys.getsizeof(array_data)} bytes\")\n",
    "\n",
    "print(f\"리스트 크기: {sys.getsizeof(list_data[0])} bytes\")\n",
    "print(f\"배열 크기: {sys.getsizeof(array_data[0])} bytes\")\n"
   ]
  },
  {
   "cell_type": "markdown",
   "metadata": {},
   "source": [
    "### 2. 타입 안정성"
   ]
  },
  {
   "cell_type": "code",
   "execution_count": 5,
   "metadata": {},
   "outputs": [
    {
     "name": "stdout",
     "output_type": "stream",
     "text": [
      "array('i', [1, 2, 3, 4])\n"
     ]
    }
   ],
   "source": [
    "arr = array.array('i', [1, 2, 3])\n",
    "\n",
    "# arr.append(3.14)  # TypeError 발생!\n",
    "arr.append(4)  # 정수만 허용\n",
    "print(arr)"
   ]
  },
  {
   "cell_type": "markdown",
   "metadata": {},
   "source": [
    "### 3. 주요 메서드들"
   ]
  },
  {
   "cell_type": "code",
   "execution_count": 6,
   "metadata": {},
   "outputs": [
    {
     "name": "stdout",
     "output_type": "stream",
     "text": [
      "append 후: array('i', [1, 2, 3, 4])\n",
      "insert 후: array('i', [0, 1, 2, 3, 4])\n",
      "remove 후: array('i', [0, 1, 3, 4])\n",
      "pop 후: array('i', [0, 1, 3]) (제거된 요소: 4 )\n"
     ]
    }
   ],
   "source": [
    "arr = array.array('i', [1, 2, 3])\n",
    "\n",
    "# 요소 추가/제거\n",
    "arr.append(4)           # 끝에 추가\n",
    "print(\"append 후:\", arr)\n",
    "\n",
    "arr.insert(0, 0)        # 특정 위치에 삽입\n",
    "print(\"insert 후:\", arr)\n",
    "\n",
    "arr.remove(2)           # 값으로 제거\n",
    "print(\"remove 후:\", arr)\n",
    "\n",
    "last_element = arr.pop()  # 마지막 요소 제거\n",
    "print(\"pop 후:\", arr, \"(제거된 요소:\", last_element, \")\")"
   ]
  },
  {
   "cell_type": "code",
   "execution_count": null,
   "metadata": {},
   "outputs": [],
   "source": [
    "# 배열 조작\n",
    "arr.extend([5, 6, 7])   # 여러 요소 추가\n",
    "print(\"extend 후:\", arr)\n",
    "\n",
    "arr.reverse()           # 순서 뒤집기\n",
    "print(\"reverse 후:\", arr)"
   ]
  },
  {
   "cell_type": "code",
   "execution_count": 7,
   "metadata": {},
   "outputs": [
    {
     "name": "stdout",
     "output_type": "stream",
     "text": [
      "타입코드: i\n",
      "길이: 3\n",
      "각 요소의 바이트 크기: 4\n"
     ]
    }
   ],
   "source": [
    "# 정보 조회\n",
    "print(\"타입코드:\", arr.typecode)     # 타입코드 확인\n",
    "print(\"길이:\", len(arr))             # 길이\n",
    "print(\"각 요소의 바이트 크기:\", arr.itemsize)  # 각 요소의 바이트 크기"
   ]
  },
  {
   "cell_type": "markdown",
   "metadata": {},
   "source": [
    "## 언제 사용하면 좋을까?\n",
    "\n",
    "### 적합한 경우:\n",
    "- 대량의 수치 데이터 처리\n",
    "- 메모리 사용량이 중요한 경우\n",
    "- C 라이브러리와의 인터페이스\n",
    "- 파일 I/O에서 바이너리 데이터 처리\n",
    "\n",
    "### 부적합한 경우:\n",
    "- 다양한 타입의 데이터 저장\n",
    "- 복잡한 객체 저장\n",
    "- 빈번한 삽입/삭제 연산"
   ]
  },
  {
   "cell_type": "markdown",
   "metadata": {},
   "source": [
    "## 파일 I/O 예제"
   ]
  },
  {
   "cell_type": "code",
   "execution_count": null,
   "metadata": {},
   "outputs": [],
   "source": [
    "import array\n",
    "\n",
    "# 배열을 파일에 저장\n",
    "arr = array.array('i', [1, 2, 3, 4, 5])\n",
    "with open('data.bin', 'wb') as f:\n",
    "    arr.tofile(f)\n",
    "\n",
    "print(\"배열을 파일에 저장했습니다.\")\n",
    "print(\"원본 배열:\", arr)"
   ]
  },
  {
   "cell_type": "code",
   "execution_count": null,
   "metadata": {},
   "outputs": [],
   "source": [
    "# 파일에서 배열 읽기\n",
    "new_arr = array.array('i')\n",
    "with open('data.bin', 'rb') as f:\n",
    "    new_arr.fromfile(f, 5)  # 5개 요소 읽기\n",
    "\n",
    "print(\"파일에서 읽은 배열:\", new_arr)"
   ]
  },
  {
   "cell_type": "markdown",
   "metadata": {},
   "source": [
    "## 결론\n",
    "\n",
    "`array.array()`는 특정 상황에서 리스트보다 훨씬 효율적인 대안을 제공하는 강력한 도구입니다. 메모리 효율성과 타입 안정성이 중요한 수치 계산 작업에서 특히 유용합니다."
   ]
  }
 ],
 "metadata": {
  "kernelspec": {
   "display_name": "venv",
   "language": "python",
   "name": "python3"
  },
  "language_info": {
   "codemirror_mode": {
    "name": "ipython",
    "version": 3
   },
   "file_extension": ".py",
   "mimetype": "text/x-python",
   "name": "python",
   "nbconvert_exporter": "python",
   "pygments_lexer": "ipython3",
   "version": "3.13.5"
  }
 },
 "nbformat": 4,
 "nbformat_minor": 4
}
