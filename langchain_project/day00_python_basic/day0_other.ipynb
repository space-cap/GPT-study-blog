{
 "cells": [
  {
   "cell_type": "code",
   "execution_count": null,
   "id": "38de5659",
   "metadata": {},
   "outputs": [],
   "source": [
    "a = 1\n",
    "b = 1\n",
    "\n",
    "print(a is b)  # True, a와 b는 동일한 객체를 참조합니다.\n",
    "\n",
    "\n",
    "\n"
   ]
  }
 ],
 "metadata": {
  "language_info": {
   "name": "python"
  }
 },
 "nbformat": 4,
 "nbformat_minor": 5
}
