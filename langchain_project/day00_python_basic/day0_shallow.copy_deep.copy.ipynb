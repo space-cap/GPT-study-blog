{
 "cells": [
  {
   "cell_type": "markdown",
   "metadata": {},
   "source": [
    "# 얕은 복사(Shallow Copy)와 깊은 복사(Deep Copy) 완전 가이드\n",
    "\n",
    "## 개념 정리\n",
    "\n",
    "**얕은 복사**는 객체의 **참조값(주소값)을 복사**하는 방식이고, **깊은 복사**는 객체의 **실제 값을 복사**하는 방식입니다. \n",
    "\n",
    "### 핵심 차이점\n",
    "- **얕은 복사**: 한 단계까지만 복사하며, 중첩된 객체는 참조를 공유\n",
    "- **깊은 복사**: 객체에 중첩된 객체까지 모두 복사하여 완전히 독립적인 객체 생성"
   ]
  },
  {
   "cell_type": "markdown",
   "metadata": {},
   "source": [
    "## 1. 얕은 복사 (Shallow Copy)\n",
    "\n",
    "### 특징\n",
    "- 객체의 최상위 레벨 속성만 복사\n",
    "- 중첩된 객체나 배열은 **같은 참조를 공유**\n",
    "- 복사된 객체의 인스턴스 변수는 원본 객체와 같은 메모리 주소를 참조"
   ]
  },
  {
   "cell_type": "code",
   "execution_count": 2,
   "metadata": {},
   "outputs": [
    {
     "name": "stdout",
     "output_type": "stream",
     "text": [
      "=== 얕은 복사 예제 ===\n",
      "원본 리스트: [1, [2, 3], 4]\n",
      "얕은 복사 결과: [1, [2, 3], 4]\n"
     ]
    }
   ],
   "source": [
    "import copy\n",
    "\n",
    "# 원본 리스트 (중첩된 리스트 포함)\n",
    "original_list = [1, [2, 3], 4]\n",
    "print(\"=== 얕은 복사 예제 ===\")\n",
    "print(f\"원본 리스트: {original_list}\")\n",
    "\n",
    "# 방법 1: copy.copy() 사용\n",
    "shallow_copy1 = copy.copy(original_list)\n",
    "\n",
    "# 방법 2: 리스트 슬라이싱 사용\n",
    "shallow_copy2 = original_list[:]\n",
    "\n",
    "# 방법 3: list() 생성자 사용\n",
    "shallow_copy3 = list(original_list)\n",
    "\n",
    "print(f\"얕은 복사 결과: {shallow_copy1}\")"
   ]
  },
  {
   "cell_type": "code",
   "execution_count": 3,
   "metadata": {},
   "outputs": [
    {
     "name": "stdout",
     "output_type": "stream",
     "text": [
      "=== 메모리 주소 비교 ===\n",
      "원본 리스트 ID: 2547837140288\n",
      "복사본 리스트 ID: 2547837127104\n",
      "원본 내부 리스트 ID: 2547837138752\n",
      "복사본 내부 리스트 ID: 2547837138752\n"
     ]
    }
   ],
   "source": [
    "# ID 확인 (메모리 주소 확인)\n",
    "print(f\"=== 메모리 주소 비교 ===\")\n",
    "print(f\"원본 리스트 ID: {id(original_list)}\")\n",
    "print(f\"복사본 리스트 ID: {id(shallow_copy1)}\")\n",
    "print(f\"원본 내부 리스트 ID: {id(original_list[1])}\")\n",
    "print(f\"복사본 내부 리스트 ID: {id(shallow_copy1[1])}\")"
   ]
  },
  {
   "cell_type": "code",
   "execution_count": 4,
   "metadata": {},
   "outputs": [
    {
     "name": "stdout",
     "output_type": "stream",
     "text": [
      "=== 중첩된 객체 수정 후 ===\n",
      "원본 리스트: [1, ['A', 3], 4]\n",
      "얕은 복사본: [1, ['A', 3], 4]\n",
      "→ 내부 리스트가 같은 참조를 공유하므로 둘 다 변경됨!\n",
      "\n",
      "=== 최상위 레벨 수정 후 ===\n",
      "원본 리스트: [999, ['A', 3], 4]\n",
      "얕은 복사본: [1, ['A', 3], 4]\n",
      "→ 최상위 레벨은 독립적이므로 복사본은 변경되지 않음!\n"
     ]
    }
   ],
   "source": [
    "# 중첩된 객체 수정\n",
    "print(f\"=== 중첩된 객체 수정 후 ===\")\n",
    "original_list[1][0] = 'A'  # 내부 리스트의 첫 번째 요소 수정\n",
    "\n",
    "print(f\"원본 리스트: {original_list}\")\n",
    "print(f\"얕은 복사본: {shallow_copy1}\")\n",
    "print(\"→ 내부 리스트가 같은 참조를 공유하므로 둘 다 변경됨!\")\n",
    "\n",
    "# 최상위 레벨 수정\n",
    "original_list[0] = 999  # 최상위 레벨 요소 수정\n",
    "print(f\"\\n=== 최상위 레벨 수정 후 ===\")\n",
    "print(f\"원본 리스트: {original_list}\")\n",
    "print(f\"얕은 복사본: {shallow_copy1}\")\n",
    "print(\"→ 최상위 레벨은 독립적이므로 복사본은 변경되지 않음!\")"
   ]
  },
  {
   "cell_type": "markdown",
   "metadata": {},
   "source": [
    "### 딕셔너리 얕은 복사 예제"
   ]
  },
  {
   "cell_type": "code",
   "execution_count": null,
   "metadata": {},
   "outputs": [],
   "source": [
    "# 딕셔너리 얕은 복사 예제\n",
    "original_dict = {\n",
    "    'name': 'Alice',\n",
    "    'scores': [85, 90, 78],\n",
    "    'info': {'age': 25, 'city': 'Seoul'}\n",
    "}\n",
    "\n",
    "print(\"=== 딕셔너리 얕은 복사 ===\")\n",
    "print(f\"원본 딕셔너리: {original_dict}\")\n",
    "\n",
    "# 얕은 복사 수행\n",
    "shallow_dict = original_dict.copy()  # 또는 dict(original_dict)\n",
    "print(f\"얕은 복사본: {shallow_dict}\")"
   ]
  },
  {
   "cell_type": "code",
   "execution_count": null,
   "metadata": {},
   "outputs": [],
   "source": [
    "# 중첩된 객체 수정\n",
    "original_dict['scores'][0] = 100  # 리스트 내부 수정\n",
    "original_dict['info']['age'] = 30  # 딕셔너리 내부 수정\n",
    "\n",
    "print(f\"=== 중첩된 객체 수정 후 ===\")\n",
    "print(f\"원본: {original_dict}\")\n",
    "print(f\"복사본: {shallow_dict}\")\n",
    "print(\"→ 중첩된 객체들이 같은 참조를 공유!\")"
   ]
  },
  {
   "cell_type": "markdown",
   "metadata": {},
   "source": [
    "## 2. 깊은 복사 (Deep Copy)\n",
    "\n",
    "### 특징\n",
    "- 객체의 모든 필드를 복사하여 새로운 객체 생성\n",
    "- 중첩된 객체까지 모두 별개의 값으로 복사\n",
    "- 원본 객체와 복사된 객체가 완전히 독립적"
   ]
  },
  {
   "cell_type": "code",
   "execution_count": null,
   "metadata": {},
   "outputs": [],
   "source": [
    "import copy\n",
    "\n",
    "# 원본 리스트 (중첩된 구조)\n",
    "original_list = [1, [2, 3], {'key': [4, 5]}]\n",
    "print(\"=== 깊은 복사 예제 ===\")\n",
    "print(f\"원본 리스트: {original_list}\")\n",
    "\n",
    "# 깊은 복사 수행\n",
    "deep_copy = copy.deepcopy(original_list)\n",
    "print(f\"깊은 복사 결과: {deep_copy}\")"
   ]
  },
  {
   "cell_type": "code",
   "execution_count": null,
   "metadata": {},
   "outputs": [],
   "source": [
    "# ID 확인 (메모리 주소 확인)\n",
    "print(f\"=== 메모리 주소 비교 ===\")\n",
    "print(f\"원본 리스트 ID: {id(original_list)}\")\n",
    "print(f\"깊은 복사본 ID: {id(deep_copy)}\")\n",
    "print(f\"원본 내부 리스트 ID: {id(original_list[1])}\")\n",
    "print(f\"복사본 내부 리스트 ID: {id(deep_copy[1])}\")\n",
    "print(f\"원본 딕셔너리 ID: {id(original_list[2])}\")\n",
    "print(f\"복사본 딕셔너리 ID: {id(deep_copy[2])}\")"
   ]
  },
  {
   "cell_type": "code",
   "execution_count": null,
   "metadata": {},
   "outputs": [],
   "source": [
    "# 중첩된 객체 수정\n",
    "print(f\"=== 중첩된 객체 수정 후 ===\")\n",
    "original_list[1][0] = 'A'  # 내부 리스트 수정\n",
    "original_list[2]['key'][0] = 999  # 딕셔너리 내부 리스트 수정\n",
    "\n",
    "print(f\"원본 리스트: {original_list}\")\n",
    "print(f\"깊은 복사본: {deep_copy}\")\n",
    "print(\"→ 완전히 독립적이므로 복사본은 변경되지 않음!\")"
   ]
  },
  {
   "cell_type": "markdown",
   "metadata": {},
   "source": [
    "### 수동 깊은 복사 구현 예제"
   ]
  },
  {
   "cell_type": "code",
   "execution_count": null,
   "metadata": {},
   "outputs": [],
   "source": [
    "def manual_deep_copy(obj):\n",
    "    \"\"\"\n",
    "    수동으로 깊은 복사를 구현하는 함수\n",
    "    재귀적으로 모든 중첩된 객체를 복사\n",
    "    \"\"\"\n",
    "    if isinstance(obj, list):\n",
    "        # 리스트의 경우: 새 리스트 생성 후 각 요소를 재귀적으로 복사\n",
    "        new_list = []\n",
    "        for item in obj:\n",
    "            new_list.append(manual_deep_copy(item))\n",
    "        return new_list\n",
    "    \n",
    "    elif isinstance(obj, dict):\n",
    "        # 딕셔너리의 경우: 새 딕셔너리 생성 후 각 키-값 쌍을 재귀적으로 복사\n",
    "        new_dict = {}\n",
    "        for key, value in obj.items():\n",
    "            new_dict[key] = manual_deep_copy(value)\n",
    "        return new_dict\n",
    "    \n",
    "    else:\n",
    "        # 기본 자료형(int, str, bool 등)의 경우: 그대로 반환\n",
    "        return obj"
   ]
  },
  {
   "cell_type": "code",
   "execution_count": null,
   "metadata": {},
   "outputs": [],
   "source": [
    "# 수동 깊은 복사 테스트\n",
    "original = [1, [2, 3], {'a': [4, 5]}]\n",
    "manual_copy = manual_deep_copy(original)\n",
    "\n",
    "print(\"=== 수동 깊은 복사 테스트 ===\")\n",
    "print(f\"원본: {original}\")\n",
    "print(f\"수동 복사본: {manual_copy}\")\n",
    "\n",
    "# 원본 수정\n",
    "original[1][0] = 'X'\n",
    "original[2]['a'][0] = 999\n",
    "\n",
    "print(f\"\\n=== 원본 수정 후 ===\")\n",
    "print(f\"원본: {original}\")\n",
    "print(f\"수동 복사본: {manual_copy}\")\n",
    "print(\"→ 수동 구현도 완전히 독립적!\")"
   ]
  },
  {
   "cell_type": "markdown",
   "metadata": {},
   "source": [
    "## 3. 실용적인 비교 예제"
   ]
  },
  {
   "cell_type": "code",
   "execution_count": null,
   "metadata": {},
   "outputs": [],
   "source": [
    "import copy\n",
    "\n",
    "class Person:\n",
    "    def __init__(self, name, hobbies):\n",
    "        self.name = name\n",
    "        self.hobbies = hobbies  # 리스트 (가변 객체)\n",
    "    \n",
    "    def __repr__(self):\n",
    "        return f\"Person(name='{self.name}', hobbies={self.hobbies})\"\n",
    "\n",
    "# 원본 객체 생성\n",
    "original_person = Person(\"Alice\", [\"reading\", \"swimming\"])\n",
    "print(\"=== 클래스 객체 복사 비교 ===\")\n",
    "print(f\"원본: {original_person}\")"
   ]
  },
  {
   "cell_type": "code",
   "execution_count": null,
   "metadata": {},
   "outputs": [],
   "source": [
    "# 참조 복사 (이전 대화에서 다룬 내용)\n",
    "reference_copy = original_person\n",
    "print(f\"참조 복사: {reference_copy}\")\n",
    "\n",
    "# 얕은 복사\n",
    "shallow_person = copy.copy(original_person)\n",
    "print(f\"얕은 복사: {shallow_person}\")\n",
    "\n",
    "# 깊은 복사\n",
    "deep_person = copy.deepcopy(original_person)\n",
    "print(f\"깊은 복사: {deep_person}\")"
   ]
  },
  {
   "cell_type": "code",
   "execution_count": null,
   "metadata": {},
   "outputs": [],
   "source": [
    "# 원본 객체의 리스트 수정\n",
    "print(f\"=== 원본 hobbies 리스트에 'cooking' 추가 ===\")\n",
    "original_person.hobbies.append(\"cooking\")\n",
    "\n",
    "print(f\"원본: {original_person}\")\n",
    "print(f\"참조 복사: {reference_copy}\")\n",
    "print(f\"얕은 복사: {shallow_person}\")\n",
    "print(f\"깊은 복사: {deep_person}\")\n",
    "\n",
    "print(f\"\\n=== 결과 분석 ===\")\n",
    "print(\"- 참조 복사: 같은 객체를 가리키므로 변경사항 공유\")\n",
    "print(\"- 얕은 복사: hobbies 리스트는 같은 참조를 공유하므로 변경사항 공유\")\n",
    "print(\"- 깊은 복사: hobbies 리스트까지 별도 복사되어 독립적\")"
   ]
  },
  {
   "cell_type": "code",
   "execution_count": null,
   "metadata": {},
   "outputs": [],
   "source": [
    "# ID 확인\n",
    "print(f\"=== 메모리 주소 확인 ===\")\n",
    "print(f\"원본 객체 ID: {id(original_person)}\")\n",
    "print(f\"참조 복사 ID: {id(reference_copy)}\")\n",
    "print(f\"얕은 복사 ID: {id(shallow_person)}\")\n",
    "print(f\"깊은 복사 ID: {id(deep_person)}\")\n",
    "\n",
    "print(f\"\\n원본 hobbies ID: {id(original_person.hobbies)}\")\n",
    "print(f\"참조 복사 hobbies ID: {id(reference_copy.hobbies)}\")\n",
    "print(f\"얕은 복사 hobbies ID: {id(shallow_person.hobbies)}\")\n",
    "print(f\"깊은 복사 hobbies ID: {id(deep_person.hobbies)}\")"
   ]
  },
  {
   "cell_type": "markdown",
   "metadata": {},
   "source": [
    "## 4. 언제 어떤 복사를 사용할까?\n",
    "\n",
    "### 얕은 복사 사용 시기\n",
    "- **성능이 중요**하고 중첩된 객체를 수정하지 않을 때\n",
    "- **메모리 사용량을 줄이고 싶을 때**\n",
    "- 단순한 구조의 객체를 복사할 때\n",
    "\n",
    "### 깊은 복사 사용 시기\n",
    "- **완전히 독립적인 객체**가 필요할 때\n",
    "- 중첩된 구조가 복잡하고 **원본과 분리**해야 할 때\n",
    "- 원본 객체의 변경이 복사본에 영향을 주면 안 될 때"
   ]
  },
  {
   "cell_type": "markdown",
   "metadata": {},
   "source": [
    "### 성능 고려사항"
   ]
  },
  {
   "cell_type": "code",
   "execution_count": null,
   "metadata": {},
   "outputs": [],
   "source": [
    "import copy\n",
    "import time\n",
    "\n",
    "# 성능 비교 예제\n",
    "def performance_test():\n",
    "    # 큰 중첩 구조 생성\n",
    "    large_data = [[i for i in range(100)] for _ in range(100)]\n",
    "    \n",
    "    # 얕은 복사 시간 측정\n",
    "    start_time = time.time()\n",
    "    shallow = copy.copy(large_data)\n",
    "    shallow_time = time.time() - start_time\n",
    "    \n",
    "    # 깊은 복사 시간 측정\n",
    "    start_time = time.time()\n",
    "    deep = copy.deepcopy(large_data)\n",
    "    deep_time = time.time() - start_time\n",
    "    \n",
    "    print(\"=== 성능 비교 (100x100 리스트) ===\")\n",
    "    print(f\"얕은 복사 시간: {shallow_time:.6f}초\")\n",
    "    print(f\"깊은 복사 시간: {deep_time:.6f}초\")\n",
    "    print(f\"깊은 복사가 {deep_time/shallow_time:.1f}배 더 오래 걸림\")\n",
    "\n",
    "performance_test()"
   ]
  },
  {
   "cell_type": "markdown",
   "metadata": {},
   "source": [
    "## 요약\n",
    "\n",
    "| 구분 | 얕은 복사 | 깊은 복사 |\n",
    "|------|-----------|-----------|\n",
    "| **복사 범위** | 최상위 레벨만 | 모든 중첩 레벨 |\n",
    "| **중첩 객체** | 참조 공유 | 완전 독립 |\n",
    "| **메모리 사용** | 적음 | 많음 |\n",
    "| **성능** | 빠름 | 느림 |\n",
    "| **독립성** | 부분적 | 완전함 |\n",
    "\n",
    "깊은 복사는 얕은 복사보다 성능적으로 더 비용이 많이 들 수 있으므로, 상황에 맞게 적절한 방법을 선택하는 것이 중요합니다."
   ]
  }
 ],
 "metadata": {
  "kernelspec": {
   "display_name": "venv",
   "language": "python",
   "name": "python3"
  },
  "language_info": {
   "codemirror_mode": {
    "name": "ipython",
    "version": 3
   },
   "file_extension": ".py",
   "mimetype": "text/x-python",
   "name": "python",
   "nbconvert_exporter": "python",
   "pygments_lexer": "ipython3",
   "version": "3.13.5"
  }
 },
 "nbformat": 4,
 "nbformat_minor": 4
}
