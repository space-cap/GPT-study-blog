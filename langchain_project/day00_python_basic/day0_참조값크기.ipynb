{
 "cells": [
  {
   "cell_type": "markdown",
   "metadata": {},
   "source": [
    "# Python에서 변수의 메모리 구조와 참조값 크기\n",
    "\n",
    "Python에서 변수의 메모리 사용량을 정확히 이해해보겠습니다."
   ]
  },
  {
   "cell_type": "markdown",
   "metadata": {},
   "source": [
    "## 1. 변수 `a`의 실제 크기"
   ]
  },
  {
   "cell_type": "code",
   "execution_count": 4,
   "metadata": {},
   "outputs": [
    {
     "name": "stdout",
     "output_type": "stream",
     "text": [
      "변수 a가 참조하는 객체의 크기: 88 bytes\n",
      "정수 1의 크기: 28 bytes\n",
      "정수 2의 크기: 28 bytes\n",
      "정수 3의 크기: 28 bytes\n"
     ]
    }
   ],
   "source": [
    "import sys\n",
    "\n",
    "a = [1, 2, 3]\n",
    "print(f\"변수 a가 참조하는 객체의 크기: {sys.getsizeof(a)} bytes\")\n",
    "print(f\"정수 1의 크기: {sys.getsizeof(1)} bytes\")\n",
    "print(f\"정수 2의 크기: {sys.getsizeof(2)} bytes\")\n",
    "print(f\"정수 3의 크기: {sys.getsizeof(3)} bytes\")"
   ]
  },
  {
   "cell_type": "markdown",
   "metadata": {},
   "source": [
    "## 2. 참조값(포인터)의 크기\n",
    "\n",
    "Python에서 **변수 자체**는 실제로 참조값(포인터)을 저장하지만, 그 크기는 시스템에 따라 다릅니다:\n",
    "\n",
    "- **32비트 시스템**: 포인터 크기는 4바이트 (32비트)\n",
    "- **64비트 시스템**: 포인터 크기는 8바이트 (64비트)"
   ]
  },
  {
   "cell_type": "code",
   "execution_count": 5,
   "metadata": {},
   "outputs": [
    {
     "name": "stdout",
     "output_type": "stream",
     "text": [
      "현재 시스템의 포인터 크기: 28 bytes\n",
      "플랫폼 정보: True\n"
     ]
    }
   ],
   "source": [
    "import sys\n",
    "\n",
    "# 현재 시스템의 포인터 크기 확인\n",
    "print(f\"현재 시스템의 포인터 크기: {sys.getsizeof(0)} bytes\")\n",
    "print(f\"플랫폼 정보: {sys.maxsize > 2**32}\")  # True면 64비트"
   ]
  },
  {
   "cell_type": "markdown",
   "metadata": {},
   "source": [
    "## 3. 실제 메모리 구조\n",
    "\n",
    "``` python\n",
    "a = [1, 2, 3]\n",
    "```\n",
    "\n",
    "이 코드에서 메모리 구조는 다음과 같습니다:\n",
    "\n",
    "``` text\n",
    "스택 영역:\n",
    "┌─────────────────┐\n",
    "│ 변수 a          │ ← 8바이트 (64비트 시스템에서 참조값)\n",
    "│ 0x7f8b8c0d1e40  │\n",
    "└─────────────────┘\n",
    "        │\n",
    "        ▼\n",
    "힙 영역:\n",
    "┌─────────────────┐\n",
    "│ 리스트 객체     │ ← 실제 리스트 객체 (훨씬 큰 크기)\n",
    "│        │\n",
    "│ - 타입 정보     │\n",
    "│ - 크기 정보     │\n",
    "│ - 요소들의 참조 │\n",
    "└─────────────────┘\n",
    "```"
   ]
  },
  {
   "cell_type": "markdown",
   "metadata": {},
   "source": [
    "## 4. 정확한 크기 측정"
   ]
  },
  {
   "cell_type": "code",
   "execution_count": 6,
   "metadata": {},
   "outputs": [
    {
     "name": "stdout",
     "output_type": "stream",
     "text": [
      "리스트 객체의 크기: 88 bytes\n",
      "포인터 크기: 8 bytes\n",
      "현재 시스템: 64비트\n"
     ]
    }
   ],
   "source": [
    "import sys\n",
    "import ctypes\n",
    "\n",
    "a = [1, 2, 3]\n",
    "\n",
    "# 리스트 객체 자체의 크기\n",
    "print(f\"리스트 객체의 크기: {sys.getsizeof(a)} bytes\")\n",
    "\n",
    "# 참조값(포인터)의 크기는 시스템 의존적\n",
    "pointer_size = ctypes.sizeof(ctypes.c_void_p)\n",
    "print(f\"포인터 크기: {pointer_size} bytes\")\n",
    "\n",
    "# 64비트 시스템에서는 8바이트, 32비트에서는 4바이트\n",
    "print(f\"현재 시스템: {'64비트' if pointer_size == 8 else '32비트'}\")"
   ]
  },
  {
   "cell_type": "markdown",
   "metadata": {},
   "source": [
    "## 5. 결론\n",
    "\n",
    "**변수 `a` 자체**는 참조값을 저장하므로:\n",
    "- **32비트 시스템**: 4바이트\n",
    "- **64비트 시스템**: 8바이트\n",
    "\n",
    "하지만 `a`가 **참조하는 리스트 객체**는 훨씬 큽니다:\n",
    "- 리스트 객체의 메타데이터\n",
    "- 각 요소에 대한 참조값들\n",
    "- 동적 배열을 위한 추가 공간"
   ]
  },
  {
   "cell_type": "markdown",
   "metadata": {},
   "source": [
    "## 6. 실제 확인 코드"
   ]
  },
  {
   "cell_type": "code",
   "execution_count": 7,
   "metadata": {},
   "outputs": [
    {
     "name": "stdout",
     "output_type": "stream",
     "text": [
      "리스트 [1,2,3]: 88 bytes\n",
      "빈 리스트: 56 bytes\n",
      "정수 1: 28 bytes\n",
      "문자열 'hello': 46 bytes\n",
      "빈 딕셔너리: 64 bytes\n",
      "\n",
      "포인터 크기: 8 bytes\n"
     ]
    }
   ],
   "source": [
    "import sys\n",
    "\n",
    "# 다양한 객체들의 크기 비교\n",
    "objects = [\n",
    "    ([1, 2, 3], \"리스트 [1,2,3]\"),\n",
    "    ([], \"빈 리스트\"),\n",
    "    (1, \"정수 1\"),\n",
    "    (\"hello\", \"문자열 'hello'\"),\n",
    "    ({}, \"빈 딕셔너리\")\n",
    "]\n",
    "\n",
    "for obj, desc in objects:\n",
    "    print(f\"{desc}: {sys.getsizeof(obj)} bytes\")\n",
    "\n",
    "# 포인터 크기 확인\n",
    "import ctypes\n",
    "print(f\"\\n포인터 크기: {ctypes.sizeof(ctypes.c_void_p)} bytes\")"
   ]
  },
  {
   "cell_type": "markdown",
   "metadata": {},
   "source": [
    "## 최종 답변\n",
    "\n",
    "따라서 질문에 대한 답은: **현대의 64비트 시스템에서는 변수 `a`가 저장하는 참조값은 8바이트**이고, **32비트 시스템에서만 4바이트**입니다.\n",
    "\n",
    "### 추가 실험: 메모리 주소 확인"
   ]
  },
  {
   "cell_type": "code",
   "execution_count": 8,
   "metadata": {},
   "outputs": [
    {
     "name": "stdout",
     "output_type": "stream",
     "text": [
      "a의 메모리 주소: 2178403050560\n",
      "b의 메모리 주소: 2178403049472\n",
      "c의 메모리 주소: 2178403050560\n",
      "\n",
      "a와 c는 같은 객체를 참조: True\n",
      "a와 b는 다른 객체를 참조: False\n",
      "\n",
      "a의 주소 (16진수): 0x1fb32f0a440\n",
      "b의 주소 (16진수): 0x1fb32f0a000\n"
     ]
    }
   ],
   "source": [
    "# 메모리 주소 확인\n",
    "a = [1, 2, 3]\n",
    "b = [1, 2, 3]\n",
    "c = a\n",
    "\n",
    "print(f\"a의 메모리 주소: {id(a)}\")\n",
    "print(f\"b의 메모리 주소: {id(b)}\")\n",
    "print(f\"c의 메모리 주소: {id(c)}\")\n",
    "print(f\"\\na와 c는 같은 객체를 참조: {a is c}\")\n",
    "print(f\"a와 b는 다른 객체를 참조: {a is b}\")\n",
    "\n",
    "# 16진수로 주소 표시\n",
    "print(f\"\\na의 주소 (16진수): 0x{id(a):x}\")\n",
    "print(f\"b의 주소 (16진수): 0x{id(b):x}\")"
   ]
  },
  {
   "cell_type": "code",
   "execution_count": null,
   "metadata": {},
   "outputs": [],
   "source": []
  }
 ],
 "metadata": {
  "kernelspec": {
   "display_name": "venv",
   "language": "python",
   "name": "python3"
  },
  "language_info": {
   "codemirror_mode": {
    "name": "ipython",
    "version": 3
   },
   "file_extension": ".py",
   "mimetype": "text/x-python",
   "name": "python",
   "nbconvert_exporter": "python",
   "pygments_lexer": "ipython3",
   "version": "3.13.5"
  }
 },
 "nbformat": 4,
 "nbformat_minor": 4
}
