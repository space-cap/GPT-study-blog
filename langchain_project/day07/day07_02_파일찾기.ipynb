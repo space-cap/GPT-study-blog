{
 "cells": [
  {
   "cell_type": "code",
   "execution_count": 1,
   "id": "fa22b602",
   "metadata": {},
   "outputs": [
    {
     "data": {
      "text/plain": [
       "2"
      ]
     },
     "execution_count": 1,
     "metadata": {},
     "output_type": "execute_result"
    }
   ],
   "source": [
    "1+1"
   ]
  },
  {
   "cell_type": "code",
   "execution_count": 2,
   "id": "116e4a97",
   "metadata": {},
   "outputs": [
    {
     "name": "stdout",
     "output_type": "stream",
     "text": [
      "파일이 존재합니다.\n"
     ]
    }
   ],
   "source": [
    "import os\n",
    "\n",
    "file_path = \"SM-F741N_UG_15_Kor_Rev.1.0_250410.pdf\"\n",
    "if os.path.exists(file_path):\n",
    "    print(\"파일이 존재합니다.\")\n",
    "else:\n",
    "    print(\"파일이 존재하지 않습니다.\")"
   ]
  },
  {
   "cell_type": "code",
   "execution_count": 3,
   "id": "c63039c8",
   "metadata": {},
   "outputs": [
    {
     "name": "stdout",
     "output_type": "stream",
     "text": [
      "현재 작업 디렉토리: c:\\workdir\\github-space-cap\\GPT-study-blog\\langchain_project\\day07\n",
      "디렉토리 내 파일 목록: ['day07_01_pdf메뉴얼.py', 'day07_02_파일찾기.ipynb', 'SM-F741N_UG_15_Kor_Rev.1.0_250410.pdf']\n"
     ]
    }
   ],
   "source": [
    "import os\n",
    "\n",
    "print(\"현재 작업 디렉토리:\", os.getcwd())\n",
    "print(\"디렉토리 내 파일 목록:\", os.listdir(\".\"))"
   ]
  },
  {
   "cell_type": "code",
   "execution_count": null,
   "id": "d21a1f9e",
   "metadata": {},
   "outputs": [],
   "source": []
  }
 ],
 "metadata": {
  "kernelspec": {
   "display_name": "venv (3.13.5)",
   "language": "python",
   "name": "python3"
  },
  "language_info": {
   "codemirror_mode": {
    "name": "ipython",
    "version": 3
   },
   "file_extension": ".py",
   "mimetype": "text/x-python",
   "name": "python",
   "nbconvert_exporter": "python",
   "pygments_lexer": "ipython3",
   "version": "3.13.5"
  }
 },
 "nbformat": 4,
 "nbformat_minor": 5
}
