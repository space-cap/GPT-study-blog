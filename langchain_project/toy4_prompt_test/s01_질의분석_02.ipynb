{
 "cells": [
  {
   "cell_type": "markdown",
   "id": "e70672ee",
   "metadata": {},
   "source": [
    "강사님 샘플 자료를 바탕으로 작성.  \n",
    "질의분석  \n",
    "\n"
   ]
  },
  {
   "cell_type": "code",
   "execution_count": 2,
   "id": "125f728d",
   "metadata": {},
   "outputs": [
    {
     "name": "stdout",
     "output_type": "stream",
     "text": [
      "✅ 라이브러리 로드 완료\n"
     ]
    }
   ],
   "source": [
    "# 1. 필요한 라이브러리 설치 (처음 한 번만 실행)\n",
    "# 아래 주석을 해제하여 라이브러리를 설치하세요\n",
    "# !pip install langchain openai python-dotenv\n",
    "\n",
    "# 2. 라이브러리 import\n",
    "import os\n",
    "from langchain.chat_models import ChatOpenAI\n",
    "from langchain.schema import HumanMessage, SystemMessage\n",
    "from dotenv import load_dotenv\n",
    "import json\n",
    "\n",
    "print(\"✅ 라이브러리 로드 완료\")"
   ]
  },
  {
   "cell_type": "code",
   "execution_count": 3,
   "id": "765e4b47",
   "metadata": {},
   "outputs": [
    {
     "name": "stdout",
     "output_type": "stream",
     "text": [
      "✅ OpenAI API 키 설정 완료\n"
     ]
    }
   ],
   "source": [
    "# OpenAI API 키 설정\n",
    "# 방법 1: .env 파일 사용 (권장)\n",
    "load_dotenv()\n",
    "openai_api_key = os.getenv(\"OPENAI_API_KEY\")\n",
    "\n",
    "# 방법 2: 직접 입력 (.env 파일이 없거나 키가 없는 경우)\n",
    "if not openai_api_key:\n",
    "    openai_api_key = input(\"OpenAI API Key를 입력하세요: \")\n",
    "\n",
    "# API 키 설정 확인\n",
    "if openai_api_key:\n",
    "    print(\"✅ OpenAI API 키 설정 완료\")\n",
    "else:\n",
    "    print(\"❌ OpenAI API 키가 설정되지 않았습니다.\")"
   ]
  },
  {
   "cell_type": "code",
   "execution_count": 4,
   "id": "8d385b9b",
   "metadata": {},
   "outputs": [
    {
     "name": "stderr",
     "output_type": "stream",
     "text": [
      "C:\\Users\\Public\\Documents\\ESTsoft\\CreatorTemp\\ipykernel_43012\\1185191701.py:3: LangChainDeprecationWarning: The class `ChatOpenAI` was deprecated in LangChain 0.0.10 and will be removed in 1.0. An updated version of the class exists in the :class:`~langchain-openai package and should be used instead. To use it run `pip install -U :class:`~langchain-openai` and import as `from :class:`~langchain_openai import ChatOpenAI``.\n",
      "  chat_model = ChatOpenAI(\n"
     ]
    },
    {
     "name": "stdout",
     "output_type": "stream",
     "text": [
      "✅ ChatGPT 모델 초기화 완료\n",
      "📋 사용 모델: gpt-4o-mini\n",
      "🌡️ Temperature: 0 (일관된 결과)\n"
     ]
    }
   ],
   "source": [
    "# ChatGPT 모델 초기화\n",
    "try:\n",
    "    chat_model = ChatOpenAI(\n",
    "        model=\"gpt-4o-mini\",  # 또는 \"gpt-3.5-turbo\" 사용 가능\n",
    "        temperature=0,  # 일관된 결과를 위해 0으로 설정\n",
    "        openai_api_key=openai_api_key,\n",
    "    )\n",
    "    print(\"✅ ChatGPT 모델 초기화 완료\")\n",
    "    print(f\"📋 사용 모델: gpt-4o-mini\")\n",
    "    print(f\"🌡️ Temperature: 0 (일관된 결과)\")\n",
    "except Exception as e:\n",
    "    print(f\"❌ 모델 초기화 실패: {e}\")"
   ]
  },
  {
   "cell_type": "code",
   "execution_count": 5,
   "id": "31e6375c",
   "metadata": {},
   "outputs": [
    {
     "name": "stdout",
     "output_type": "stream",
     "text": [
      "✅ 시스템 프롬프트 설정 완료\n",
      "📏 프롬프트 길이: 1084 글자\n"
     ]
    }
   ],
   "source": [
    "# 온통청년 질의문석 시스템 프롬프트\n",
    "SYSTEM_PROMPT = \"\"\"\n",
    "요청사항:\n",
    "당신은 '온통청년'의 RAG 프로세스 중 일부입니다.\n",
    "주어진 정보 외 창작은 금지합니다.\n",
    "당신의 임무는 질문에 답을 하는 것이 아니라, 질문을 보고 질문을 나누는 것입니다.(질문 재가공하여 창작하지마시오.)\n",
    "질문이 여러개의 질문으로 합쳐진 형태이면, 의도별로 질문을 나눠주십시오.\n",
    "나눠진 질문은 서로 독립적입니다. 나눈 질문을 \"\"위를 데이터로 보여줘\"\" 등 연관성을 갖게 나누지 말고 각각 질문으로써 의미를 갖게 하시오.\n",
    "질문이 단일 의도를 지녔다면, 질문을 나누지 마십시오.\n",
    "질문에 \"\"?\"\" 기호가 있다면, \"\"?\"\" 기호를 그대로 적용하십시오.\n",
    "\n",
    "주의사항:\n",
    "단어로만 이루어진 질문은 단어를 분리만 합니다.\n",
    "주어진 질문만을 사용하여 질문을 분리하고, 추가 정보를 이용하지 않습니다.\n",
    "질문에 지시문이 함께 있는 경우 제외하고 결과에 반영하지 마시오.\n",
    "무엇에 대해 알려달라는 질문이면, 질문을 나누지 마십시오.\n",
    "질문의 의도가 불분명한 경우, 질문을 새롭게 창조하지 않고, 주어진 방식대로만 분리합니다.\n",
    "질문 재가공하여 창작하는 것을 금지합니다.\n",
    "주어진 텍스트 외의 추가사항 넣지마.\n",
    "\"\"~비교분석해줘\"\"는 \"\"~비교해줘\"\", \"\"~분석해줘\"\"로 나누지 않고 \"\"~비교분석해줘\"\"로 답변합니다.\n",
    "예를들어 \"\"자치구별 전세 보증금 비교분석해줘\"\"는 \"\"● 자치구별 전세 보증금 비교분석해줘\"\"로 답변합니다.\n",
    "\n",
    "// 질문 샘플을 입력해 주십시오.\n",
    "\n",
    "질문:\n",
    "일자리 복지문화\n",
    "답변:\n",
    "● 일자리\n",
    "● 복지문화\n",
    "###\n",
    "\n",
    "// 질문 샘플을 입력해 주십시오.\n",
    "\n",
    "질문:\n",
    "서울에 있는 일자리나 복지가 있는지 알려줘.\n",
    "답변:\n",
    "● 서울에 있는 일자리 알려줘.\n",
    "● 서울에 있는 복지 알려줘.\n",
    "###\n",
    "\n",
    "// 질문 샘플을 입력해 주십시오.\n",
    "\n",
    "질문:\n",
    "2025년에 부산에서 할 수 있는 일자리의 연령하고 전공이 궁금해.\n",
    "답변:\n",
    "● 2025년에 부산에서 할 수 있는 일자리의 연령이 궁금해.\n",
    "● 2023년에 부산에서 할 수 있는 일자리의 전공이 궁금해.\n",
    "###\n",
    "\n",
    "// 질문 샘플을 입력해 주십시오.\n",
    "\n",
    "질문:\n",
    "대구에서 할 수 있는 일자리의 개수는 총 몇 개야?\n",
    "답변:\n",
    "● 대구에서 할 수 있는 일자리의 개수는 총 몇 개야?\n",
    "###\n",
    "\n",
    "이제 질문을 입력해주세요.\n",
    "\"\"\"\n",
    "\n",
    "print(\"✅ 시스템 프롬프트 설정 완료\")\n",
    "print(f\"📏 프롬프트 길이: {len(SYSTEM_PROMPT)} 글자\")"
   ]
  },
  {
   "cell_type": "code",
   "execution_count": 6,
   "id": "199928b3",
   "metadata": {},
   "outputs": [
    {
     "name": "stdout",
     "output_type": "stream",
     "text": [
      "✅ 함수 정의 완료\n"
     ]
    }
   ],
   "source": [
    "# 질의문석 메인 함수\n",
    "def analyze_query(user_query):\n",
    "    \"\"\"\n",
    "    사용자 질문을 분석하여 분리된 질문들을 반환하는 함수\n",
    "\n",
    "    Args:\n",
    "        user_query (str): 사용자 입력 질문\n",
    "\n",
    "    Returns:\n",
    "        str: 분리된 질문들 (● 형태로 구성)\n",
    "    \"\"\"\n",
    "    try:\n",
    "        # 시스템 프롬프트와 사용자 질문으로 메시지 구성\n",
    "        messages = [\n",
    "            SystemMessage(content=SYSTEM_PROMPT),\n",
    "            HumanMessage(content=user_query),\n",
    "        ]\n",
    "\n",
    "        # ChatGPT 모델 호출\n",
    "        response = chat_model(messages)\n",
    "        return response.content\n",
    "\n",
    "    except Exception as e:\n",
    "        return f\"❌ 오류 발생: {str(e)}\"\n",
    "\n",
    "\n",
    "# 단일 질문 테스트 함수\n",
    "def test_single_query(query, show_separator=True):\n",
    "    \"\"\"\n",
    "    단일 질문 테스트 및 결과 출력 함수\n",
    "\n",
    "    Args:\n",
    "        query (str): 테스트할 질문\n",
    "        show_separator (bool): 구분선 표시 여부\n",
    "    \"\"\"\n",
    "    print(f\"📝 입력: {query}\")\n",
    "    result = analyze_query(query)\n",
    "    print(f\"📤 출력:\")\n",
    "    print(result)\n",
    "\n",
    "    if show_separator:\n",
    "        print(\"-\" * 50)\n",
    "\n",
    "\n",
    "print(\"✅ 함수 정의 완료\")"
   ]
  },
  {
   "cell_type": "code",
   "execution_count": 7,
   "id": "785f877c",
   "metadata": {},
   "outputs": [
    {
     "name": "stdout",
     "output_type": "stream",
     "text": [
      "✅ 테스트 데이터 준비 완료\n",
      "📊 총 테스트 질문 개수: 10개\n",
      "\n",
      "📋 테스트 질문 목록:\n",
      " 1. 일자리 복지 문화\n",
      " 2. 서울에 있는 일자리나 복지가 있는지 알려줘\n",
      " 3. 2025년에 부산에서 할 수 있는 일자리의 연령하고 전공이 궁금해\n",
      " 4. 대구에서 할 수 있는 일자리의 개수는 총 몇 개야?\n",
      " 5. 서울과 부산의 일자리 정책 비교분석해줘\n",
      " 6. 일자리 🔍 복지문화???\n",
      " 7. 서울에서... 일자리?\n",
      " 8. 청년 창업 지원금하고 취업 준비 프로그램 찾아줘\n",
      " 9. 주거 복지 정책에 대해 알려줘\n",
      "10. 인천 지역 문화 예술 활동 지원 사업과 교육 프로그램 정보를 알고 싶어\n"
     ]
    }
   ],
   "source": [
    "# 테스트용 예상 질문 10개 정의\n",
    "test_queries = [\n",
    "    # 기본 분리 테스트\n",
    "    \"일자리 복지 문화\",\n",
    "    # 복합 질문 (나/또는)\n",
    "    \"서울에 있는 일자리나 복지가 있는지 알려줘\",\n",
    "    # 다중 조건 분리\n",
    "    \"2025년에 부산에서 할 수 있는 일자리의 연령하고 전공이 궁금해\",\n",
    "    # 단일 질문 (분리 안함)\n",
    "    \"대구에서 할 수 있는 일자리의 개수는 총 몇 개야?\",\n",
    "    # 비교분석 (분리 안함)\n",
    "    \"서울과 부산의 일자리 정책 비교분석해줘\",\n",
    "    # 엣지 케이스 (특수문자)\n",
    "    \"일자리 🔍 복지문화???\",\n",
    "    # 불완전 문장\n",
    "    \"서울에서... 일자리?\",\n",
    "    # 복합 명령문\n",
    "    \"청년 창업 지원금하고 취업 준비 프로그램 찾아줘\",\n",
    "    # 단일 의도\n",
    "    \"주거 복지 정책에 대해 알려줘\",\n",
    "    # 긴 복합 질문\n",
    "    \"인천 지역 문화 예술 활동 지원 사업과 교육 프로그램 정보를 알고 싶어\",\n",
    "]\n",
    "\n",
    "# 테스트 데이터 정보 출력\n",
    "print(\"✅ 테스트 데이터 준비 완료\")\n",
    "print(f\"📊 총 테스트 질문 개수: {len(test_queries)}개\")\n",
    "print(\"\\n📋 테스트 질문 목록:\")\n",
    "for i, query in enumerate(test_queries, 1):\n",
    "    print(f\"{i:2d}. {query}\")"
   ]
  },
  {
   "cell_type": "code",
   "execution_count": 8,
   "id": "60503911",
   "metadata": {},
   "outputs": [
    {
     "name": "stdout",
     "output_type": "stream",
     "text": [
      "=== 개별 테스트 (1-3번) ===\n",
      "\n",
      "🔍 테스트 1:\n",
      "📝 입력: 일자리 복지 문화\n"
     ]
    },
    {
     "name": "stderr",
     "output_type": "stream",
     "text": [
      "C:\\Users\\Public\\Documents\\ESTsoft\\CreatorTemp\\ipykernel_43012\\1196269613.py:20: LangChainDeprecationWarning: The method `BaseChatModel.__call__` was deprecated in langchain-core 0.1.7 and will be removed in 1.0. Use :meth:`~invoke` instead.\n",
      "  response = chat_model(messages)\n"
     ]
    },
    {
     "name": "stdout",
     "output_type": "stream",
     "text": [
      "📤 출력:\n",
      "● 일자리  \n",
      "● 복지  \n",
      "● 문화  \n",
      "###\n",
      "--------------------------------------------------\n",
      "🔍 테스트 2:\n",
      "📝 입력: 서울에 있는 일자리나 복지가 있는지 알려줘\n",
      "📤 출력:\n",
      "● 서울에 있는 일자리 알려줘.  \n",
      "● 서울에 있는 복지 알려줘.  \n",
      "###\n",
      "--------------------------------------------------\n",
      "🔍 테스트 3:\n",
      "📝 입력: 2025년에 부산에서 할 수 있는 일자리의 연령하고 전공이 궁금해\n",
      "📤 출력:\n",
      "● 2025년에 부산에서 할 수 있는 일자리의 연령이 궁금해.  \n",
      "● 2025년에 부산에서 할 수 있는 일자리의 전공이 궁금해.  \n",
      "###\n",
      "--------------------------------------------------\n"
     ]
    }
   ],
   "source": [
    "# 개별 테스트 실행 - 1~3번 질문\n",
    "print(\"=== 개별 테스트 (1-3번) ===\\n\")\n",
    "\n",
    "for i in range(3):\n",
    "    print(f\"🔍 테스트 {i+1}:\")\n",
    "    test_single_query(test_queries[i])"
   ]
  },
  {
   "cell_type": "code",
   "execution_count": 9,
   "id": "f4f71680",
   "metadata": {},
   "outputs": [
    {
     "name": "stdout",
     "output_type": "stream",
     "text": [
      "=== 개별 테스트 (4-6번) ===\n",
      "\n",
      "🔍 테스트 4:\n",
      "📝 입력: 대구에서 할 수 있는 일자리의 개수는 총 몇 개야?\n",
      "📤 출력:\n",
      "● 대구에서 할 수 있는 일자리의 개수는 총 몇 개야?\n",
      "--------------------------------------------------\n",
      "🔍 테스트 5:\n",
      "📝 입력: 서울과 부산의 일자리 정책 비교분석해줘\n",
      "📤 출력:\n",
      "● 서울과 부산의 일자리 정책 비교분석해줘.\n",
      "--------------------------------------------------\n",
      "🔍 테스트 6:\n",
      "📝 입력: 일자리 🔍 복지문화???\n",
      "📤 출력:\n",
      "● 일자리  \n",
      "● 복지문화  \n",
      "###\n",
      "--------------------------------------------------\n"
     ]
    }
   ],
   "source": [
    "# 개별 테스트 실행 - 4~6번 질문\n",
    "print(\"=== 개별 테스트 (4-6번) ===\\n\")\n",
    "\n",
    "for i in range(3, 6):\n",
    "    print(f\"🔍 테스트 {i+1}:\")\n",
    "    test_single_query(test_queries[i])"
   ]
  },
  {
   "cell_type": "code",
   "execution_count": 10,
   "id": "c6af38b2",
   "metadata": {},
   "outputs": [
    {
     "name": "stdout",
     "output_type": "stream",
     "text": [
      "=== 개별 테스트 (7-10번) ===\n",
      "\n",
      "🔍 테스트 7:\n",
      "📝 입력: 서울에서... 일자리?\n",
      "📤 출력:\n",
      "● 서울에서 일자리?  \n",
      "###\n",
      "--------------------------------------------------\n",
      "🔍 테스트 8:\n",
      "📝 입력: 청년 창업 지원금하고 취업 준비 프로그램 찾아줘\n",
      "📤 출력:\n",
      "● 청년 창업 지원금 찾아줘.  \n",
      "● 취업 준비 프로그램 찾아줘.  \n",
      "###\n",
      "--------------------------------------------------\n",
      "🔍 테스트 9:\n",
      "📝 입력: 주거 복지 정책에 대해 알려줘\n",
      "📤 출력:\n",
      "● 주거 복지 정책에 대해 알려줘.\n",
      "--------------------------------------------------\n",
      "🔍 테스트 10:\n",
      "📝 입력: 인천 지역 문화 예술 활동 지원 사업과 교육 프로그램 정보를 알고 싶어\n",
      "📤 출력:\n",
      "● 인천 지역 문화 예술 활동 지원 사업 정보 알고 싶어.  \n",
      "● 인천 지역 교육 프로그램 정보 알고 싶어.  \n",
      "###\n",
      "--------------------------------------------------\n"
     ]
    }
   ],
   "source": [
    "# 개별 테스트 실행 - 7~10번 질문\n",
    "print(\"=== 개별 테스트 (7-10번) ===\\n\")\n",
    "\n",
    "for i in range(6, 10):\n",
    "    print(f\"🔍 테스트 {i+1}:\")\n",
    "    test_single_query(test_queries[i])"
   ]
  },
  {
   "cell_type": "code",
   "execution_count": null,
   "id": "0b96e92a",
   "metadata": {},
   "outputs": [],
   "source": [
    "# 전체 배치 테스트 실행\n",
    "print(\"=== 전체 배치 테스트 ===\\n\")\n",
    "\n",
    "for i, query in enumerate(test_queries, 1):\n",
    "    print(f\"🔍 테스트 {i}:\")\n",
    "    test_single_query(query)"
   ]
  },
  {
   "cell_type": "code",
   "execution_count": 11,
   "id": "7f77223f",
   "metadata": {},
   "outputs": [
    {
     "name": "stdout",
     "output_type": "stream",
     "text": [
      "=== 테스트 결과 분석 ===\n",
      "\n",
      " 1. 일자리 복지 문화 - ✅ 성공\n",
      " 2. 서울에 있는 일자리나 복지가 있는지 알려줘 - ✅ 성공\n",
      " 3. 2025년에 부산에서 할 수 있는 일자리의 연령하고 전... - ✅ 성공\n",
      " 4. 대구에서 할 수 있는 일자리의 개수는 총 몇 개야? - ✅ 성공\n",
      " 5. 서울과 부산의 일자리 정책 비교분석해줘 - ✅ 성공\n",
      " 6. 일자리 🔍 복지문화??? - ✅ 성공\n",
      " 7. 서울에서... 일자리? - ✅ 성공\n",
      " 8. 청년 창업 지원금하고 취업 준비 프로그램 찾아줘 - ✅ 성공\n",
      " 9. 주거 복지 정책에 대해 알려줘 - ✅ 성공\n",
      "10. 인천 지역 문화 예술 활동 지원 사업과 교육 프로그램 ... - ✅ 성공\n",
      "\n",
      "📊 테스트 결과 통계:\n",
      "   총 테스트: 10개\n",
      "   성공: 10개\n",
      "   실패: 0개\n",
      "   성공률: 100.0%\n"
     ]
    }
   ],
   "source": [
    "# 테스트 결과 분석 함수\n",
    "def analyze_test_results():\n",
    "    \"\"\"\n",
    "    테스트 결과를 분석하여 성공률을 계산하는 함수\n",
    "    \"\"\"\n",
    "    print(\"=== 테스트 결과 분석 ===\\n\")\n",
    "\n",
    "    success_count = 0\n",
    "    total_count = len(test_queries)\n",
    "    results = []\n",
    "\n",
    "    for i, query in enumerate(test_queries, 1):\n",
    "        result = analyze_query(query)\n",
    "\n",
    "        # 기본적인 성공 기준 체크\n",
    "        # 1. ● 기호가 포함되어 있는지\n",
    "        # 2. 오류 메시지가 없는지\n",
    "        # 3. 빈 응답이 아닌지\n",
    "        if \"●\" in result and \"❌ 오류\" not in result and result.strip():\n",
    "            success_count += 1\n",
    "            status = \"✅ 성공\"\n",
    "        else:\n",
    "            status = \"❌ 실패\"\n",
    "\n",
    "        results.append({\"query\": query, \"result\": result, \"status\": status})\n",
    "\n",
    "        print(f\"{i:2d}. {query[:30]}{'...' if len(query) > 30 else ''} - {status}\")\n",
    "\n",
    "    # 전체 통계 출력\n",
    "    print(f\"\\n📊 테스트 결과 통계:\")\n",
    "    print(f\"   총 테스트: {total_count}개\")\n",
    "    print(f\"   성공: {success_count}개\")\n",
    "    print(f\"   실패: {total_count - success_count}개\")\n",
    "    print(f\"   성공률: {(success_count/total_count)*100:.1f}%\")\n",
    "\n",
    "    return results\n",
    "\n",
    "\n",
    "# 테스트 결과 분석 실행\n",
    "test_results = analyze_test_results()"
   ]
  },
  {
   "cell_type": "code",
   "execution_count": 12,
   "id": "0c3cba79",
   "metadata": {},
   "outputs": [
    {
     "name": "stdout",
     "output_type": "stream",
     "text": [
      "=== 사용자 정의 테스트 ===\n",
      "\n",
      "🔍 사용자 정의 테스트 1:\n",
      "📝 입력: 대학생 장학금과 청년 취업 지원 프로그램 정보 알려줘\n",
      "📤 출력:\n",
      "● 대학생 장학금 정보 알려줘.  \n",
      "● 청년 취업 지원 프로그램 정보 알려줘.  \n",
      "###\n",
      "--------------------------------------------------\n",
      "🔍 사용자 정의 테스트 2:\n",
      "📝 입력: 주거 지원 정책\n",
      "📤 출력:\n",
      "● 주거 지원  \n",
      "● 정책  \n",
      "###\n",
      "--------------------------------------------------\n",
      "🔍 사용자 정의 테스트 3:\n",
      "📝 입력: 서울 청년 문화 활동 지원하고 부산 창업 프로그램 찾아줘\n",
      "📤 출력:\n",
      "● 서울 청년 문화 활동 지원 찾아줘.  \n",
      "● 부산 창업 프로그램 찾아줘.  \n",
      "###\n",
      "--------------------------------------------------\n"
     ]
    }
   ],
   "source": [
    "# 사용자 정의 질문 테스트\n",
    "print(\"=== 사용자 정의 테스트 ===\\n\")\n",
    "\n",
    "# 여기에 원하는 질문을 입력하여 테스트해보세요\n",
    "custom_queries = [\n",
    "    \"대학생 장학금과 청년 취업 지원 프로그램 정보 알려줘\",\n",
    "    \"주거 지원 정책\",\n",
    "    \"서울 청년 문화 활동 지원하고 부산 창업 프로그램 찾아줘\",\n",
    "]\n",
    "\n",
    "for i, query in enumerate(custom_queries, 1):\n",
    "    print(f\"🔍 사용자 정의 테스트 {i}:\")\n",
    "    test_single_query(query)"
   ]
  },
  {
   "cell_type": "code",
   "execution_count": null,
   "id": "9ef633fc",
   "metadata": {},
   "outputs": [],
   "source": [
    "# 실시간 테스트 인터페이스 (선택사항)\n",
    "def interactive_test():\n",
    "    \"\"\"\n",
    "    실시간으로 질문을 입력하여 테스트할 수 있는 인터페이스\n",
    "    \"\"\"\n",
    "    print(\"=== 실시간 테스트 인터페이스 ===\")\n",
    "    print(\"💡 질문을 입력하세요 (종료하려면 'quit' 또는 'exit' 입력)\")\n",
    "    print(\"💡 Jupyter에서는 Ctrl+C로 중단 가능합니다.\")\n",
    "\n",
    "    test_count = 0\n",
    "    while True:\n",
    "        try:\n",
    "            user_input = input(f\"\\n[{test_count + 1}] 질문: \")\n",
    "\n",
    "            if user_input.lower() in [\"quit\", \"exit\", \"종료\"]:\n",
    "                print(\"👋 테스트를 종료합니다.\")\n",
    "                break\n",
    "\n",
    "            if user_input.strip():\n",
    "                test_count += 1\n",
    "                print(f\"📤 결과:\")\n",
    "                result = analyze_query(user_input)\n",
    "                print(result)\n",
    "                print(\"-\" * 40)\n",
    "            else:\n",
    "                print(\"⚠️ 빈 질문입니다. 다시 입력해주세요.\")\n",
    "\n",
    "        except KeyboardInterrupt:\n",
    "            print(\"\\n👋 테스트를 중단합니다.\")\n",
    "            break\n",
    "        except Exception as e:\n",
    "            print(f\"❌ 오류 발생: {e}\")\n",
    "\n",
    "\n",
    "# 실시간 테스트 실행 (필요시 주석 해제)\n",
    "# interactive_test()\n",
    "\n",
    "print(\"✅ 실시간 테스트 인터페이스 준비 완료\")\n",
    "print(\"💡 interactive_test() 함수를 호출하면 실시간 테스트를 시작할 수 있습니다.\")"
   ]
  },
  {
   "cell_type": "code",
   "execution_count": 13,
   "id": "5192d228",
   "metadata": {},
   "outputs": [
    {
     "name": "stdout",
     "output_type": "stream",
     "text": [
      "=== 성능 측정 테스트 ===\n",
      "\n",
      "🔍 테스트 1: 일자리 복지 문화\n",
      "   ⏱️ 응답시간: 0.72초\n",
      "   📝 응답길이: 25 글자\n",
      "   📊 분리수: 3개\n",
      "----------------------------------------\n",
      "🔍 테스트 2: 서울에 있는 일자리나 복지가 있는지 알려줘\n",
      "   ⏱️ 응답시간: 0.78초\n",
      "   📝 응답길이: 42 글자\n",
      "   📊 분리수: 2개\n",
      "----------------------------------------\n",
      "🔍 테스트 3: 2025년에 부산에서 할 수 있는 일자리의 연령하고 전...\n",
      "   ⏱️ 응답시간: 0.98초\n",
      "   📝 응답길이: 77 글자\n",
      "   📊 분리수: 2개\n",
      "----------------------------------------\n",
      "🔍 테스트 4: 대구에서 할 수 있는 일자리의 개수는 총 몇 개야?\n",
      "   ⏱️ 응답시간: 0.82초\n",
      "   📝 응답길이: 30 글자\n",
      "   📊 분리수: 1개\n",
      "----------------------------------------\n",
      "🔍 테스트 5: 서울과 부산의 일자리 정책 비교분석해줘\n",
      "   ⏱️ 응답시간: 0.72초\n",
      "   📝 응답길이: 24 글자\n",
      "   📊 분리수: 1개\n",
      "----------------------------------------\n",
      "📊 평균 응답시간: 0.80초\n",
      "📊 총 소요시간: 4.02초\n"
     ]
    }
   ],
   "source": [
    "# 성능 측정 및 디버깅 도구\n",
    "import time\n",
    "\n",
    "\n",
    "def performance_test():\n",
    "    \"\"\"\n",
    "    응답 시간과 토큰 사용량을 측정하는 함수\n",
    "    \"\"\"\n",
    "    print(\"=== 성능 측정 테스트 ===\\n\")\n",
    "\n",
    "    total_time = 0\n",
    "    sample_queries = test_queries[:5]  # 처음 5개 질문으로 테스트\n",
    "\n",
    "    for i, query in enumerate(sample_queries, 1):\n",
    "        start_time = time.time()\n",
    "        result = analyze_query(query)\n",
    "        end_time = time.time()\n",
    "\n",
    "        response_time = end_time - start_time\n",
    "        total_time += response_time\n",
    "\n",
    "        print(f\"🔍 테스트 {i}: {query[:30]}{'...' if len(query) > 30 else ''}\")\n",
    "        print(f\"   ⏱️ 응답시간: {response_time:.2f}초\")\n",
    "        print(f\"   📝 응답길이: {len(result)} 글자\")\n",
    "        print(f\"   📊 분리수: {result.count('●')}개\")\n",
    "        print(\"-\" * 40)\n",
    "\n",
    "    avg_time = total_time / len(sample_queries)\n",
    "    print(f\"📊 평균 응답시간: {avg_time:.2f}초\")\n",
    "    print(f\"📊 총 소요시간: {total_time:.2f}초\")\n",
    "\n",
    "\n",
    "# 성능 테스트 실행\n",
    "performance_test()"
   ]
  },
  {
   "cell_type": "code",
   "execution_count": 14,
   "id": "bc672fc5",
   "metadata": {},
   "outputs": [
    {
     "name": "stdout",
     "output_type": "stream",
     "text": [
      "=== 온통청년 질의문석 시스템 테스트 완료 ===\n",
      "\n",
      "🎯 테스트 완료 항목:\n",
      "   ✅ 라이브러리 설치 및 초기화\n",
      "   ✅ OpenAI API 연결\n",
      "   ✅ 시스템 프롬프트 설정\n",
      "   ✅ 기본 테스트 케이스 (10개)\n",
      "   ✅ 개별 테스트\n",
      "   ✅ 배치 테스트\n",
      "   ✅ 결과 분석\n",
      "   ✅ 사용자 정의 테스트\n",
      "   ✅ 성능 측정\n",
      "\n",
      "📋 다음 단계:\n",
      "   1. 실패한 테스트 케이스 분석\n",
      "   2. 프롬프트 개선 사항 도출\n",
      "   3. 추가 엣지 케이스 발견 및 테스트\n",
      "   4. 실제 온통청년 API와 연동 테스트\n",
      "\n",
      "💡 추가 기능:\n",
      "   - interactive_test() 함수로 실시간 테스트 가능\n",
      "   - 새로운 테스트 케이스 추가하여 재테스트 가능\n",
      "   - 성능 최적화 및 오류 패턴 분석 가능\n",
      "\n",
      "🔧 개선 가능한 영역:\n",
      "   - 복잡한 복합 질문 처리\n",
      "   - 문맥 이해 향상\n",
      "   - 도메인 특화 용어 처리\n",
      "   - 응답 시간 최적화\n"
     ]
    }
   ],
   "source": [
    "# 최종 테스트 정리 및 요약\n",
    "print(\"=== 온통청년 질의문석 시스템 테스트 완료 ===\\n\")\n",
    "\n",
    "print(\"🎯 테스트 완료 항목:\")\n",
    "print(\"   ✅ 라이브러리 설치 및 초기화\")\n",
    "print(\"   ✅ OpenAI API 연결\")\n",
    "print(\"   ✅ 시스템 프롬프트 설정\")\n",
    "print(\"   ✅ 기본 테스트 케이스 (10개)\")\n",
    "print(\"   ✅ 개별 테스트\")\n",
    "print(\"   ✅ 배치 테스트\")\n",
    "print(\"   ✅ 결과 분석\")\n",
    "print(\"   ✅ 사용자 정의 테스트\")\n",
    "print(\"   ✅ 성능 측정\")\n",
    "\n",
    "print(\"\\n📋 다음 단계:\")\n",
    "print(\"   1. 실패한 테스트 케이스 분석\")\n",
    "print(\"   2. 프롬프트 개선 사항 도출\")\n",
    "print(\"   3. 추가 엣지 케이스 발견 및 테스트\")\n",
    "print(\"   4. 실제 온통청년 API와 연동 테스트\")\n",
    "\n",
    "print(\"\\n💡 추가 기능:\")\n",
    "print(\"   - interactive_test() 함수로 실시간 테스트 가능\")\n",
    "print(\"   - 새로운 테스트 케이스 추가하여 재테스트 가능\")\n",
    "print(\"   - 성능 최적화 및 오류 패턴 분석 가능\")\n",
    "\n",
    "print(\"\\n🔧 개선 가능한 영역:\")\n",
    "print(\"   - 복잡한 복합 질문 처리\")\n",
    "print(\"   - 문맥 이해 향상\")\n",
    "print(\"   - 도메인 특화 용어 처리\")\n",
    "print(\"   - 응답 시간 최적화\")"
   ]
  },
  {
   "cell_type": "code",
   "execution_count": null,
   "id": "3621b168",
   "metadata": {},
   "outputs": [],
   "source": []
  }
 ],
 "metadata": {
  "kernelspec": {
   "display_name": "venv",
   "language": "python",
   "name": "python3"
  },
  "language_info": {
   "codemirror_mode": {
    "name": "ipython",
    "version": 3
   },
   "file_extension": ".py",
   "mimetype": "text/x-python",
   "name": "python",
   "nbconvert_exporter": "python",
   "pygments_lexer": "ipython3",
   "version": "3.13.5"
  }
 },
 "nbformat": 4,
 "nbformat_minor": 5
}
