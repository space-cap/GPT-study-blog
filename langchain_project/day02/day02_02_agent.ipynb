{
 "cells": [
  {
   "cell_type": "code",
   "execution_count": 2,
   "id": "77d43096",
   "metadata": {},
   "outputs": [
    {
     "name": "stderr",
     "output_type": "stream",
     "text": [
      "C:\\Users\\Public\\Documents\\ESTsoft\\CreatorTemp\\ipykernel_74184\\1031311834.py:25: LangChainDeprecationWarning: LangChain agents will continue to be supported, but it is recommended for new use cases to be built with LangGraph. LangGraph offers a more flexible and full-featured framework for building agents, including support for tool-calling, persistence of state, and human-in-the-loop workflows. For details, refer to the `LangGraph documentation <https://langchain-ai.github.io/langgraph/>`_ as well as guides for `Migrating from AgentExecutor <https://python.langchain.com/docs/how_to/migrate_agent/>`_ and LangGraph's `Pre-built ReAct agent <https://langchain-ai.github.io/langgraph/how-tos/create-react-agent/>`_.\n",
      "  agent = initialize_agent(\n",
      "C:\\Users\\Public\\Documents\\ESTsoft\\CreatorTemp\\ipykernel_74184\\1031311834.py:45: LangChainDeprecationWarning: The method `Chain.run` was deprecated in langchain 0.1.0 and will be removed in 1.0. Use :meth:`~invoke` instead.\n",
      "  result = agent.run(\"5에 2를 더하면 얼마야?\")\n"
     ]
    },
    {
     "name": "stdout",
     "output_type": "stream",
     "text": [
      "\n",
      "\n",
      "\u001b[1m> Entering new AgentExecutor chain...\u001b[0m\n",
      "\u001b[32;1m\u001b[1;3m 5에 2를 더해야 하므로 AddTwo 함수를 사용해야겠다.\n",
      "Action: AddTwo\n",
      "Action Input: 5\u001b[0m\n",
      "Observation: \u001b[36;1m\u001b[1;3m7.0\u001b[0m\n",
      "Thought:\u001b[32;1m\u001b[1;3m 5에 2를 더한 결과는 7이다.\n",
      "Final Answer: 7.0\u001b[0m\n",
      "\n",
      "\u001b[1m> Finished chain.\u001b[0m\n",
      "7.0\n"
     ]
    }
   ],
   "source": [
    "# LangChain에서 Agent 초기화 및 Tool 정의를 위한 모듈 불러오기\n",
    "from langchain.agents import initialize_agent, Tool\n",
    "from langchain.agents.agent_types import AgentType\n",
    "\n",
    "# OpenAI GPT 계열 모델을 사용하는 LLM 인터페이스 불러오기\n",
    "from langchain_openai import OpenAI\n",
    "\n",
    "# 1. 사용자 정의 도구(Tool) 정의\n",
    "# add_tow: 입력받은 수자에 2를 더하는 간단한 함수\n",
    "def add_two(num):\n",
    "    return str(float(num) + 2)\n",
    "\n",
    "tool = Tool(\n",
    "    name=\"AddTwo\",\n",
    "    func=add_two,\n",
    "    description=\"입력 숫자에 2를 더 더합니다\", # LLM이 어떤 상황에서 이 도구를 써야 할지 설명하는 부분\n",
    ")\n",
    "\n",
    "# 2. 사용할 LLM 설정\n",
    "# OpenAI 기반 LLM 객체 생성(기본적으로 GPT-3.5-turbo 모델 사용)\n",
    "llm = OpenAI(model=\"gpt-4o-mini\", temperature=0)\n",
    "\n",
    "# 3. REAct Agent 초기화\n",
    "# Agent를 초기화하고 사용할 도구와 LLM을 설정\n",
    "agent = initialize_agent(\n",
    "    tools=[tool],  # 사용할 도구 목록\n",
    "    llm=llm,  # 사용할 LLM\n",
    "    agent_type=AgentType.ZERO_SHOT_REACT_DESCRIPTION,  # REAct Agent 타입 설정\n",
    "    verbose=True,  # 실행 로그 출력 여부\n",
    ")\n",
    "\n",
    "\n",
    "# ------------------------------------------------------------\n",
    "# 4. Agent 실행\n",
    "# ------------------------------------------------------------\n",
    "\n",
    "\n",
    "# LLM에게 다음과 같은 자연어 질의를 보냄:\n",
    "# → \"5에 2를 더하면 얼마야?\"\n",
    "# 에이전트는:\n",
    "# 1) 질의 의도를 파악하고,\n",
    "# 2) 사용할 도구(AddTwo)를 선택하고,\n",
    "# 3) 도구에 \"5\"를 입력으로 호출한 뒤,\n",
    "# 4) 응답(7.0)을 받아 최종 응답으로 조립함\n",
    "result = agent.run(\"5에 2를 더하면 얼마야?\")\n",
    "\n",
    "\n",
    "# 최종 결과 출력 (예: \"7.0\")\n",
    "print(result)"
   ]
  },
  {
   "cell_type": "code",
   "execution_count": null,
   "id": "34916374",
   "metadata": {},
   "outputs": [],
   "source": []
  }
 ],
 "metadata": {
  "kernelspec": {
   "display_name": "venv",
   "language": "python",
   "name": "python3"
  },
  "language_info": {
   "codemirror_mode": {
    "name": "ipython",
    "version": 3
   },
   "file_extension": ".py",
   "mimetype": "text/x-python",
   "name": "python",
   "nbconvert_exporter": "python",
   "pygments_lexer": "ipython3",
   "version": "3.13.5"
  }
 },
 "nbformat": 4,
 "nbformat_minor": 5
}
