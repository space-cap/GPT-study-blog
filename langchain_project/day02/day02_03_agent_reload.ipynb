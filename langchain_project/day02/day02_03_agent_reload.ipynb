{
 "cells": [
  {
   "cell_type": "code",
   "execution_count": 1,
   "id": "2f150259",
   "metadata": {},
   "outputs": [
    {
     "data": {
      "text/plain": [
       "2"
      ]
     },
     "execution_count": 1,
     "metadata": {},
     "output_type": "execute_result"
    }
   ],
   "source": [
    "1+1\n"
   ]
  },
  {
   "cell_type": "code",
   "execution_count": 3,
   "id": "a9d6d314",
   "metadata": {},
   "outputs": [
    {
     "name": "stdout",
     "output_type": "stream",
     "text": [
      "\u001b[1m[values]\u001b[0m {'messages': [HumanMessage(content='seoul', additional_kwargs={}, response_metadata={}, id='2414cc0d-c82f-4ee9-b9ee-a5d5a0e75273')]}\n",
      "\u001b[1m[updates]\u001b[0m {'agent': {'messages': [AIMessage(content='', additional_kwargs={'tool_calls': [{'id': 'call_1HaCyR3hsVk2rFZR2QCICOEV', 'function': {'arguments': '{\"__arg1\":\"seoul\"}', 'name': 'PopulationLookup'}, 'type': 'function'}], 'refusal': None}, response_metadata={'token_usage': {'completion_tokens': 18, 'prompt_tokens': 88, 'total_tokens': 106, 'completion_tokens_details': {'accepted_prediction_tokens': 0, 'audio_tokens': 0, 'reasoning_tokens': 0, 'rejected_prediction_tokens': 0}, 'prompt_tokens_details': {'audio_tokens': 0, 'cached_tokens': 0}}, 'model_name': 'gpt-4o-mini-2024-07-18', 'system_fingerprint': 'fp_34a54ae93c', 'id': 'chatcmpl-BpWyCQJApLuMORelF8fC3WZLoI3rP', 'service_tier': 'default', 'finish_reason': 'tool_calls', 'logprobs': None}, id='run--388bb1a5-4d54-46e6-b980-61f95c582ba6-0', tool_calls=[{'name': 'PopulationLookup', 'args': {'__arg1': 'seoul'}, 'id': 'call_1HaCyR3hsVk2rFZR2QCICOEV', 'type': 'tool_call'}], usage_metadata={'input_tokens': 88, 'output_tokens': 18, 'total_tokens': 106, 'input_token_details': {'audio': 0, 'cache_read': 0}, 'output_token_details': {'audio': 0, 'reasoning': 0}})]}}\n",
      "\u001b[1m[values]\u001b[0m {'messages': [HumanMessage(content='seoul', additional_kwargs={}, response_metadata={}, id='2414cc0d-c82f-4ee9-b9ee-a5d5a0e75273'), AIMessage(content='', additional_kwargs={'tool_calls': [{'id': 'call_1HaCyR3hsVk2rFZR2QCICOEV', 'function': {'arguments': '{\"__arg1\":\"seoul\"}', 'name': 'PopulationLookup'}, 'type': 'function'}], 'refusal': None}, response_metadata={'token_usage': {'completion_tokens': 18, 'prompt_tokens': 88, 'total_tokens': 106, 'completion_tokens_details': {'accepted_prediction_tokens': 0, 'audio_tokens': 0, 'reasoning_tokens': 0, 'rejected_prediction_tokens': 0}, 'prompt_tokens_details': {'audio_tokens': 0, 'cached_tokens': 0}}, 'model_name': 'gpt-4o-mini-2024-07-18', 'system_fingerprint': 'fp_34a54ae93c', 'id': 'chatcmpl-BpWyCQJApLuMORelF8fC3WZLoI3rP', 'service_tier': 'default', 'finish_reason': 'tool_calls', 'logprobs': None}, id='run--388bb1a5-4d54-46e6-b980-61f95c582ba6-0', tool_calls=[{'name': 'PopulationLookup', 'args': {'__arg1': 'seoul'}, 'id': 'call_1HaCyR3hsVk2rFZR2QCICOEV', 'type': 'tool_call'}], usage_metadata={'input_tokens': 88, 'output_tokens': 18, 'total_tokens': 106, 'input_token_details': {'audio': 0, 'cache_read': 0}, 'output_token_details': {'audio': 0, 'reasoning': 0}})]}\n",
      "\u001b[1m[updates]\u001b[0m {'tools': {'messages': [ToolMessage(content='seoul의 인구 정보를 찾을 수 없습니다.', name='PopulationLookup', id='4a85b215-845a-48bf-aabf-2af1516d95dc', tool_call_id='call_1HaCyR3hsVk2rFZR2QCICOEV')]}}\n",
      "\u001b[1m[values]\u001b[0m {'messages': [HumanMessage(content='seoul', additional_kwargs={}, response_metadata={}, id='2414cc0d-c82f-4ee9-b9ee-a5d5a0e75273'), AIMessage(content='', additional_kwargs={'tool_calls': [{'id': 'call_1HaCyR3hsVk2rFZR2QCICOEV', 'function': {'arguments': '{\"__arg1\":\"seoul\"}', 'name': 'PopulationLookup'}, 'type': 'function'}], 'refusal': None}, response_metadata={'token_usage': {'completion_tokens': 18, 'prompt_tokens': 88, 'total_tokens': 106, 'completion_tokens_details': {'accepted_prediction_tokens': 0, 'audio_tokens': 0, 'reasoning_tokens': 0, 'rejected_prediction_tokens': 0}, 'prompt_tokens_details': {'audio_tokens': 0, 'cached_tokens': 0}}, 'model_name': 'gpt-4o-mini-2024-07-18', 'system_fingerprint': 'fp_34a54ae93c', 'id': 'chatcmpl-BpWyCQJApLuMORelF8fC3WZLoI3rP', 'service_tier': 'default', 'finish_reason': 'tool_calls', 'logprobs': None}, id='run--388bb1a5-4d54-46e6-b980-61f95c582ba6-0', tool_calls=[{'name': 'PopulationLookup', 'args': {'__arg1': 'seoul'}, 'id': 'call_1HaCyR3hsVk2rFZR2QCICOEV', 'type': 'tool_call'}], usage_metadata={'input_tokens': 88, 'output_tokens': 18, 'total_tokens': 106, 'input_token_details': {'audio': 0, 'cache_read': 0}, 'output_token_details': {'audio': 0, 'reasoning': 0}}), ToolMessage(content='seoul의 인구 정보를 찾을 수 없습니다.', name='PopulationLookup', id='4a85b215-845a-48bf-aabf-2af1516d95dc', tool_call_id='call_1HaCyR3hsVk2rFZR2QCICOEV')]}\n",
      "\u001b[1m[updates]\u001b[0m {'agent': {'messages': [AIMessage(content='서울의 인구 정보를 찾을 수 없습니다. 다른 도시의 인구 정보를 원하시면 말씀해 주세요!', additional_kwargs={'refusal': None}, response_metadata={'token_usage': {'completion_tokens': 24, 'prompt_tokens': 125, 'total_tokens': 149, 'completion_tokens_details': {'accepted_prediction_tokens': 0, 'audio_tokens': 0, 'reasoning_tokens': 0, 'rejected_prediction_tokens': 0}, 'prompt_tokens_details': {'audio_tokens': 0, 'cached_tokens': 0}}, 'model_name': 'gpt-4o-mini-2024-07-18', 'system_fingerprint': 'fp_34a54ae93c', 'id': 'chatcmpl-BpWyEokSqbPdwGtVOe9sshTqWknzI', 'service_tier': 'default', 'finish_reason': 'stop', 'logprobs': None}, id='run--fc8677b7-a903-4c28-9ec6-6efa926103f1-0', usage_metadata={'input_tokens': 125, 'output_tokens': 24, 'total_tokens': 149, 'input_token_details': {'audio': 0, 'cache_read': 0}, 'output_token_details': {'audio': 0, 'reasoning': 0}})]}}\n",
      "\u001b[1m[values]\u001b[0m {'messages': [HumanMessage(content='seoul', additional_kwargs={}, response_metadata={}, id='2414cc0d-c82f-4ee9-b9ee-a5d5a0e75273'), AIMessage(content='', additional_kwargs={'tool_calls': [{'id': 'call_1HaCyR3hsVk2rFZR2QCICOEV', 'function': {'arguments': '{\"__arg1\":\"seoul\"}', 'name': 'PopulationLookup'}, 'type': 'function'}], 'refusal': None}, response_metadata={'token_usage': {'completion_tokens': 18, 'prompt_tokens': 88, 'total_tokens': 106, 'completion_tokens_details': {'accepted_prediction_tokens': 0, 'audio_tokens': 0, 'reasoning_tokens': 0, 'rejected_prediction_tokens': 0}, 'prompt_tokens_details': {'audio_tokens': 0, 'cached_tokens': 0}}, 'model_name': 'gpt-4o-mini-2024-07-18', 'system_fingerprint': 'fp_34a54ae93c', 'id': 'chatcmpl-BpWyCQJApLuMORelF8fC3WZLoI3rP', 'service_tier': 'default', 'finish_reason': 'tool_calls', 'logprobs': None}, id='run--388bb1a5-4d54-46e6-b980-61f95c582ba6-0', tool_calls=[{'name': 'PopulationLookup', 'args': {'__arg1': 'seoul'}, 'id': 'call_1HaCyR3hsVk2rFZR2QCICOEV', 'type': 'tool_call'}], usage_metadata={'input_tokens': 88, 'output_tokens': 18, 'total_tokens': 106, 'input_token_details': {'audio': 0, 'cache_read': 0}, 'output_token_details': {'audio': 0, 'reasoning': 0}}), ToolMessage(content='seoul의 인구 정보를 찾을 수 없습니다.', name='PopulationLookup', id='4a85b215-845a-48bf-aabf-2af1516d95dc', tool_call_id='call_1HaCyR3hsVk2rFZR2QCICOEV'), AIMessage(content='서울의 인구 정보를 찾을 수 없습니다. 다른 도시의 인구 정보를 원하시면 말씀해 주세요!', additional_kwargs={'refusal': None}, response_metadata={'token_usage': {'completion_tokens': 24, 'prompt_tokens': 125, 'total_tokens': 149, 'completion_tokens_details': {'accepted_prediction_tokens': 0, 'audio_tokens': 0, 'reasoning_tokens': 0, 'rejected_prediction_tokens': 0}, 'prompt_tokens_details': {'audio_tokens': 0, 'cached_tokens': 0}}, 'model_name': 'gpt-4o-mini-2024-07-18', 'system_fingerprint': 'fp_34a54ae93c', 'id': 'chatcmpl-BpWyEokSqbPdwGtVOe9sshTqWknzI', 'service_tier': 'default', 'finish_reason': 'stop', 'logprobs': None}, id='run--fc8677b7-a903-4c28-9ec6-6efa926103f1-0', usage_metadata={'input_tokens': 125, 'output_tokens': 24, 'total_tokens': 149, 'input_token_details': {'audio': 0, 'cache_read': 0}, 'output_token_details': {'audio': 0, 'reasoning': 0}})]}\n",
      "HumanMessage : seoul\n",
      "AIMessage : \n",
      "ToolMessage : seoul의 인구 정보를 찾을 수 없습니다.\n",
      "AIMessage : 서울의 인구 정보를 찾을 수 없습니다. 다른 도시의 인구 정보를 원하시면 말씀해 주세요!\n"
     ]
    }
   ],
   "source": [
    "import os\n",
    "from dotenv import load_dotenv\n",
    "from typing import TypedDict, List\n",
    "from langchain_core.messages import BaseMessage, HumanMessage\n",
    "from langchain_openai import ChatOpenAI\n",
    "from langchain.agents import Tool\n",
    "from langgraph.prebuilt import create_react_agent\n",
    "from langgraph.graph import StateGraph, END\n",
    "\n",
    "# 환경 변수\n",
    "load_dotenv()\n",
    "OPEN_API_KEY = os.getenv(\"OPENAI_API_KEY\")\n",
    "\n",
    "# 도구 함수 정의\n",
    "def add_two(x:str)->str:\n",
    "    try:\n",
    "        return str(float(x) + 2)\n",
    "    except Exception:\n",
    "        return \"도구 실행 실패: 숫자만 일력해 주세요.\"\n",
    "\n",
    "def population_lookup(city:str) -> str:\n",
    "    data = {\n",
    "        \"서울\": \"9,733,509명 (2025년 기준)\",\n",
    "        \"부산\": \"3,400,000명 (2025년 기준)\",\n",
    "    }\n",
    "    return data.get(city.strip().lower(), f\"{city}의 인구 정보를 찾을 수 없습니다.\")\n",
    "\n",
    "# 메시지 상태 정의\n",
    "class AgentState(TypedDict):\n",
    "    messages: List[BaseMessage]\n",
    "\n",
    "# 도구 리스트 정의\n",
    "tools = [\n",
    "    Tool(name=\"AddTwo\", func=add_two, description=\"숫자 입력 시 2를 더한합니다.\"),\n",
    "    Tool(name=\"PopulationLookup\", func=population_lookup, description=\"도시 이름 입력 시 인구 정보를 반환합니다.\"),\n",
    "]\n",
    "\n",
    "# LLM 정의(ReAct agent는 verbose=True만 있어도 추론 흐름 출력)\n",
    "llm = ChatOpenAI(\n",
    "    model=\"gpt-4o-mini\",\n",
    "    temperature=0,\n",
    "    max_tokens=1000,\n",
    "    verbose=True,\n",
    "    openai_api_key=OPEN_API_KEY\n",
    ")\n",
    "\n",
    "# ReAct Agent 생성\n",
    "react_agent = create_react_agent(model=llm, tools=tools, debug=True)\n",
    "\n",
    "# LangGraph 구성(단순한 성형 흐름)\n",
    "graph = StateGraph(AgentState)\n",
    "graph.add_node(\"agent\", react_agent)\n",
    "graph.set_entry_point(\"agent\")\n",
    "graph.add_edge(\"agent\", END)\n",
    "\n",
    "# 그래프 컴파일\n",
    "app = graph.compile()\n",
    "\n",
    "# 최대 반복 횟수 설정\n",
    "max_iterations = 3\n",
    "recursion_limit = 2 * max_iterations + 1\n",
    "\n",
    "\n",
    "# 테스트 실행\n",
    "response = app.invoke(\n",
    "    {\n",
    "        \"messages\": [\n",
    "            HumanMessage(content=\"seoul\"),\n",
    "        ]\n",
    "    },\n",
    "    {\"recursion_limit\": recursion_limit},\n",
    ")\n",
    "\n",
    "# 결과 출력\n",
    "for m in response[\"messages\"]:\n",
    "    print(m.__class__.__name__, \":\", getattr(m, \"content\", repr(m)))"
   ]
  },
  {
   "cell_type": "code",
   "execution_count": null,
   "id": "775fafd2",
   "metadata": {},
   "outputs": [],
   "source": []
  }
 ],
 "metadata": {
  "kernelspec": {
   "display_name": "venv",
   "language": "python",
   "name": "python3"
  },
  "language_info": {
   "codemirror_mode": {
    "name": "ipython",
    "version": 3
   },
   "file_extension": ".py",
   "mimetype": "text/x-python",
   "name": "python",
   "nbconvert_exporter": "python",
   "pygments_lexer": "ipython3",
   "version": "3.13.5"
  }
 },
 "nbformat": 4,
 "nbformat_minor": 5
}
