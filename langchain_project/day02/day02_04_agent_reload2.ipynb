{
 "cells": [
  {
   "cell_type": "code",
   "execution_count": 1,
   "id": "c42d0e8b",
   "metadata": {},
   "outputs": [
    {
     "data": {
      "text/plain": [
       "2"
      ]
     },
     "execution_count": 1,
     "metadata": {},
     "output_type": "execute_result"
    }
   ],
   "source": [
    "1+1\n"
   ]
  },
  {
   "cell_type": "code",
   "execution_count": null,
   "id": "8318a022",
   "metadata": {},
   "outputs": [
    {
     "name": "stdout",
     "output_type": "stream",
     "text": [
      "\u001b[1m[values]\u001b[0m {'messages': [HumanMessage(content='seoul', additional_kwargs={}, response_metadata={}, id='52275d74-cf2a-4f5d-bcbc-4d1531b51597')]}\n"
     ]
    },
    {
     "name": "stderr",
     "output_type": "stream",
     "text": [
      "INFO:httpx:HTTP Request: POST https://api.openai.com/v1/chat/completions \"HTTP/1.1 200 OK\"\n"
     ]
    },
    {
     "name": "stdout",
     "output_type": "stream",
     "text": [
      "\u001b[1m[updates]\u001b[0m {'agent': {'messages': [AIMessage(content='', additional_kwargs={'tool_calls': [{'id': 'call_ibFbLeNNBguoXt1Tx68mpfxF', 'function': {'arguments': '{\"__arg1\":\"seoul\"}', 'name': 'PopulationLookup'}, 'type': 'function'}], 'refusal': None}, response_metadata={'token_usage': {'completion_tokens': 18, 'prompt_tokens': 84, 'total_tokens': 102, 'completion_tokens_details': {'accepted_prediction_tokens': 0, 'audio_tokens': 0, 'reasoning_tokens': 0, 'rejected_prediction_tokens': 0}, 'prompt_tokens_details': {'audio_tokens': 0, 'cached_tokens': 0}}, 'model_name': 'gpt-4o-mini-2024-07-18', 'system_fingerprint': 'fp_34a54ae93c', 'id': 'chatcmpl-BpXCFN6L6YOED93LYg76fSPOb7Pp3', 'service_tier': 'default', 'finish_reason': 'tool_calls', 'logprobs': None}, id='run--68cd1f32-462a-44bf-85dc-50c63029a2c1-0', tool_calls=[{'name': 'PopulationLookup', 'args': {'__arg1': 'seoul'}, 'id': 'call_ibFbLeNNBguoXt1Tx68mpfxF', 'type': 'tool_call'}], usage_metadata={'input_tokens': 84, 'output_tokens': 18, 'total_tokens': 102, 'input_token_details': {'audio': 0, 'cache_read': 0}, 'output_token_details': {'audio': 0, 'reasoning': 0}})]}}\n",
      "\u001b[1m[values]\u001b[0m {'messages': [HumanMessage(content='seoul', additional_kwargs={}, response_metadata={}, id='52275d74-cf2a-4f5d-bcbc-4d1531b51597'), AIMessage(content='', additional_kwargs={'tool_calls': [{'id': 'call_ibFbLeNNBguoXt1Tx68mpfxF', 'function': {'arguments': '{\"__arg1\":\"seoul\"}', 'name': 'PopulationLookup'}, 'type': 'function'}], 'refusal': None}, response_metadata={'token_usage': {'completion_tokens': 18, 'prompt_tokens': 84, 'total_tokens': 102, 'completion_tokens_details': {'accepted_prediction_tokens': 0, 'audio_tokens': 0, 'reasoning_tokens': 0, 'rejected_prediction_tokens': 0}, 'prompt_tokens_details': {'audio_tokens': 0, 'cached_tokens': 0}}, 'model_name': 'gpt-4o-mini-2024-07-18', 'system_fingerprint': 'fp_34a54ae93c', 'id': 'chatcmpl-BpXCFN6L6YOED93LYg76fSPOb7Pp3', 'service_tier': 'default', 'finish_reason': 'tool_calls', 'logprobs': None}, id='run--68cd1f32-462a-44bf-85dc-50c63029a2c1-0', tool_calls=[{'name': 'PopulationLookup', 'args': {'__arg1': 'seoul'}, 'id': 'call_ibFbLeNNBguoXt1Tx68mpfxF', 'type': 'tool_call'}], usage_metadata={'input_tokens': 84, 'output_tokens': 18, 'total_tokens': 102, 'input_token_details': {'audio': 0, 'cache_read': 0}, 'output_token_details': {'audio': 0, 'reasoning': 0}})]}\n",
      "\u001b[1m[updates]\u001b[0m {'tools': {'messages': [ToolMessage(content='seoul의 인구 정보를 찾을 수 없습니다.', name='PopulationLookup', id='dd494e8b-4a3a-4a37-bb85-f38a291b9aa3', tool_call_id='call_ibFbLeNNBguoXt1Tx68mpfxF')]}}\n",
      "\u001b[1m[values]\u001b[0m {'messages': [HumanMessage(content='seoul', additional_kwargs={}, response_metadata={}, id='52275d74-cf2a-4f5d-bcbc-4d1531b51597'), AIMessage(content='', additional_kwargs={'tool_calls': [{'id': 'call_ibFbLeNNBguoXt1Tx68mpfxF', 'function': {'arguments': '{\"__arg1\":\"seoul\"}', 'name': 'PopulationLookup'}, 'type': 'function'}], 'refusal': None}, response_metadata={'token_usage': {'completion_tokens': 18, 'prompt_tokens': 84, 'total_tokens': 102, 'completion_tokens_details': {'accepted_prediction_tokens': 0, 'audio_tokens': 0, 'reasoning_tokens': 0, 'rejected_prediction_tokens': 0}, 'prompt_tokens_details': {'audio_tokens': 0, 'cached_tokens': 0}}, 'model_name': 'gpt-4o-mini-2024-07-18', 'system_fingerprint': 'fp_34a54ae93c', 'id': 'chatcmpl-BpXCFN6L6YOED93LYg76fSPOb7Pp3', 'service_tier': 'default', 'finish_reason': 'tool_calls', 'logprobs': None}, id='run--68cd1f32-462a-44bf-85dc-50c63029a2c1-0', tool_calls=[{'name': 'PopulationLookup', 'args': {'__arg1': 'seoul'}, 'id': 'call_ibFbLeNNBguoXt1Tx68mpfxF', 'type': 'tool_call'}], usage_metadata={'input_tokens': 84, 'output_tokens': 18, 'total_tokens': 102, 'input_token_details': {'audio': 0, 'cache_read': 0}, 'output_token_details': {'audio': 0, 'reasoning': 0}}), ToolMessage(content='seoul의 인구 정보를 찾을 수 없습니다.', name='PopulationLookup', id='dd494e8b-4a3a-4a37-bb85-f38a291b9aa3', tool_call_id='call_ibFbLeNNBguoXt1Tx68mpfxF')]}\n"
     ]
    },
    {
     "name": "stderr",
     "output_type": "stream",
     "text": [
      "INFO:httpx:HTTP Request: POST https://api.openai.com/v1/chat/completions \"HTTP/1.1 200 OK\"\n"
     ]
    },
    {
     "name": "stdout",
     "output_type": "stream",
     "text": [
      "\u001b[1m[updates]\u001b[0m {'agent': {'messages': [AIMessage(content='서울의 인구 정보를 찾을 수 없습니다. 다른 도시나 정보를 요청해 주시면 도와드리겠습니다.', additional_kwargs={'refusal': None}, response_metadata={'token_usage': {'completion_tokens': 25, 'prompt_tokens': 121, 'total_tokens': 146, 'completion_tokens_details': {'accepted_prediction_tokens': 0, 'audio_tokens': 0, 'reasoning_tokens': 0, 'rejected_prediction_tokens': 0}, 'prompt_tokens_details': {'audio_tokens': 0, 'cached_tokens': 0}}, 'model_name': 'gpt-4o-mini-2024-07-18', 'system_fingerprint': 'fp_34a54ae93c', 'id': 'chatcmpl-BpXCG4qIwhBSA4FNrjVydGMWinPsJ', 'service_tier': 'default', 'finish_reason': 'stop', 'logprobs': None}, id='run--64133373-4401-4caf-8a68-b5e931d70375-0', usage_metadata={'input_tokens': 121, 'output_tokens': 25, 'total_tokens': 146, 'input_token_details': {'audio': 0, 'cache_read': 0}, 'output_token_details': {'audio': 0, 'reasoning': 0}})]}}\n",
      "\u001b[1m[values]\u001b[0m {'messages': [HumanMessage(content='seoul', additional_kwargs={}, response_metadata={}, id='52275d74-cf2a-4f5d-bcbc-4d1531b51597'), AIMessage(content='', additional_kwargs={'tool_calls': [{'id': 'call_ibFbLeNNBguoXt1Tx68mpfxF', 'function': {'arguments': '{\"__arg1\":\"seoul\"}', 'name': 'PopulationLookup'}, 'type': 'function'}], 'refusal': None}, response_metadata={'token_usage': {'completion_tokens': 18, 'prompt_tokens': 84, 'total_tokens': 102, 'completion_tokens_details': {'accepted_prediction_tokens': 0, 'audio_tokens': 0, 'reasoning_tokens': 0, 'rejected_prediction_tokens': 0}, 'prompt_tokens_details': {'audio_tokens': 0, 'cached_tokens': 0}}, 'model_name': 'gpt-4o-mini-2024-07-18', 'system_fingerprint': 'fp_34a54ae93c', 'id': 'chatcmpl-BpXCFN6L6YOED93LYg76fSPOb7Pp3', 'service_tier': 'default', 'finish_reason': 'tool_calls', 'logprobs': None}, id='run--68cd1f32-462a-44bf-85dc-50c63029a2c1-0', tool_calls=[{'name': 'PopulationLookup', 'args': {'__arg1': 'seoul'}, 'id': 'call_ibFbLeNNBguoXt1Tx68mpfxF', 'type': 'tool_call'}], usage_metadata={'input_tokens': 84, 'output_tokens': 18, 'total_tokens': 102, 'input_token_details': {'audio': 0, 'cache_read': 0}, 'output_token_details': {'audio': 0, 'reasoning': 0}}), ToolMessage(content='seoul의 인구 정보를 찾을 수 없습니다.', name='PopulationLookup', id='dd494e8b-4a3a-4a37-bb85-f38a291b9aa3', tool_call_id='call_ibFbLeNNBguoXt1Tx68mpfxF'), AIMessage(content='서울의 인구 정보를 찾을 수 없습니다. 다른 도시나 정보를 요청해 주시면 도와드리겠습니다.', additional_kwargs={'refusal': None}, response_metadata={'token_usage': {'completion_tokens': 25, 'prompt_tokens': 121, 'total_tokens': 146, 'completion_tokens_details': {'accepted_prediction_tokens': 0, 'audio_tokens': 0, 'reasoning_tokens': 0, 'rejected_prediction_tokens': 0}, 'prompt_tokens_details': {'audio_tokens': 0, 'cached_tokens': 0}}, 'model_name': 'gpt-4o-mini-2024-07-18', 'system_fingerprint': 'fp_34a54ae93c', 'id': 'chatcmpl-BpXCG4qIwhBSA4FNrjVydGMWinPsJ', 'service_tier': 'default', 'finish_reason': 'stop', 'logprobs': None}, id='run--64133373-4401-4caf-8a68-b5e931d70375-0', usage_metadata={'input_tokens': 121, 'output_tokens': 25, 'total_tokens': 146, 'input_token_details': {'audio': 0, 'cache_read': 0}, 'output_token_details': {'audio': 0, 'reasoning': 0}})]}\n",
      "HumanMessage : seoul\n",
      "AIMessage : \n",
      "ToolMessage : seoul의 인구 정보를 찾을 수 없습니다.\n",
      "AIMessage : 서울의 인구 정보를 찾을 수 없습니다. 다른 도시나 정보를 요청해 주시면 도와드리겠습니다.\n"
     ]
    }
   ],
   "source": [
    "import os\n",
    "import logging\n",
    "from dotenv import load_dotenv\n",
    "from typing import TypedDict, List\n",
    "from langchain_core.messages import BaseMessage, HumanMessage\n",
    "from langchain_openai import ChatOpenAI\n",
    "from langchain.agents import Tool\n",
    "from langgraph.prebuilt import create_react_agent\n",
    "from langgraph.graph import StateGraph, END\n",
    "\n",
    "\n",
    "# 환경 변수\n",
    "load_dotenv()\n",
    "OPENAI_API_KEY = os.getenv(\"OPENAI_API_KEY\")\n",
    "\n",
    "# logging.basicConfig(level=logging.DEBUG)\n",
    "logging.getLogger(\"langchain\").setLevel(logging.DEBUG)\n",
    "\n",
    "# 도구 함수 정의\n",
    "def add_two(x: str) -> str:\n",
    "    try:\n",
    "        return str(float(x) + 2)\n",
    "    except Exception:\n",
    "        return \"도구 실행 실패: 숫자만 입력해 주세요.\"\n",
    "\n",
    "\n",
    "def population_lookup(city: str) -> str:\n",
    "    data = {\n",
    "        \"서울\": \"9,515,000명 (2023년 기준)\", \n",
    "        \"부산\": \"3,343,000명 (2023년 기준)\"\n",
    "        }\n",
    "    # return data.get(city.strip().lower(), f\"{city}의 인구 정보를 찾을 수 없습니다.\")\n",
    "    raise ValueError(f\"{city}의 인구 정보를 찾을 수 없습니다.\")\n",
    "\n",
    "\n",
    "# 메시지 상태 정의\n",
    "class AgentState(TypedDict):\n",
    "    messages: List[BaseMessage]\n",
    "\n",
    "\n",
    "# 도구 리스트 정의\n",
    "tools = [\n",
    "    Tool(\n",
    "        name=\"AddTwo\", \n",
    "        func=add_two, \n",
    "        description=\"숫자 입력 시 2를 더합니다.\"\n",
    "        ),\n",
    "    Tool(\n",
    "        name=\"PopulationLookup\",\n",
    "        func=population_lookup,\n",
    "        description=\"도시 인구를 조회합니다.\",\n",
    "        ),\n",
    "]\n",
    "\n",
    "\n",
    "# LLM 정의 (ReAct agent는 verbose=True만 있어도 추론 흐름 출력)\n",
    "llm = ChatOpenAI(model=\"gpt-4o-mini\", temperature=0, verbose=True)\n",
    "\n",
    "\n",
    "# ReAct Agent 생성\n",
    "react_agent = create_react_agent(model=llm, tools=tools, debug=True)\n",
    "\n",
    "\n",
    "# LangGraph 구성 (단순한 선형 흐름)\n",
    "\n",
    "# AgentState 타입을 사용하여 상태 그래프 생성\n",
    "# AgentState는 그래프 전체에서 공유되는 데이터 구조를 정의\n",
    "graph = StateGraph(AgentState)\n",
    "\n",
    "# \"agent\"라는 이름의 노드를 추가하고, react_agent 함수를 실행 로직으로 지정\n",
    "# 이 노드는 실제 AI 에이전트가 동작하는 핵심 부분\n",
    "graph.add_node(\"agent\", react_agent)\n",
    "\n",
    "# 그래프의 시작점을 \"agent\" 노드로 설정\n",
    "# 그래프가 실행될 때 가장 먼저 실행되는 노드를 지정\n",
    "graph.set_entry_point(\"agent\")\n",
    "\n",
    "# \"agent\" 노드 실행 완료 후 END로 이동하는 연결선 추가\n",
    "# 즉, 에이전트가 작업을 완료하면 그래프 실행이 종료됨\n",
    "graph.add_edge(\"agent\", END)\n",
    "\n",
    "\n",
    "# 그래프 컴파일\n",
    "\n",
    "# 정의된 그래프를 실행 가능한 형태로 컴파일\n",
    "# 이제 app.invoke()로 그래프를 실행할 수 있음\n",
    "app = graph.compile()\n",
    "\n",
    "\n",
    "# 테스트 실행\n",
    "# response = app.invoke({\"messages\": [HumanMessage(content=\"seoul\")]})\n",
    "\n",
    "# 최대 반복 횟수 설정\n",
    "max_iterations = 3\n",
    "recursion_limit = 2 * max_iterations + 1\n",
    "\n",
    "# Agent 실행 시 recursion_limit 적용\n",
    "try:\n",
    "    response = app.invoke(\n",
    "        {\"messages\": [HumanMessage(content=\"seoul\")]},\n",
    "        {\"recursion_limit\": recursion_limit},\n",
    "    )\n",
    "except Exception:\n",
    "    print(\"Agent가 최대 반복 횟수에 도달했습니다.\")\n",
    "\n",
    "\n",
    "# 결과 출력\n",
    "for m in response[\"messages\"]:\n",
    "    print(m.__class__.__name__, \":\", getattr(m, \"content\", repr(m)))"
   ]
  },
  {
   "cell_type": "code",
   "execution_count": null,
   "id": "fce462e4",
   "metadata": {},
   "outputs": [],
   "source": []
  }
 ],
 "metadata": {
  "kernelspec": {
   "display_name": "venv",
   "language": "python",
   "name": "python3"
  },
  "language_info": {
   "codemirror_mode": {
    "name": "ipython",
    "version": 3
   },
   "file_extension": ".py",
   "mimetype": "text/x-python",
   "name": "python",
   "nbconvert_exporter": "python",
   "pygments_lexer": "ipython3",
   "version": "3.13.5"
  }
 },
 "nbformat": 4,
 "nbformat_minor": 5
}
