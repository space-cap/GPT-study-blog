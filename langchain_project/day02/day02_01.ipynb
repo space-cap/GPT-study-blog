{
 "cells": [
  {
   "cell_type": "code",
   "execution_count": null,
   "id": "7695a072",
   "metadata": {},
   "outputs": [
    {
     "name": "stderr",
     "output_type": "stream",
     "text": [
      "C:\\Users\\Public\\Documents\\ESTsoft\\CreatorTemp\\ipykernel_30748\\744265544.py:34: LangChainDeprecationWarning: The method `Chain.run` was deprecated in langchain 0.1.0 and will be removed in 1.0. Use :meth:`~invoke` instead.\n",
      "  output = chain.run({\"job\": \"개발자\"})\n"
     ]
    },
    {
     "name": "stdout",
     "output_type": "stream",
     "text": [
      " \n",
      "1. 새로운 기능 개발\n",
      "2. 버그 수정\n",
      "3. 코드 리뷰\n",
      "4. 문서화\n",
      "5. 회의 참석\n",
      "\n",
      "어떤 일을 먼저 할까요? \n",
      "1. 새로운 기능 개발\n",
      "2. 버그 수정\n",
      "\n"
     ]
    }
   ],
   "source": [
    "import os\n",
    "from dotenv import load_dotenv\n",
    "\n",
    "# 1. OpenAI 모델을 사용하는 LLM(대형 언어 모델) 객체를 임포트\n",
    "from langchain_openai import OpenAI\n",
    "\n",
    "# 2. LLMChain 클래스: 프롬프트 + LLM 실행을 하나의 체인으로 묶는 객체\n",
    "from langchain.chains import LLMChain\n",
    "from langchain.prompts import PromptTemplate\n",
    "\n",
    "load_dotenv()\n",
    "\n",
    "# 3. OpenAI LLM 객체 생성\n",
    "# 기본적으로 OpenAI의 ChatGPT 또는 GPT-3.5/4 엔진을 사용\n",
    "llm = OpenAI(\n",
    "    model_name=\"gpt-4o-mini\",\n",
    "    temperature=0,\n",
    "    max_tokens=50,  # 매우 짧은 응답\n",
    "    top_p=0.5,  # 토큰 선택 제한\n",
    "    openai_api_key=os.getenv(\"OPENAI_API_KEY\"),\n",
    "    verbose=True,  # 디버깅 정보 출력\n",
    ")\n",
    "\n",
    "# 4. 앞서 만든 PromptTemplate과 LLM을 조합해 LLMChain 생성\n",
    "\n",
    "# 1. PromptTemplate 객체 생성\n",
    "template = \"당신은 {job}입니다. 오늘 할 일은?\"\n",
    "prompt = PromptTemplate(template=template, input_variables=[\"job\"])\n",
    "\n",
    "# 2. LLMChain에 PromptTemplate 객체 전달\n",
    "chain = LLMChain(prompt=prompt, llm=llm, verbose=True)\n",
    "\n",
    "# 5. 체인 실행: run() 함수에 dict 형태로 변수 주입\n",
    "# 여기서는 job=\"개발자\"라는 값을 {job}에 넣어 실행\n",
    "output = chain.run({\"job\": \"개발자\"})\n",
    "\n",
    "# 6. 결과\n",
    "# 내부적으로 다음 프롬프트가 생성됨:\n",
    "# → \"당신은 개발자입니다. 오늘 할 일은?\"\n",
    "# 이 프롬프트가 LLM에 전달되고, 모델의 응답이 output 변수에 저장됨\n",
    "print(output)"
   ]
  },
  {
   "cell_type": "code",
   "execution_count": null,
   "id": "1c78544b",
   "metadata": {},
   "outputs": [],
   "source": []
  }
 ],
 "metadata": {
  "kernelspec": {
   "display_name": "venv",
   "language": "python",
   "name": "python3"
  },
  "language_info": {
   "codemirror_mode": {
    "name": "ipython",
    "version": 3
   },
   "file_extension": ".py",
   "mimetype": "text/x-python",
   "name": "python",
   "nbconvert_exporter": "python",
   "pygments_lexer": "ipython3",
   "version": "3.13.5"
  }
 },
 "nbformat": 4,
 "nbformat_minor": 5
}
