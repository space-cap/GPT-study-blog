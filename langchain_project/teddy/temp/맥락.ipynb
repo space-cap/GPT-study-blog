{
 "cells": [
  {
   "cell_type": "code",
   "execution_count": 1,
   "id": "ef987299",
   "metadata": {},
   "outputs": [
    {
     "data": {
      "text/plain": [
       "2"
      ]
     },
     "execution_count": 1,
     "metadata": {},
     "output_type": "execute_result"
    }
   ],
   "source": [
    "1+1"
   ]
  },
  {
   "cell_type": "code",
   "execution_count": 2,
   "id": "d90010f0",
   "metadata": {},
   "outputs": [
    {
     "ename": "ImportError",
     "evalue": "cannot import name 'ConversationTokenBufferMemory' from 'langchain_core.memory' (c:\\workdir\\github-space-cap\\GPT-study-blog\\langchain_project\\venv\\Lib\\site-packages\\langchain_core\\memory.py)",
     "output_type": "error",
     "traceback": [
      "\u001b[31m---------------------------------------------------------------------------\u001b[39m",
      "\u001b[31mImportError\u001b[39m                               Traceback (most recent call last)",
      "\u001b[36mCell\u001b[39m\u001b[36m \u001b[39m\u001b[32mIn[2]\u001b[39m\u001b[32m, line 5\u001b[39m\n\u001b[32m      1\u001b[39m \u001b[38;5;66;03m# 패키지 설치\u001b[39;00m\n\u001b[32m      2\u001b[39m \u001b[38;5;66;03m# pip install langchain-core langchain-openai langchain-teddynote\u001b[39;00m\n\u001b[32m      4\u001b[39m \u001b[38;5;28;01mfrom\u001b[39;00m\u001b[38;5;250m \u001b[39m\u001b[34;01mlangchain_openai\u001b[39;00m\u001b[38;5;250m \u001b[39m\u001b[38;5;28;01mimport\u001b[39;00m ChatOpenAI\n\u001b[32m----> \u001b[39m\u001b[32m5\u001b[39m \u001b[38;5;28;01mfrom\u001b[39;00m\u001b[38;5;250m \u001b[39m\u001b[34;01mlangchain_core\u001b[39;00m\u001b[34;01m.\u001b[39;00m\u001b[34;01mmemory\u001b[39;00m\u001b[38;5;250m \u001b[39m\u001b[38;5;28;01mimport\u001b[39;00m ConversationTokenBufferMemory\n\u001b[32m      7\u001b[39m \u001b[38;5;66;03m# 최신 LLM 사용 (gpt-4.1-mini)\u001b[39;00m\n\u001b[32m      8\u001b[39m llm = ChatOpenAI(model=\u001b[33m\"\u001b[39m\u001b[33mgpt-4.1-mini\u001b[39m\u001b[33m\"\u001b[39m, temperature=\u001b[32m0\u001b[39m)\n",
      "\u001b[31mImportError\u001b[39m: cannot import name 'ConversationTokenBufferMemory' from 'langchain_core.memory' (c:\\workdir\\github-space-cap\\GPT-study-blog\\langchain_project\\venv\\Lib\\site-packages\\langchain_core\\memory.py)"
     ]
    }
   ],
   "source": [
    "# 패키지 설치\n",
    "# pip install langchain-core langchain-openai langchain-teddynote\n",
    "\n",
    "from langchain_openai import ChatOpenAI\n",
    "from langchain_core.memory import ConversationTokenBufferMemory\n",
    "\n",
    "# 최신 LLM 사용 (gpt-4.1-mini)\n",
    "llm = ChatOpenAI(model=\"gpt-4.1-mini\", temperature=0)\n",
    "\n",
    "# 토큰 기준으로 대화 맥락 관리 (최대 150 토큰)\n",
    "memory = ConversationTokenBufferMemory(\n",
    "    llm=llm,\n",
    "    max_token_limit=150,\n",
    "    return_messages=True,\n",
    ")\n",
    "\n",
    "# 대화 저장 예시\n",
    "memory.save_context(\n",
    "    inputs={\"human\": \"안녕하세요, 설치 방법을 알려주세요.\"},\n",
    "    outputs={\"ai\": \"안녕하세요! 기계 모델명을 알려주시면 안내드리겠습니다.\"},\n",
    ")\n",
    "\n",
    "# 현재 저장된 대화 확인\n",
    "print(memory.load_memory_variables({})[\"history\"])"
   ]
  },
  {
   "cell_type": "code",
   "execution_count": null,
   "id": "085f5d0e",
   "metadata": {},
   "outputs": [],
   "source": []
  }
 ],
 "metadata": {
  "kernelspec": {
   "display_name": "venv (3.13.5)",
   "language": "python",
   "name": "python3"
  },
  "language_info": {
   "codemirror_mode": {
    "name": "ipython",
    "version": 3
   },
   "file_extension": ".py",
   "mimetype": "text/x-python",
   "name": "python",
   "nbconvert_exporter": "python",
   "pygments_lexer": "ipython3",
   "version": "3.13.5"
  }
 },
 "nbformat": 4,
 "nbformat_minor": 5
}
