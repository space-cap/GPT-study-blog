{
 "cells": [
  {
   "cell_type": "code",
   "execution_count": 1,
   "id": "a5eb0084",
   "metadata": {},
   "outputs": [
    {
     "data": {
      "text/plain": [
       "2"
      ]
     },
     "execution_count": 1,
     "metadata": {},
     "output_type": "execute_result"
    }
   ],
   "source": [
    "1+1"
   ]
  },
  {
   "cell_type": "code",
   "execution_count": 2,
   "id": "df6106c4",
   "metadata": {},
   "outputs": [],
   "source": [
    "# TypedDict와 Dict의 차이점 예시\n",
    "from typing import Dict, TypedDict\n",
    "\n",
    "# 일반적인 파이썬 딕셔너리(dict) 사용\n",
    "sample_dict: Dict[str, str] = {\n",
    "    \"name\": \"테디\",\n",
    "    \"age\": \"30\",  # 문자열로 저장 (dict 에서는 가능)\n",
    "    \"job\": \"개발자\",\n",
    "}\n",
    "\n",
    "\n",
    "# TypedDict 사용\n",
    "class Person(TypedDict):\n",
    "    name: str\n",
    "    age: int  # 정수형으로 명시\n",
    "    job: str\n",
    "\n",
    "\n",
    "typed_dict: Person = {\"name\": \"셜리\", \"age\": 25, \"job\": \"디자이너\"}"
   ]
  },
  {
   "cell_type": "code",
   "execution_count": 3,
   "id": "bd196bec",
   "metadata": {},
   "outputs": [],
   "source": [
    "# dict의 경우\n",
    "sample_dict[\"age\"] = 35  # 문자열에서 정수로 변경되어도 오류 없음\n",
    "sample_dict[\"new_field\"] = \"추가 정보\"  # 새로운 필드 추가 가능\n",
    "\n",
    "# TypedDict의 경우\n",
    "typed_dict[\"age\"] = 35  # 정수형으로 올바르게 사용\n",
    "typed_dict[\"age\"] = \"35\"  # 타입 체커가 오류를 감지함\n",
    "typed_dict[\"new_field\"] = (\n",
    "    \"추가 정보\"  # 타입 체커가 정의되지 않은 키라고 오류를 발생시킴\n",
    ")"
   ]
  },
  {
   "cell_type": "code",
   "execution_count": 4,
   "id": "57c9e1d1",
   "metadata": {},
   "outputs": [
    {
     "name": "stdout",
     "output_type": "stream",
     "text": [
      "유효한 직원 데이터: id=1 name='테디노트' age=30 salary=1000.0 skills=['Python', 'LangChain']\n",
      "유효성 검사 오류:\n",
      "- id: Field required\n",
      "- name: String should have at least 3 characters\n",
      "- age: Input should be greater than 18\n",
      "- salary: Input should be less than 10000\n",
      "- skills: Input should be a valid list\n"
     ]
    }
   ],
   "source": [
    "from typing import Annotated, List\n",
    "from pydantic import Field, BaseModel, ValidationError\n",
    "\n",
    "\n",
    "class Employee(BaseModel):\n",
    "    id: Annotated[int, Field(..., description=\"직원 ID\")]\n",
    "    name: Annotated[str, Field(..., min_length=3, max_length=50, description=\"이름\")]\n",
    "    age: Annotated[int, Field(gt=18, lt=65, description=\"나이 (19-64세)\")]\n",
    "    salary: Annotated[\n",
    "        float, Field(gt=0, lt=10000, description=\"연봉 (단위: 만원, 최대 10억)\")\n",
    "    ]\n",
    "    skills: Annotated[\n",
    "        List[str], Field(min_items=1, max_items=10, description=\"보유 기술 (1-10개)\")\n",
    "    ]\n",
    "\n",
    "\n",
    "# 유효한 데이터로 인스턴스 생성\n",
    "try:\n",
    "    valid_employee = Employee(\n",
    "        id=1, name=\"테디노트\", age=30, salary=1000, skills=[\"Python\", \"LangChain\"]\n",
    "    )\n",
    "    print(\"유효한 직원 데이터:\", valid_employee)\n",
    "except ValidationError as e:\n",
    "    print(\"유효성 검사 오류:\", e)\n",
    "\n",
    "# 유효하지 않은 데이터로 인스턴스 생성 시도\n",
    "try:\n",
    "    invalid_employee = Employee(\n",
    "        name=\"테디\",  # 이름이 너무 짧음\n",
    "        age=17,  # 나이가 범위를 벗어남\n",
    "        salary=20000,  # 급여가 범위를 벗어남\n",
    "        skills=\"Python\",  # 리스트가 아님\n",
    "    )\n",
    "except ValidationError as e:\n",
    "    print(\"유효성 검사 오류:\")\n",
    "    for error in e.errors():\n",
    "        print(f\"- {error['loc'][0]}: {error['msg']}\")"
   ]
  },
  {
   "cell_type": "code",
   "execution_count": 5,
   "id": "74e2ffbf",
   "metadata": {},
   "outputs": [
    {
     "name": "stdout",
     "output_type": "stream",
     "text": [
      "[HumanMessage(content='안녕하세요?', additional_kwargs={}, response_metadata={}, id='1'), AIMessage(content='반갑습니다~', additional_kwargs={}, response_metadata={}, id='2')]\n"
     ]
    }
   ],
   "source": [
    "from langchain_core.messages import AIMessage, HumanMessage\n",
    "from langgraph.graph import add_messages\n",
    "\n",
    "# 기본 사용 예시\n",
    "msgs1 = [HumanMessage(content=\"안녕하세요?\", id=\"1\")]\n",
    "msgs2 = [AIMessage(content=\"반갑습니다~\", id=\"2\")]\n",
    "\n",
    "result1 = add_messages(msgs1, msgs2)\n",
    "print(result1)"
   ]
  },
  {
   "cell_type": "code",
   "execution_count": 6,
   "id": "fd3451e5",
   "metadata": {},
   "outputs": [
    {
     "name": "stdout",
     "output_type": "stream",
     "text": [
      "[HumanMessage(content='반갑습니다~', additional_kwargs={}, response_metadata={}, id='1')]\n"
     ]
    }
   ],
   "source": [
    "# 동일한 ID를 가진 메시지 대체 예시\n",
    "msgs1 = [HumanMessage(content=\"안녕하세요?\", id=\"1\")]\n",
    "msgs2 = [HumanMessage(content=\"반갑습니다~\", id=\"1\")]\n",
    "\n",
    "result2 = add_messages(msgs1, msgs2)\n",
    "print(result2)"
   ]
  },
  {
   "cell_type": "code",
   "execution_count": null,
   "id": "6d3593d6",
   "metadata": {},
   "outputs": [],
   "source": [
    "\n"
   ]
  }
 ],
 "metadata": {
  "kernelspec": {
   "display_name": "venv (3.13.5)",
   "language": "python",
   "name": "python3"
  },
  "language_info": {
   "codemirror_mode": {
    "name": "ipython",
    "version": 3
   },
   "file_extension": ".py",
   "mimetype": "text/x-python",
   "name": "python",
   "nbconvert_exporter": "python",
   "pygments_lexer": "ipython3",
   "version": "3.13.5"
  }
 },
 "nbformat": 4,
 "nbformat_minor": 5
}
