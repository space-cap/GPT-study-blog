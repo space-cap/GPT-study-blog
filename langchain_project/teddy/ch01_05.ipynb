{
 "cells": [
  {
   "cell_type": "code",
   "execution_count": 1,
   "id": "588660d9",
   "metadata": {},
   "outputs": [
    {
     "data": {
      "text/plain": [
       "True"
      ]
     },
     "execution_count": 1,
     "metadata": {},
     "output_type": "execute_result"
    }
   ],
   "source": [
    "# API KEY를 환경변수로 관리하기 위한 설정 파일\n",
    "from dotenv import load_dotenv\n",
    "\n",
    "# API KEY 정보로드\n",
    "load_dotenv()"
   ]
  },
  {
   "cell_type": "code",
   "execution_count": 2,
   "id": "bd7dbe3c",
   "metadata": {},
   "outputs": [
    {
     "name": "stdout",
     "output_type": "stream",
     "text": [
      "LangSmith 추적을 시작합니다.\n",
      "[프로젝트명]\n",
      "CH01-Basic\n"
     ]
    }
   ],
   "source": [
    "# LangSmith 추적을 설정합니다. https://smith.langchain.com\n",
    "# !pip install -qU langchain-teddynote\n",
    "from langchain_teddynote import logging\n",
    "\n",
    "# 프로젝트 이름을 입력합니다.\n",
    "logging.langsmith(\"CH01-Basic\")"
   ]
  },
  {
   "cell_type": "code",
   "execution_count": 3,
   "id": "3bada3b9",
   "metadata": {},
   "outputs": [],
   "source": [
    "from langchain_teddynote.messages import stream_response  # 스트리밍 출력\n",
    "from langchain_core.prompts import PromptTemplate"
   ]
  },
  {
   "cell_type": "code",
   "execution_count": 4,
   "id": "9f021318",
   "metadata": {},
   "outputs": [
    {
     "data": {
      "text/plain": [
       "PromptTemplate(input_variables=['country'], input_types={}, partial_variables={}, template='{country}의 수도는 어디인가요?')"
      ]
     },
     "execution_count": 4,
     "metadata": {},
     "output_type": "execute_result"
    }
   ],
   "source": [
    "# template 정의\n",
    "template = \"{country}의 수도는 어디인가요?\"\n",
    "\n",
    "# from_template 메소드를 이용하여 PromptTemplate 객체 생성\n",
    "prompt_template = PromptTemplate.from_template(template)\n",
    "prompt_template"
   ]
  },
  {
   "cell_type": "code",
   "execution_count": 5,
   "id": "c7f38f4d",
   "metadata": {},
   "outputs": [
    {
     "data": {
      "text/plain": [
       "'대한민국의 수도는 어디인가요?'"
      ]
     },
     "execution_count": 5,
     "metadata": {},
     "output_type": "execute_result"
    }
   ],
   "source": [
    "# prompt 생성\n",
    "prompt = prompt_template.format(country=\"대한민국\")\n",
    "prompt"
   ]
  },
  {
   "cell_type": "code",
   "execution_count": 6,
   "id": "e5822a79",
   "metadata": {},
   "outputs": [
    {
     "data": {
      "text/plain": [
       "'미국의 수도는 어디인가요?'"
      ]
     },
     "execution_count": 6,
     "metadata": {},
     "output_type": "execute_result"
    }
   ],
   "source": [
    "prompt = prompt_template.format(country=\"미국\")\n",
    "prompt"
   ]
  },
  {
   "cell_type": "code",
   "execution_count": 7,
   "id": "442ce209",
   "metadata": {},
   "outputs": [],
   "source": [
    "from langchain_openai import ChatOpenAI\n",
    "\n",
    "model = ChatOpenAI(\n",
    "    model=\"gpt-4o-mini\",  # 모델명\n",
    "    max_tokens=100,\n",
    "    temperature=0.1,\n",
    ")"
   ]
  },
  {
   "cell_type": "code",
   "execution_count": 8,
   "id": "28c5f641",
   "metadata": {},
   "outputs": [],
   "source": [
    "# prompt 를 PromptTemplate 객체로 생성합니다.\n",
    "prompt = PromptTemplate.from_template(\"{topic} 에 대해 쉽게 설명해주세요.\")\n",
    "\n",
    "model = ChatOpenAI()\n",
    "\n",
    "chain = prompt | model"
   ]
  },
  {
   "cell_type": "code",
   "execution_count": 9,
   "id": "0cd82aca",
   "metadata": {},
   "outputs": [],
   "source": [
    "# input 딕셔너리에 주제를 '인공지능 모델의 학습 원리'으로 설정합니다.\n",
    "input = {\"topic\": \"인공지능 모델의 학습 원리\"}"
   ]
  },
  {
   "cell_type": "code",
   "execution_count": 10,
   "id": "ba0bde1e",
   "metadata": {},
   "outputs": [
    {
     "data": {
      "text/plain": [
       "AIMessage(content='인공지능 모델의 학습 원리는 데이터를 입력으로 넣어주고, 이 데이터를 기반으로 모델이 패턴이나 규칙을 학습하는 과정입니다. 모델은 입력 데이터를 분석하여 내부적으로 가중치를 조절하고 최적의 결과를 도출하기 위해 학습을 진행합니다. 이렇게 모델이 데이터를 학습하면서 점차적으로 정확도가 향상되고, 새로운 입력에 대해 더 나은 결과를 예측할 수 있게 됩니다. 학습 과정은 여러 번 반복되며, 모델이 학습한 내용을 평가하고 보완하여 더욱 정확한 결과를 얻을 수 있습니다.', additional_kwargs={'refusal': None}, response_metadata={'token_usage': {'completion_tokens': 218, 'prompt_tokens': 33, 'total_tokens': 251, 'completion_tokens_details': {'accepted_prediction_tokens': 0, 'audio_tokens': 0, 'reasoning_tokens': 0, 'rejected_prediction_tokens': 0}, 'prompt_tokens_details': {'audio_tokens': 0, 'cached_tokens': 0}}, 'model_name': 'gpt-3.5-turbo-0125', 'system_fingerprint': None, 'id': 'chatcmpl-BpBwV7Rywp1jdoF6rkh85pTbgO9ok', 'service_tier': 'default', 'finish_reason': 'stop', 'logprobs': None}, id='run--a310a336-6740-4548-bd30-6b4e6c6d667e-0', usage_metadata={'input_tokens': 33, 'output_tokens': 218, 'total_tokens': 251, 'input_token_details': {'audio': 0, 'cache_read': 0}, 'output_token_details': {'audio': 0, 'reasoning': 0}})"
      ]
     },
     "execution_count": 10,
     "metadata": {},
     "output_type": "execute_result"
    }
   ],
   "source": [
    "# prompt 객체와 model 객체를 파이프(|) 연산자로 연결하고 invoke 메서드를 사용하여 input을 전달합니다.\n",
    "# 이를 통해 AI 모델이 생성한 메시지를 반환합니다.\n",
    "chain.invoke(input)"
   ]
  },
  {
   "cell_type": "code",
   "execution_count": 11,
   "id": "3053f6d9",
   "metadata": {},
   "outputs": [
    {
     "name": "stdout",
     "output_type": "stream",
     "text": [
      "인공지능 모델의 학습 원리는 데이터를 입력으로 받아들여서 패턴이나 규칙을 발견하고 이를 기반으로 문제를 해결하는 과정입니다. 이러한 학습 과정은 크게 지도학습, 비지도학습, 강화학습으로 나눌 수 있습니다.\n",
      "\n",
      "- 지도학습: 모델에게 입력 데이터와 해당 데이터에 대한 정답인 레이블을 함께 제공하여 학습시키는 방법입니다. 모델은 입력 데이터를 분석하여 레이블을 예측하고, 이를 실제 레이블과 비교하면서 학습합니다.\n",
      "\n",
      "- 비지도학습: 모델에게 정답인 레이블을 제공하지 않고 데이터만을 입력으로 제공하여 학습시키는 방법입니다. 모델은 데이터 간의 패턴이나 규칙을 발견하고 이를 학습하여 문제를 해결합니다.\n",
      "\n",
      "- 강화학습: 모델이 환경과 상호작용하면서 보상을 최대화하는 방향으로 학습하는 방법입니다. 모델은 행동을 취하고 그에 대한 보상을 받아 보상을 최대화하는 방향으로 학습을 진행합니다.\n",
      "\n",
      "이러한 학습 원리를 바탕으로 모델은 학습 데이터를 바탕으로 최적의 패턴이나 규칙을 발견하여 새로운 데이터에 대해 정확한 예측을 할 수 있게 됩니다."
     ]
    }
   ],
   "source": [
    "# 스트리밍 출력을 위한 요청\n",
    "answer = chain.stream(input)\n",
    "# 스트리밍 출력\n",
    "stream_response(answer)"
   ]
  },
  {
   "cell_type": "code",
   "execution_count": 12,
   "id": "136fc78a",
   "metadata": {},
   "outputs": [],
   "source": [
    "from langchain_core.output_parsers import StrOutputParser\n",
    "\n",
    "output_parser = StrOutputParser()"
   ]
  },
  {
   "cell_type": "code",
   "execution_count": 13,
   "id": "3859dde3",
   "metadata": {},
   "outputs": [],
   "source": [
    "# 프롬프트, 모델, 출력 파서를 연결하여 처리 체인을 구성합니다.\n",
    "chain = prompt | model | output_parser"
   ]
  },
  {
   "cell_type": "code",
   "execution_count": 14,
   "id": "27eccd6b",
   "metadata": {},
   "outputs": [
    {
     "data": {
      "text/plain": [
       "'인공지능 모델의 학습 원리는 데이터를 입력받아 패턴을 학습하고 이를 기반으로 예측이나 결정을 수행하는 과정을 말합니다. 이를 위해서 모델은 입력 데이터와 정답 데이터를 이용하여 학습을 진행하며, 이 과정에서 모델은 데이터 간의 관계나 특징을 이해하고 학습합니다.\\n\\n일반적으로 모델은 입력 데이터를 받아 다양한 계층을 거쳐 내부적으로 연산이 진행되고, 이를 통해 입력 데이터의 패턴과 특징을 파악합니다. 이후에는 정답 데이터와 비교하여 예측의 오차를 줄이는 방향으로 모델을 학습시킵니다. 이 과정을 반복하여 모델이 입력 데이터에 대한 패턴을 학습하고 최적의 결과를 도출할 수 있도록 합니다.\\n\\n따라서 인공지능 모델의 학습 원리는 주어진 데이터를 통해 패턴을 학습하고, 학습된 지식을 바탕으로 새로운 데이터에 대한 예측이나 결정을 수행하는 것에 있습니다.'"
      ]
     },
     "execution_count": 14,
     "metadata": {},
     "output_type": "execute_result"
    }
   ],
   "source": [
    "# chain 객체의 invoke 메서드를 사용하여 input을 전달합니다.\n",
    "input = {\"topic\": \"인공지능 모델의 학습 원리\"}\n",
    "chain.invoke(input)"
   ]
  },
  {
   "cell_type": "code",
   "execution_count": 15,
   "id": "72e2bccd",
   "metadata": {},
   "outputs": [
    {
     "name": "stdout",
     "output_type": "stream",
     "text": [
      "인공지능 모델의 학습 원리는 데이터를 통해 패턴을 학습함으로써 이루어집니다. 먼저, 모델은 입력 데이터를 받아들여 이를 처리하고, 예측을 수행합니다. 이때 입력 데이터와 예측 결과 사이의 차이를 계산하고, 이 오차를 최소화하는 방향으로 모델의 가중치를 업데이트합니다. 이 과정을 반복하면서 모델은 점차 정확한 패턴을 학습하게 되어, 주어진 입력에 대해 정확한 예측을 하도록 향상됩니다. 이러한 방식으로 인공지능 모델은 데이터를 기반으로 문제를 해결하는 능력을 갖추게 됩니다."
     ]
    }
   ],
   "source": [
    "# 스트리밍 출력을 위한 요청\n",
    "answer = chain.stream(input)\n",
    "# 스트리밍 출력\n",
    "stream_response(answer)"
   ]
  },
  {
   "cell_type": "code",
   "execution_count": null,
   "id": "c16072fd",
   "metadata": {},
   "outputs": [],
   "source": [
    "template = \"\"\"\n",
    "당신은 영어를 가르치는 10년차 영어 선생님입니다. 상황에 [FORMAT]에 영어 회화를 작성해 주세요.\n",
    "\n",
    "상황:\n",
    "{question}\n",
    "\n",
    "FORMAT:\n",
    "- 영어 회화:\n",
    "- 한글 해석:\n",
    "\"\"\"\n",
    "\n",
    "# 프롬프트 템플릿을 이용하여 프롬프트를 생성합니다.\n",
    "prompt = PromptTemplate.from_template(template)\n",
    "\n",
    "# ChatOpenAI 챗모델을 초기화합니다.\n",
    "model = ChatOpenAI(model_name=\"gpt-4o-mini\", max_tokon=100, temperature=0.1)\n",
    "\n",
    "# 문자열 출력 파서를 초기화합니다.\n",
    "output_parser = StrOutputParser()\n"
   ]
  }
 ],
 "metadata": {
  "kernelspec": {
   "display_name": "venv",
   "language": "python",
   "name": "python3"
  },
  "language_info": {
   "codemirror_mode": {
    "name": "ipython",
    "version": 3
   },
   "file_extension": ".py",
   "mimetype": "text/x-python",
   "name": "python",
   "nbconvert_exporter": "python",
   "pygments_lexer": "ipython3",
   "version": "3.13.5"
  }
 },
 "nbformat": 4,
 "nbformat_minor": 5
}
