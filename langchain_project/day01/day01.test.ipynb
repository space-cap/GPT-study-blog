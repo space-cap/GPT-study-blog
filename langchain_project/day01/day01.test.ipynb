{
 "cells": [
  {
   "cell_type": "markdown",
   "metadata": {},
   "source": [
    "# 1장: 변수와 타입 – Fundamental Concepts of Assignment and Identity\n",
    "\n",
    "파이썬의 변수 할당, 객체 정체성, 그리고 메모리 관리에 대한 기본 개념을 학습하는 연습문제입니다."
   ]
  },
  {
   "cell_type": "markdown",
   "metadata": {},
   "source": [
    "## Q1. 리스트 참조와 정체성"
   ]
  },
  {
   "cell_type": "markdown",
   "metadata": {},
   "source": [
    "다음 코드의 출력 결과와 `a is b` 결과를 적으세요."
   ]
  },
  {
   "cell_type": "code",
   "execution_count": 1,
   "metadata": {},
   "outputs": [
    {
     "name": "stdout",
     "output_type": "stream",
     "text": [
      "a: [1, 2, 3, 4]\n",
      "a is b: True\n"
     ]
    }
   ],
   "source": [
    "a = [1, 2, 3]\n",
    "b = a\n",
    "b.append(4)\n",
    "print('a:', a)\n",
    "print('a is b:', a is b)"
   ]
  },
  {
   "cell_type": "markdown",
   "metadata": {},
   "source": [
    "**답안:**\n",
    "- 출력 결과: \n",
    "- `a is b` 결과: "
   ]
  },
  {
   "cell_type": "markdown",
   "metadata": {},
   "source": [
    "## Q2. Array 객체의 복사"
   ]
  },
  {
   "cell_type": "markdown",
   "metadata": {},
   "source": [
    "다음 코드의 출력 결과와 `x is y` 결과를 적으세요."
   ]
  },
  {
   "cell_type": "code",
   "execution_count": 2,
   "metadata": {},
   "outputs": [
    {
     "name": "stdout",
     "output_type": "stream",
     "text": [
      "x: array('i', [1, 2, 3])\n",
      "x is y: False\n"
     ]
    }
   ],
   "source": [
    "import array\n",
    "x = array.array('i', [1, 2, 3])\n",
    "y = array.array('i', x)\n",
    "y.append(4)\n",
    "print('x:', x)\n",
    "print('x is y:', x is y)"
   ]
  },
  {
   "cell_type": "markdown",
   "metadata": {},
   "source": [
    "**답안:**\n",
    "- 출력 결과: \n",
    "- `x is y` 결과: "
   ]
  },
  {
   "cell_type": "markdown",
   "metadata": {},
   "source": [
    "## Q3. 튜플과 리스트의 차이점"
   ]
  },
  {
   "cell_type": "markdown",
   "metadata": {},
   "source": [
    "튜플과 리스트의 차이점을 설명하고 다음 빈칸을 채우세요."
   ]
  },
  {
   "cell_type": "code",
   "execution_count": null,
   "metadata": {},
   "outputs": [],
   "source": [
    "a = (1, 2, 3)\n",
    "b = [1, 2, 3]\n",
    "# 튜플은 (      ) 타입이며, (변경 가능 / 불가능)\n",
    "# 리스트는 (      ) 타입이며, (변경 가능 / 불가능)"
   ]
  },
  {
   "cell_type": "markdown",
   "metadata": {},
   "source": [
    "**답안:**\n",
    "- 튜플은 (      ) 타입이며, (      )\n",
    "- 리스트는 (      ) 타입이며, (      )"
   ]
  },
  {
   "cell_type": "markdown",
   "metadata": {},
   "source": [
    "## Q4. `==`와 `is`의 차이"
   ]
  },
  {
   "cell_type": "markdown",
   "metadata": {},
   "source": [
    "`==`와 `is`의 차이를 설명하고, 아래 예제의 결과를 쓰세요."
   ]
  },
  {
   "cell_type": "code",
   "execution_count": null,
   "metadata": {},
   "outputs": [],
   "source": [
    "a = [1, 2]\n",
    "b = [1, 2]\n",
    "print(a == b)\n",
    "print(a is b)"
   ]
  },
  {
   "cell_type": "markdown",
   "metadata": {},
   "source": [
    "**답안:**\n",
    "- `==`와 `is`의 차이: \n",
    "- 출력 결과: "
   ]
  },
  {
   "cell_type": "markdown",
   "metadata": {},
   "source": [
    "## Q5. 파이썬의 작은 정수 캐싱"
   ]
  },
  {
   "cell_type": "markdown",
   "metadata": {},
   "source": [
    "파이썬의 작은 정수 캐싱 범위를 알고 있나요? 다음 코드를 보고 예측하세요."
   ]
  },
  {
   "cell_type": "code",
   "execution_count": null,
   "metadata": {},
   "outputs": [],
   "source": [
    "x = 256\n",
    "y = 256\n",
    "z = 1000\n",
    "w = 1000\n",
    "print(x is y)\n",
    "print(z is w)"
   ]
  },
  {
   "cell_type": "markdown",
   "metadata": {},
   "source": [
    "**답안:**\n",
    "- 예측 결과: \n",
    "- 이유: "
   ]
  },
  {
   "cell_type": "markdown",
   "metadata": {},
   "source": [
    "## Q6. 객체 ID 동일성"
   ]
  },
  {
   "cell_type": "markdown",
   "metadata": {},
   "source": [
    "다음 중 `id(a) == id(b)`를 만족하는 경우를 고르세요. (복수선택 및 무선택 가능)\n",
    "\n",
    "a. `a = [1, 2]; b = a`\n",
    "\n",
    "b. `a = [1, 2]; b = [1, 2]`\n",
    "\n",
    "c. `a = (1, 2); b = (1, 2)`\n",
    "\n",
    "d. `a = 300; b = 300`\n",
    "\n",
    "e. `a = 'abc'; b = 'abc'`"
   ]
  },
  {
   "cell_type": "code",
   "execution_count": null,
   "metadata": {},
   "outputs": [],
   "source": [
    "# 각 경우를 테스트해보세요\n",
    "# a. \n",
    "a = [1, 2]; b = a\n",
    "print(f\"a: id(a) == id(b) = {id(a) == id(b)}\")\n",
    "\n",
    "# b.\n",
    "a = [1, 2]; b = [1, 2]\n",
    "print(f\"b: id(a) == id(b) = {id(a) == id(b)}\")\n",
    "\n",
    "# c.\n",
    "a = (1, 2); b = (1, 2)\n",
    "print(f\"c: id(a) == id(b) = {id(a) == id(b)}\")\n",
    "\n",
    "# d.\n",
    "a = 300; b = 300\n",
    "print(f\"d: id(a) == id(b) = {id(a) == id(b)}\")\n",
    "\n",
    "# e.\n",
    "a = 'abc'; b = 'abc'\n",
    "print(f\"e: id(a) == id(b) = {id(a) == id(b)}\")"
   ]
  },
  {
   "cell_type": "markdown",
   "metadata": {},
   "source": [
    "**답안:** "
   ]
  },
  {
   "cell_type": "markdown",
   "metadata": {},
   "source": [
    "## Q7. 불변(immutable) 객체"
   ]
  },
  {
   "cell_type": "markdown",
   "metadata": {},
   "source": [
    "다음 중 불변(immutable) 객체가 아닌 것은 무엇이며 왜 아니라고 생각하는지 설명해보세요.\n",
    "\n",
    "1. int\n",
    "2. str\n",
    "3. list\n",
    "4. tuple\n",
    "5. float"
   ]
  },
  {
   "cell_type": "markdown",
   "metadata": {},
   "source": [
    "**답안:**\n",
    "- 불변 객체가 아닌 것: \n",
    "- 이유: "
   ]
  },
  {
   "cell_type": "markdown",
   "metadata": {},
   "source": [
    "## Q8. `id()` 함수의 의미"
   ]
  },
  {
   "cell_type": "markdown",
   "metadata": {},
   "source": [
    "`id()` 함수의 의미는 무엇인가요? 직접 예시를 들어 설명해보세요."
   ]
  },
  {
   "cell_type": "code",
   "execution_count": null,
   "metadata": {},
   "outputs": [],
   "source": [
    "# 여기에 예시 코드를 작성하세요\n"
   ]
  },
  {
   "cell_type": "markdown",
   "metadata": {},
   "source": [
    "**답안:**\n",
    "- `id()` 함수의 의미: \n",
    "- 예시 설명: "
   ]
  },
  {
   "cell_type": "markdown",
   "metadata": {},
   "source": [
    "## Q9. 변수 바인딩"
   ]
  },
  {
   "cell_type": "markdown",
   "metadata": {},
   "source": [
    "변수 바인딩이란 무엇인가요? 파이썬에서 `x = y`는 어떤 의미인가요?"
   ]
  },
  {
   "cell_type": "markdown",
   "metadata": {},
   "source": [
    "**답안:**\n",
    "- 변수 바인딩: \n",
    "- `x = y`의 의미: "
   ]
  },
  {
   "cell_type": "markdown",
   "metadata": {},
   "source": [
    "## Q10. `a is b`가 True를 반환할 가능성"
   ]
  },
  {
   "cell_type": "markdown",
   "metadata": {},
   "source": [
    "다음 중 `a is b`가 `True`를 반환할 가능성이 가장 높은 경우는? 본인의 생각을 작성해보세요.\n",
    "\n",
    "1. `a = 10; b = 10`\n",
    "2. `a = []; b = []`\n",
    "3. `a = {}; b = {}`\n",
    "4. `a = 'hello'; b = ''.join(['h','e','l','l','o'])`"
   ]
  },
  {
   "cell_type": "code",
   "execution_count": null,
   "metadata": {},
   "outputs": [],
   "source": [
    "# 각 경우를 테스트해보세요\n",
    "# 1.\n",
    "a = 10; b = 10\n",
    "print(f\"1: a is b = {a is b}\")\n",
    "\n",
    "# 2.\n",
    "a = []; b = []\n",
    "print(f\"2: a is b = {a is b}\")\n",
    "\n",
    "# 3.\n",
    "a = {}; b = {}\n",
    "print(f\"3: a is b = {a is b}\")\n",
    "\n",
    "# 4.\n",
    "a = 'hello'; b = ''.join(['h','e','l','l','o'])\n",
    "print(f\"4: a is b = {a is b}\")"
   ]
  },
  {
   "cell_type": "markdown",
   "metadata": {},
   "source": [
    "**답안:**\n",
    "- 가장 높은 가능성: \n",
    "- 이유: "
   ]
  },
  {
   "cell_type": "markdown",
   "metadata": {},
   "source": [
    "## Q11. 가변 객체로 인한 실무 버그"
   ]
  },
  {
   "cell_type": "markdown",
   "metadata": {},
   "source": [
    "리스트는 가변 객체입니다. 이 특징으로 인해 생길 수 있는 실무 버그 사례를 하나 들어보세요."
   ]
  },
  {
   "cell_type": "code",
   "execution_count": null,
   "metadata": {},
   "outputs": [],
   "source": [
    "# 버그 예시 코드를 작성해보세요\n"
   ]
  },
  {
   "cell_type": "markdown",
   "metadata": {},
   "source": [
    "**답안:**\n",
    "- 버그 사례: \n",
    "- 설명: "
   ]
  },
  {
   "cell_type": "markdown",
   "metadata": {},
   "source": [
    "## Q12. 기본 인수의 함정"
   ]
  },
  {
   "cell_type": "markdown",
   "metadata": {},
   "source": [
    "다음 코드의 문제점을 찾고 수정안을 제시하세요."
   ]
  },
  {
   "cell_type": "code",
   "execution_count": null,
   "metadata": {},
   "outputs": [],
   "source": [
    "def append_to(element, to=[]):\n",
    "    to.append(element)\n",
    "    return to\n",
    "\n",
    "# 문제를 확인해보세요\n",
    "print(append_to(1))\n",
    "print(append_to(2))"
   ]
  },
  {
   "cell_type": "code",
   "execution_count": null,
   "metadata": {},
   "outputs": [],
   "source": [
    "# 수정된 코드를 작성하세요\n",
    "def append_to_fixed(element, to=None):\n",
    "    # 여기에 수정된 코드를 작성하세요\n",
    "    pass"
   ]
  },
  {
   "cell_type": "markdown",
   "metadata": {},
   "source": [
    "**답안:**\n",
    "- 문제점: \n",
    "- 수정안: "
   ]
  },
  {
   "cell_type": "markdown",
   "metadata": {},
   "source": [
    "## Q13. 얕은 복사와 깊은 복사"
   ]
  },
  {
   "cell_type": "markdown",
   "metadata": {},
   "source": [
    "`copy.copy()`와 `copy.deepcopy()`의 차이를 예시와 함께 설명하세요."
   ]
  },
  {
   "cell_type": "code",
   "execution_count": null,
   "metadata": {},
   "outputs": [],
   "source": [
    "import copy\n",
    "\n",
    "# 예시 코드를 작성하세요\n",
    "original = [[1, 2, 3], [4, 5, 6]]\n",
    "\n",
    "# 얕은 복사\n",
    "shallow = copy.copy(original)\n",
    "\n",
    "# 깊은 복사\n",
    "deep = copy.deepcopy(original)\n",
    "\n",
    "# 차이점을 확인해보세요\n",
    "original[0].append(4)\n",
    "print(f\"Original: {original}\")\n",
    "print(f\"Shallow copy: {shallow}\")\n",
    "print(f\"Deep copy: {deep}\")"
   ]
  },
  {
   "cell_type": "markdown",
   "metadata": {},
   "source": [
    "**답안:**\n",
    "- `copy.copy()`의 특징: \n",
    "- `copy.deepcopy()`의 특징: \n",
    "- 차이점: "
   ]
  },
  {
   "cell_type": "markdown",
   "metadata": {},
   "source": [
    "## Q14. 파이썬의 인수 전달 방식"
   ]
  },
  {
   "cell_type": "markdown",
   "metadata": {},
   "source": [
    "파이썬에서 값을 전달할 때, call by value인지 reference인지 설명하고 예시를 드세요."
   ]
  },
  {
   "cell_type": "code",
   "execution_count": null,
   "metadata": {},
   "outputs": [],
   "source": [
    "# 예시 코드를 작성하세요\n",
    "def modify_list(lst):\n",
    "    lst.append(4)\n",
    "    print(f\"Inside function: {lst}\")\n",
    "\n",
    "def modify_int(num):\n",
    "    num += 10\n",
    "    print(f\"Inside function: {num}\")\n",
    "\n",
    "# 테스트\n",
    "my_list = [1, 2, 3]\n",
    "my_int = 5\n",
    "\n",
    "print(f\"Before: list = {my_list}, int = {my_int}\")\n",
    "modify_list(my_list)\n",
    "modify_int(my_int)\n",
    "print(f\"After: list = {my_list}, int = {my_int}\")"
   ]
  },
  {
   "cell_type": "markdown",
   "metadata": {},
   "source": [
    "**답안:**\n",
    "- 파이썬의 인수 전달 방식: \n",
    "- 설명: "
   ]
  },
  {
   "cell_type": "markdown",
   "metadata": {},
   "source": [
    "## Q15. 함수 내에서의 리스트 수정"
   ]
  },
  {
   "cell_type": "markdown",
   "metadata": {},
   "source": [
    "다음 코드를 실행하면 어떤 결과가 나올까요? 이유도 설명하세요."
   ]
  },
  {
   "cell_type": "code",
   "execution_count": null,
   "metadata": {},
   "outputs": [],
   "source": [
    "def f(x):\n",
    "    x += [4]\n",
    "\n",
    "a = [1, 2, 3]\n",
    "f(a)\n",
    "print(a)"
   ]
  },
  {
   "cell_type": "markdown",
   "metadata": {},
   "source": [
    "**답안:**\n",
    "- 예상 결과: \n",
    "- 이유: "
   ]
  },
  {
   "cell_type": "markdown",
   "metadata": {},
   "source": [
    "## Q16. 불변 객체 내부의 가변 객체"
   ]
  },
  {
   "cell_type": "markdown",
   "metadata": {},
   "source": [
    "불변 객체 내부에 가변 객체가 있을 때 생길 수 있는 문제를 예시와 함께 설명하세요."
   ]
  },
  {
   "cell_type": "code",
   "execution_count": null,
   "metadata": {},
   "outputs": [],
   "source": [
    "# 예시 코드를 작성하세요\n",
    "t = ([1, 2], [3, 4])\n",
    "print(f\"Original tuple: {t}\")\n",
    "\n",
    "# 튜플 내부의 리스트를 수정\n",
    "t[0].append(3)\n",
    "print(f\"After modification: {t}\")\n",
    "\n",
    "# 튜플의 id는 변하지 않음\n",
    "print(f\"Tuple id: {id(t)}\")"
   ]
  },
  {
   "cell_type": "markdown",
   "metadata": {},
   "source": [
    "**답안:**\n",
    "- 문제점: \n",
    "- 설명: "
   ]
  },
  {
   "cell_type": "markdown",
   "metadata": {},
   "source": [
    "## Q17. 메모리상 동일한 객체 개수"
   ]
  },
  {
   "cell_type": "markdown",
   "metadata": {},
   "source": [
    "아래 코드에서 메모리 상 동일한 객체는 몇 개인가요?"
   ]
  },
  {
   "cell_type": "code",
   "execution_count": null,
   "metadata": {},
   "outputs": [],
   "source": [
    "x = [1, 2, 3]\n",
    "y = x\n",
    "z = x[:]\n",
    "\n",
    "# id를 확인해보세요\n",
    "print(f\"x id: {id(x)}\")\n",
    "print(f\"y id: {id(y)}\")\n",
    "print(f\"z id: {id(z)}\")\n",
    "\n",
    "print(f\"x is y: {x is y}\")\n",
    "print(f\"x is z: {x is z}\")\n",
    "print(f\"y is z: {y is z}\")"
   ]
  },
  {
   "cell_type": "markdown",
   "metadata": {},
   "source": [
    "**답안:**\n",
    "- 메모리상 동일한 객체 개수: \n",
    "- 설명: "
   ]
  },
  {
   "cell_type": "markdown",
   "metadata": {},
   "source": [
    "## Q18. 슬라이싱과 list() 생성자"
   ]
  },
  {
   "cell_type": "markdown",
   "metadata": {},
   "source": [
    "`x = y[:]`와 `x = list(y)`는 어떤 차이가 있나요?"
   ]
  },
  {
   "cell_type": "code",
   "execution_count": null,
   "metadata": {},
   "outputs": [],
   "source": [
    "# 테스트 코드를 작성하세요\n",
    "y = [1, 2, 3]\n",
    "\n",
    "x1 = y[:]\n",
    "x2 = list(y)\n",
    "\n",
    "print(f\"y: {y}\")\n",
    "print(f\"x1 (y[:]): {x1}\")\n",
    "print(f\"x2 (list(y)): {x2}\")\n",
    "\n",
    "print(f\"x1 == x2: {x1 == x2}\")\n",
    "print(f\"x1 is x2: {x1 is x2}\")\n",
    "print(f\"x1 is y: {x1 is y}\")\n",
    "print(f\"x2 is y: {x2 is y}\")"
   ]
  },
  {
   "cell_type": "markdown",
   "metadata": {},
   "source": [
    "**답안:**\n",
    "- 차이점: \n",
    "- 설명: "
   ]
  },
  {
   "cell_type": "markdown",
   "metadata": {},
   "source": [
    "## Q19. 객체의 메모리 해제"
   ]
  },
  {
   "cell_type": "markdown",
   "metadata": {},
   "source": [
    "파이썬에서 객체가 메모리상에서 사라지는 시점은 언제인가요? 간단한 예를 드세요."
   ]
  },
  {
   "cell_type": "code",
   "execution_count": null,
   "metadata": {},
   "outputs": [],
   "source": [
    "# 예시 코드를 작성하세요\n",
    "import sys\n",
    "\n",
    "def create_object():\n",
    "    obj = [1, 2, 3, 4, 5] * 1000  # 큰 리스트 생성\n",
    "    print(f\"Object created, ref count: {sys.getrefcount(obj)}\")\n",
    "    return obj\n",
    "\n",
    "# 객체 생성 및 참조\n",
    "my_obj = create_object()\n",
    "print(f\"After assignment, ref count: {sys.getrefcount(my_obj)}\")\n",
    "\n",
    "# 참조 제거\n",
    "my_obj = None\n",
    "print(\"Reference removed\")"
   ]
  },
  {
   "cell_type": "markdown",
   "metadata": {},
   "source": [
    "**답안:**\n",
    "- 메모리 해제 시점: \n",
    "- 설명: "
   ]
  },
  {
   "cell_type": "markdown",
   "metadata": {},
   "source": [
    "## Q20. `del` 키워드"
   ]
  },
  {
   "cell_type": "markdown",
   "metadata": {},
   "source": [
    "파이썬에서 `del` 키워드의 역할은 무엇인가요? 예시와 함께 설명하세요."
   ]
  },
  {
   "cell_type": "code",
   "execution_count": null,
   "metadata": {},
   "outputs": [],
   "source": [
    "# 예시 코드를 작성하세요\n",
    "# 1. 변수 삭제\n",
    "x = [1, 2, 3]\n",
    "print(f\"Before del: x = {x}\")\n",
    "del x\n",
    "# print(x)  # 이 줄의 주석을 해제하면 NameError 발생\n",
    "\n",
    "# 2. 리스트 요소 삭제\n",
    "lst = [1, 2, 3, 4, 5]\n",
    "print(f\"Before del: {lst}\")\n",
    "del lst[2]\n",
    "print(f\"After del lst[2]: {lst}\")\n",
    "\n",
    "# 3. 딕셔너리 키 삭제\n",
    "d = {'a': 1, 'b': 2, 'c': 3}\n",
    "print(f\"Before del: {d}\")\n",
    "del d['b']\n",
    "print(f\"After del d['b']: {d}\")"
   ]
  },
  {
   "cell_type": "markdown",
   "metadata": {},
   "source": [
    "**답안:**\n",
    "- `del` 키워드의 역할: \n",
    "- 설명: "
   ]
  },
  {
   "cell_type": "markdown",
   "metadata": {},
   "source": [
    "---\n",
    "## 학습 정리\n",
    "\n",
    "이 연습문제를 통해 다음 개념들을 학습했습니다:\n",
    "\n",
    "1. **객체 정체성과 동등성**: `is`와 `==`의 차이\n",
    "2. **가변성과 불변성**: mutable vs immutable 객체\n",
    "3. **메모리 관리**: 객체 ID, 참조 카운팅, 가비지 컬렉션\n",
    "4. **복사**: 얕은 복사와 깊은 복사\n",
    "5. **함수 인수 전달**: 파이썬의 \"call by object reference\"\n",
    "6. **일반적인 함정**: 기본 인수, 가변 객체 공유 등\n",
    "\n",
    "이러한 개념들을 정확히 이해하는 것은 파이썬 프로그래밍에서 예상치 못한 버그를 방지하고 효율적인 코드를 작성하는 데 매우 중요합니다."
   ]
  }
 ],
 "metadata": {
  "kernelspec": {
   "display_name": "venv",
   "language": "python",
   "name": "python3"
  },
  "language_info": {
   "codemirror_mode": {
    "name": "ipython",
    "version": 3
   },
   "file_extension": ".py",
   "mimetype": "text/x-python",
   "name": "python",
   "nbconvert_exporter": "python",
   "pygments_lexer": "ipython3",
   "version": "3.13.5"
  }
 },
 "nbformat": 4,
 "nbformat_minor": 4
}
